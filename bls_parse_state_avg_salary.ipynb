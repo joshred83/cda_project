{
 "cells": [
  {
   "cell_type": "code",
   "execution_count": 64,
   "metadata": {},
   "outputs": [
    {
     "name": "stdout",
     "output_type": "stream",
     "text": [
      "<class 'pandas.core.frame.DataFrame'>\n",
      "Index: 1565 entries, 226310 to 227874\n",
      "Data columns (total 26 columns):\n",
      " #   Column       Non-Null Count  Dtype  \n",
      "---  ------       --------------  -----  \n",
      " 0   AREA         1565 non-null   int64  \n",
      " 1   AREA_TITLE   1565 non-null   object \n",
      " 2   NAICS        1565 non-null   object \n",
      " 3   NAICS_TITLE  1565 non-null   object \n",
      " 4   I_GROUP      1565 non-null   object \n",
      " 5   OCC_CODE     1565 non-null   object \n",
      " 6   OCC_TITLE    1565 non-null   object \n",
      " 7   O_GROUP      1565 non-null   object \n",
      " 8   TOT_EMP      1444 non-null   object \n",
      " 9   EMP_PRSE     1444 non-null   float64\n",
      " 10  PCT_TOTAL    1443 non-null   float64\n",
      " 11  H_MEAN       1524 non-null   float64\n",
      " 12  A_MEAN       1524 non-null   float64\n",
      " 13  MEAN_PRSE    1526 non-null   float64\n",
      " 14  H_PCT10      1524 non-null   float64\n",
      " 15  H_PCT25      1524 non-null   float64\n",
      " 16  H_MEDIAN     1524 non-null   float64\n",
      " 17  H_PCT75      1518 non-null   float64\n",
      " 18  H_PCT90      1490 non-null   float64\n",
      " 19  A_PCT10      1524 non-null   object \n",
      " 20  A_PCT25      1524 non-null   object \n",
      " 21  A_MEDIAN     1524 non-null   object \n",
      " 22  A_PCT75      1518 non-null   object \n",
      " 23  A_PCT90      1490 non-null   object \n",
      " 24  ANNUAL       0 non-null      float64\n",
      " 25  HOURLY       0 non-null      float64\n",
      "dtypes: float64(12), int64(1), object(13)\n",
      "memory usage: 330.1+ KB\n",
      "<class 'pandas.core.frame.DataFrame'>\n",
      "Index: 1565 entries, 226310 to 227874\n",
      "Data columns (total 26 columns):\n",
      " #   Column       Non-Null Count  Dtype  \n",
      "---  ------       --------------  -----  \n",
      " 0   AREA         1565 non-null   int64  \n",
      " 1   AREA_TITLE   1565 non-null   object \n",
      " 2   NAICS        1565 non-null   object \n",
      " 3   NAICS_TITLE  1565 non-null   object \n",
      " 4   I_GROUP      1565 non-null   object \n",
      " 5   OCC_CODE     1565 non-null   object \n",
      " 6   OCC_TITLE    1565 non-null   object \n",
      " 7   O_GROUP      1565 non-null   object \n",
      " 8   TOT_EMP      1444 non-null   float64\n",
      " 9   EMP_PRSE     1444 non-null   float64\n",
      " 10  PCT_TOTAL    1443 non-null   float64\n",
      " 11  H_MEAN       1524 non-null   float64\n",
      " 12  A_MEAN       1524 non-null   float64\n",
      " 13  MEAN_PRSE    1526 non-null   float64\n",
      " 14  H_PCT10      1524 non-null   float64\n",
      " 15  H_PCT25      1524 non-null   float64\n",
      " 16  H_MEDIAN     1524 non-null   float64\n",
      " 17  H_PCT75      1518 non-null   float64\n",
      " 18  H_PCT90      1490 non-null   float64\n",
      " 19  A_PCT10      1524 non-null   object \n",
      " 20  A_PCT25      1524 non-null   object \n",
      " 21  A_MEDIAN     1524 non-null   object \n",
      " 22  A_PCT75      1518 non-null   object \n",
      " 23  A_PCT90      1490 non-null   object \n",
      " 24  ANNUAL       0 non-null      float64\n",
      " 25  HOURLY       0 non-null      float64\n",
      "dtypes: float64(13), int64(1), object(12)\n",
      "memory usage: 330.1+ KB\n"
     ]
    }
   ],
   "source": [
    "import pandas as pd\n",
    "import numpy as np\n",
    "\n",
    "\n",
    "# Assuming 'data/2022_oes_ds_st_indus.csv' is the correct path to your file\n",
    "df = pd.read_csv(\n",
    "    \"data/2022_oes_ds_st_indus.csv\", index_col=0, na_values=[\"**\", \"*\", \"~\", \"#\"]\n",
    ")\n",
    "\n",
    "# To replace commas and convert to float, we should apply a lambda function that replaces commas across all selected columns\n",
    "df[\"A_MEAN\"] = df.A_MEAN.str.replace(\n",
    "    \",\",\n",
    "    \"\",\n",
    ").astype(\"float\")\n",
    "df.info()\n",
    "df[\"TOT_EMP\"] = df.TOT_EMP.str.replace(\n",
    "    \",\",\n",
    "    \"\",\n",
    ").astype(\"float\")\n",
    "df.info()\n"
   ]
  },
  {
   "cell_type": "code",
   "execution_count": 65,
   "metadata": {},
   "outputs": [],
   "source": [
    "state = df[[\"AREA_TITLE\", \"TOT_EMP\", \"A_MEAN\"]]\n",
    "\n",
    "# Undo the average using the weight\n",
    "state.loc[:, \"A_MEAN\"] = state[\"A_MEAN\"] * state[\"TOT_EMP\"]\n",
    "\n",
    "# Groupby and sum to get the total employment weighted average\n",
    "state = state.groupby(\"AREA_TITLE\").sum(numeric_only=True)\n",
    "\n",
    "# Reweight the average\n",
    "\n",
    "state[\"A_MEAN\"] = state[\"A_MEAN\"] / state[\"TOT_EMP\"]\n"
   ]
  },
  {
   "cell_type": "code",
   "execution_count": 66,
   "metadata": {},
   "outputs": [
    {
     "data": {
      "text/plain": [
       "227753   NaN\n",
       "227754   NaN\n",
       "227755   NaN\n",
       "227756   NaN\n",
       "Name: TOT_EMP, dtype: float64"
      ]
     },
     "execution_count": 66,
     "metadata": {},
     "output_type": "execute_result"
    }
   ],
   "source": [
    "df[df[\"AREA_TITLE\"] == \"Vermont\"][\"TOT_EMP\"]\n"
   ]
  },
  {
   "cell_type": "code",
   "execution_count": 70,
   "metadata": {},
   "outputs": [
    {
     "data": {
      "text/html": [
       "<div>\n",
       "<style scoped>\n",
       "    .dataframe tbody tr th:only-of-type {\n",
       "        vertical-align: middle;\n",
       "    }\n",
       "\n",
       "    .dataframe tbody tr th {\n",
       "        vertical-align: top;\n",
       "    }\n",
       "\n",
       "    .dataframe thead th {\n",
       "        text-align: right;\n",
       "    }\n",
       "</style>\n",
       "<table border=\"1\" class=\"dataframe\">\n",
       "  <thead>\n",
       "    <tr style=\"text-align: right;\">\n",
       "      <th></th>\n",
       "      <th>AREA_TITLE</th>\n",
       "      <th>TOT_EMP</th>\n",
       "      <th>A_MEAN</th>\n",
       "    </tr>\n",
       "  </thead>\n",
       "  <tbody>\n",
       "    <tr>\n",
       "      <th>0</th>\n",
       "      <td>Alabama</td>\n",
       "      <td>2840.0</td>\n",
       "      <td>96254.190141</td>\n",
       "    </tr>\n",
       "    <tr>\n",
       "      <th>1</th>\n",
       "      <td>Alaska</td>\n",
       "      <td>130.0</td>\n",
       "      <td>132686.153846</td>\n",
       "    </tr>\n",
       "    <tr>\n",
       "      <th>2</th>\n",
       "      <td>Arizona</td>\n",
       "      <td>6720.0</td>\n",
       "      <td>105691.443452</td>\n",
       "    </tr>\n",
       "    <tr>\n",
       "      <th>3</th>\n",
       "      <td>California</td>\n",
       "      <td>90220.0</td>\n",
       "      <td>128726.526269</td>\n",
       "    </tr>\n",
       "    <tr>\n",
       "      <th>4</th>\n",
       "      <td>Colorado</td>\n",
       "      <td>9530.0</td>\n",
       "      <td>117141.867786</td>\n",
       "    </tr>\n",
       "  </tbody>\n",
       "</table>\n",
       "</div>"
      ],
      "text/plain": [
       "   AREA_TITLE  TOT_EMP         A_MEAN\n",
       "0     Alabama   2840.0   96254.190141\n",
       "1      Alaska    130.0  132686.153846\n",
       "2     Arizona   6720.0  105691.443452\n",
       "3  California  90220.0  128726.526269\n",
       "4    Colorado   9530.0  117141.867786"
      ]
     },
     "execution_count": 70,
     "metadata": {},
     "output_type": "execute_result"
    }
   ],
   "source": [
    "state.to_csv(\"data/2022_oes_state_salary.csv\")\n",
    "pd.read_csv(\"data/2022_oes_state_salary.csv\").head()\n"
   ]
  },
  {
   "cell_type": "code",
   "execution_count": null,
   "metadata": {},
   "outputs": [],
   "source": []
  }
 ],
 "metadata": {
  "kernelspec": {
   "display_name": "cda_project",
   "language": "python",
   "name": "python3"
  },
  "language_info": {
   "codemirror_mode": {
    "name": "ipython",
    "version": 3
   },
   "file_extension": ".py",
   "mimetype": "text/x-python",
   "name": "python",
   "nbconvert_exporter": "python",
   "pygments_lexer": "ipython3",
   "version": "3.12.1"
  }
 },
 "nbformat": 4,
 "nbformat_minor": 2
}
