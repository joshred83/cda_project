{
 "cells": [
  {
   "cell_type": "code",
   "execution_count": 6,
   "metadata": {},
   "outputs": [],
   "source": [
    "import requests\n",
    "from dotenv import load_dotenv\n",
    "import os\n",
    "import pandas as pd\n",
    "\n",
    "# Load environment variables\n",
    "load_dotenv()\n",
    "\n",
    "# Retrieve API key from environment variables\n",
    "api_key = os.getenv(\"CENSUS_API_KEY\")\n",
    "\n",
    "# Base URL for the Census API\n",
    "base_url = \"https://api.census.gov/data\"\n",
    "\n",
    "# Specify the year, dataset, and variables you are interested in\n",
    "year = \"2020\"\n",
    "dataset = \"acs/acs5\"\n",
    "variables = \"NAME,B01001_001E\"  # Example variable for total population\n",
    "\n",
    "county2fips = {\n",
    "    \"Barrow\": \"13013\",\n",
    "    \"Bartow\": \"13015\",\n",
    "    \"Butts\": \"13035\",\n",
    "    \"Carroll\": \"13045\",\n",
    "    \"Cherokee\": \"13057\",\n",
    "    \"Clayton\": \"13063\",\n",
    "    \"Cobb\": \"13067\",\n",
    "    \"Coweta\": \"13077\",\n",
    "    \"Dawson\": \"13085\",\n",
    "    \"DeKalb\": \"13089\",\n",
    "    \"Douglas\": \"13097\",\n",
    "    \"Fayette\": \"13113\",\n",
    "    \"Forsyth\": \"13117\",\n",
    "    \"Fulton\": \"13121\",\n",
    "    \"Gwinnett\": \"13135\",\n",
    "    \"Haralson\": \"13143\",\n",
    "    \"Heard\": \"13149\",\n",
    "    \"Henry\": \"13151\",\n",
    "    \"Jasper\": \"13159\",\n",
    "    \"Lamar\": \"13171\",\n",
    "    \"Meriwether\": \"13199\",\n",
    "    \"Morgan\": \"13211\",\n",
    "    \"Newton\": \"13217\",\n",
    "    \"Paulding\": \"13223\",\n",
    "    \"Pickens\": \"13227\",\n",
    "    \"Pike\": \"13231\",\n",
    "    \"Rockdale\": \"13247\",\n",
    "    \"Spalding\": \"13255\",\n",
    "}\n",
    "df = pd.DataFrame()\n",
    "for county, fips in county2fips.items():\n",
    "    st_fips = fips[:2]\n",
    "    cty_fips = fips[2:]\n",
    "    url = f\"https://api.census.gov/data/2022/acs/acs5?get=NAME,B01001_001E&for=block group:*&in=state:{st_fips}+county:{cty_fips}&key={api_key}\"\n",
    "    resp = requests.get(url)\n",
    "\n",
    "    data = resp.json()\n",
    "    df = pd.concat([df, pd.DataFrame(data=data[1:], columns=data[0])])\n"
   ]
  },
  {
   "cell_type": "code",
   "execution_count": 7,
   "metadata": {},
   "outputs": [
    {
     "ename": "ModuleNotFoundError",
     "evalue": "No module named 'geopandas'",
     "output_type": "error",
     "traceback": [
      "\u001b[0;31m---------------------------------------------------------------------------\u001b[0m",
      "\u001b[0;31mModuleNotFoundError\u001b[0m                       Traceback (most recent call last)",
      "Cell \u001b[0;32mIn[7], line 1\u001b[0m\n\u001b[0;32m----> 1\u001b[0m \u001b[38;5;28;01mimport\u001b[39;00m \u001b[38;5;21;01mgeopandas\u001b[39;00m \u001b[38;5;28;01mas\u001b[39;00m \u001b[38;5;21;01mgpd\u001b[39;00m\n\u001b[1;32m      3\u001b[0m \u001b[38;5;66;03m# Specify the output directory for TIGER files\u001b[39;00m\n\u001b[1;32m      4\u001b[0m output_dir \u001b[38;5;241m=\u001b[39m \u001b[38;5;124m\"\u001b[39m\u001b[38;5;124mdata/tiger_files/\u001b[39m\u001b[38;5;124m\"\u001b[39m\n",
      "\u001b[0;31mModuleNotFoundError\u001b[0m: No module named 'geopandas'"
     ]
    }
   ],
   "source": [
    "import geopandas as gpd\n",
    "\n",
    "# Specify the output directory for TIGER files\n",
    "output_dir = \"data/tiger_files/\"\n",
    "\n",
    "# Create a GeoDataFrame from the DataFrame containing block group data\n",
    "gdf = gpd.GeoDataFrame(df, geometry=gpd.points_from_xy(df[\"longitude\"], df[\"latitude\"]))\n",
    "\n",
    "# Download TIGER files for each block group\n",
    "for index, row in gdf.iterrows():\n",
    "    state = row[\"state\"]\n",
    "    county = row[\"county\"]\n",
    "    tract = row[\"tract\"]\n",
    "    block_group = row[\"block group\"]\n",
    "\n",
    "    # Construct the URL for downloading the TIGER file\n",
    "    url = f\"https://www2.census.gov/geo/tiger/TIGER{year}/BG/tl_{year}_{state}{county}{tract}{block_group}.zip\"\n",
    "\n",
    "    # Download the TIGER file\n",
    "    gpd.read_file(url).to_file(\n",
    "        output_dir + f\"tl_{year}_{state}{county}{tract}{block_group}.shp\"\n",
    "    )\n"
   ]
  },
  {
   "cell_type": "code",
   "execution_count": 5,
   "metadata": {},
   "outputs": [],
   "source": [
    "df.to_csv(\"data/atlanta_metro_block.csv\", index=False)\n"
   ]
  },
  {
   "cell_type": "code",
   "execution_count": null,
   "metadata": {},
   "outputs": [],
   "source": []
  }
 ],
 "metadata": {
  "kernelspec": {
   "display_name": "cda_project",
   "language": "python",
   "name": "python3"
  },
  "language_info": {
   "codemirror_mode": {
    "name": "ipython",
    "version": 3
   },
   "file_extension": ".py",
   "mimetype": "text/x-python",
   "name": "python",
   "nbconvert_exporter": "python",
   "pygments_lexer": "ipython3",
   "version": "3.12.1"
  }
 },
 "nbformat": 4,
 "nbformat_minor": 2
}
