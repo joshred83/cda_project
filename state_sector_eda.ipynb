{
 "cells": [
  {
   "cell_type": "code",
   "execution_count": 3,
   "metadata": {},
   "outputs": [],
   "source": [
    "%load_ext autoreload\n",
    "%autoreload\n",
    "import pandas as pd\n",
    "import plotly.express as px\n",
    "import os\n",
    "from mappings import shorten_sector_name, expand_sector_name, state_replacer\n",
    "\n",
    "import seaborn as sns\n",
    "import matplotlib.pyplot as plt"
   ]
  },
  {
   "cell_type": "code",
   "execution_count": 4,
   "metadata": {},
   "outputs": [
    {
     "data": {
      "text/plain": [
       "<function mappings.expand_sector_name(shortnames)>"
      ]
     },
     "execution_count": 4,
     "metadata": {},
     "output_type": "execute_result"
    }
   ],
   "source": [
    "expand_sector_name"
   ]
  },
  {
   "cell_type": "code",
   "execution_count": 5,
   "metadata": {},
   "outputs": [
    {
     "data": {
      "text/html": [
       "<div>\n",
       "<style scoped>\n",
       "    .dataframe tbody tr th:only-of-type {\n",
       "        vertical-align: middle;\n",
       "    }\n",
       "\n",
       "    .dataframe tbody tr th {\n",
       "        vertical-align: top;\n",
       "    }\n",
       "\n",
       "    .dataframe thead th {\n",
       "        text-align: right;\n",
       "    }\n",
       "</style>\n",
       "<table border=\"1\" class=\"dataframe\">\n",
       "  <thead>\n",
       "    <tr style=\"text-align: right;\">\n",
       "      <th></th>\n",
       "      <th>state</th>\n",
       "      <th>sector</th>\n",
       "      <th>state_sector_tot_headcount</th>\n",
       "      <th>state_sector_salary</th>\n",
       "      <th>ds_state_sector_headcount</th>\n",
       "      <th>ds_state_sector_salary</th>\n",
       "      <th>ds_state_sector_pct</th>\n",
       "      <th>ds_state_tot_headcount</th>\n",
       "      <th>ds_state_mdn_salary</th>\n",
       "      <th>ds_sector_salary</th>\n",
       "    </tr>\n",
       "  </thead>\n",
       "  <tbody>\n",
       "    <tr>\n",
       "      <th>0</th>\n",
       "      <td>Alabama</td>\n",
       "      <td>Agriculture, Forestry, Fishing and Hunting</td>\n",
       "      <td>5800.0</td>\n",
       "      <td>41080.0</td>\n",
       "      <td>NaN</td>\n",
       "      <td>NaN</td>\n",
       "      <td>NaN</td>\n",
       "      <td>NaN</td>\n",
       "      <td>85870.0</td>\n",
       "      <td>NaN</td>\n",
       "    </tr>\n",
       "    <tr>\n",
       "      <th>1</th>\n",
       "      <td>Alaska</td>\n",
       "      <td>Agriculture, Forestry, Fishing and Hunting</td>\n",
       "      <td>210.0</td>\n",
       "      <td>57260.0</td>\n",
       "      <td>NaN</td>\n",
       "      <td>NaN</td>\n",
       "      <td>NaN</td>\n",
       "      <td>150.0</td>\n",
       "      <td>100040.0</td>\n",
       "      <td>NaN</td>\n",
       "    </tr>\n",
       "  </tbody>\n",
       "</table>\n",
       "</div>"
      ],
      "text/plain": [
       "     state                                      sector  \\\n",
       "0  Alabama  Agriculture, Forestry, Fishing and Hunting   \n",
       "1   Alaska  Agriculture, Forestry, Fishing and Hunting   \n",
       "\n",
       "   state_sector_tot_headcount  state_sector_salary  ds_state_sector_headcount  \\\n",
       "0                      5800.0              41080.0                        NaN   \n",
       "1                       210.0              57260.0                        NaN   \n",
       "\n",
       "   ds_state_sector_salary  ds_state_sector_pct  ds_state_tot_headcount  \\\n",
       "0                     NaN                  NaN                     NaN   \n",
       "1                     NaN                  NaN                   150.0   \n",
       "\n",
       "   ds_state_mdn_salary  ds_sector_salary  \n",
       "0              85870.0               NaN  \n",
       "1             100040.0               NaN  "
      ]
     },
     "execution_count": 5,
     "metadata": {},
     "output_type": "execute_result"
    }
   ],
   "source": [
    "df = pd.read_csv(\n",
    "    \"data/imputation/state_sector_data.csv\",\n",
    ")\n",
    "df.head(2)"
   ]
  },
  {
   "cell_type": "code",
   "execution_count": 6,
   "metadata": {},
   "outputs": [],
   "source": [
    "def weighted_average(df, counts, values, groups=None):\n",
    "    df = df.copy()\n",
    "    df[\"weighted\"] = df[counts] * df[values]\n",
    "    if groups is not None:\n",
    "        g = df.groupby(groups)[[\"weighted\", counts]].sum()\n",
    "\n",
    "    elif groups is None:\n",
    "        g = df.sum()\n",
    "\n",
    "    g[values] = g[\"weighted\"] / g[counts]\n",
    "    return g[values]\n",
    "\n",
    "\n",
    "if \"ds_sector_salary\" not in df.columns:\n",
    "    sector_median = weighted_average(\n",
    "        df,\n",
    "        counts=\"ds_state_sector_headcount\",\n",
    "        values=\"ds_state_sector_salary\",\n",
    "        groups=\"sector\",\n",
    "    )\n",
    "    sector_median = sector_median.rename(\"ds_sector_salary\")\n",
    "    df = df.merge(sector_median, left_on=\"sector\", right_index=True)"
   ]
  },
  {
   "cell_type": "code",
   "execution_count": 7,
   "metadata": {},
   "outputs": [
    {
     "data": {
      "text/plain": [
       "state\n",
       "Alabama                  90407.209302\n",
       "Alaska                  112181.428571\n",
       "Arizona                 104125.692308\n",
       "Arkansas                          NaN\n",
       "California              127714.948980\n",
       "Colorado                105450.294118\n",
       "Connecticut             102878.977273\n",
       "Delaware                132350.000000\n",
       "District of Columbia     91812.607261\n",
       "Florida                  99140.442260\n",
       "Georgia                 102290.863039\n",
       "Hawaii                  100400.000000\n",
       "Idaho                    96240.769231\n",
       "Illinois                104890.033898\n",
       "Indiana                  73654.719626\n",
       "Iowa                     94864.946809\n",
       "Kansas                   89730.625000\n",
       "Kentucky                 91699.729730\n",
       "Louisiana                         NaN\n",
       "Maine                    99188.219178\n",
       "Maryland                119644.843750\n",
       "Massachusetts           110259.219858\n",
       "Michigan                 90518.661202\n",
       "Minnesota               111405.723684\n",
       "Mississippi              49398.181818\n",
       "Missouri                 76286.935065\n",
       "Montana                  50230.000000\n",
       "Nebraska                 89140.083333\n",
       "Nevada                   38917.285714\n",
       "New Hampshire            72587.358491\n",
       "New Jersey              123044.691943\n",
       "New Mexico               62460.800000\n",
       "New York                124036.875425\n",
       "North Carolina          119893.440454\n",
       "North Dakota                      NaN\n",
       "Ohio                     93768.132911\n",
       "Oklahoma                 79060.958084\n",
       "Oregon                  104633.269231\n",
       "Pennsylvania             93086.677266\n",
       "Rhode Island            119998.679245\n",
       "South Carolina          104754.090909\n",
       "South Dakota            106567.000000\n",
       "Tennessee                82041.061947\n",
       "Texas                    94348.888076\n",
       "Utah                     82181.598639\n",
       "Vermont                           NaN\n",
       "Virginia                131548.246014\n",
       "Washington              123805.427873\n",
       "West Virginia            64690.000000\n",
       "Wisconsin                90340.902256\n",
       "Wyoming                           NaN\n",
       "Name: ds_state_sector_salary, dtype: float64"
      ]
     },
     "execution_count": 7,
     "metadata": {},
     "output_type": "execute_result"
    }
   ],
   "source": [
    "weighted_average(\n",
    "    df,\n",
    "    counts=\"ds_state_sector_headcount\",\n",
    "    values=\"ds_state_sector_salary\",\n",
    "    groups=\"state\",\n",
    ")"
   ]
  },
  {
   "cell_type": "code",
   "execution_count": 8,
   "metadata": {},
   "outputs": [
    {
     "data": {
      "text/html": [
       "<div>\n",
       "<style scoped>\n",
       "    .dataframe tbody tr th:only-of-type {\n",
       "        vertical-align: middle;\n",
       "    }\n",
       "\n",
       "    .dataframe tbody tr th {\n",
       "        vertical-align: top;\n",
       "    }\n",
       "\n",
       "    .dataframe thead th {\n",
       "        text-align: right;\n",
       "    }\n",
       "</style>\n",
       "<table border=\"1\" class=\"dataframe\">\n",
       "  <thead>\n",
       "    <tr style=\"text-align: right;\">\n",
       "      <th></th>\n",
       "      <th>state</th>\n",
       "      <th>sector</th>\n",
       "      <th>state_sector_tot_headcount</th>\n",
       "      <th>state_sector_salary</th>\n",
       "      <th>ds_state_sector_headcount</th>\n",
       "      <th>ds_state_sector_salary</th>\n",
       "      <th>ds_state_sector_pct</th>\n",
       "      <th>ds_state_tot_headcount</th>\n",
       "      <th>ds_state_mdn_salary</th>\n",
       "      <th>ds_sector_salary</th>\n",
       "      <th>in_state_sector_rank</th>\n",
       "    </tr>\n",
       "  </thead>\n",
       "  <tbody>\n",
       "    <tr>\n",
       "      <th>0</th>\n",
       "      <td>Alabama</td>\n",
       "      <td>Agriculture, Forestry, Fishing and Hunting</td>\n",
       "      <td>5800.0</td>\n",
       "      <td>41080.0</td>\n",
       "      <td>NaN</td>\n",
       "      <td>NaN</td>\n",
       "      <td>NaN</td>\n",
       "      <td>NaN</td>\n",
       "      <td>85870.0</td>\n",
       "      <td>NaN</td>\n",
       "      <td>NaN</td>\n",
       "    </tr>\n",
       "    <tr>\n",
       "      <th>1</th>\n",
       "      <td>Alaska</td>\n",
       "      <td>Agriculture, Forestry, Fishing and Hunting</td>\n",
       "      <td>210.0</td>\n",
       "      <td>57260.0</td>\n",
       "      <td>NaN</td>\n",
       "      <td>NaN</td>\n",
       "      <td>NaN</td>\n",
       "      <td>150.0</td>\n",
       "      <td>100040.0</td>\n",
       "      <td>NaN</td>\n",
       "      <td>NaN</td>\n",
       "    </tr>\n",
       "    <tr>\n",
       "      <th>2</th>\n",
       "      <td>Arizona</td>\n",
       "      <td>Agriculture, Forestry, Fishing and Hunting</td>\n",
       "      <td>9840.0</td>\n",
       "      <td>30080.0</td>\n",
       "      <td>NaN</td>\n",
       "      <td>NaN</td>\n",
       "      <td>NaN</td>\n",
       "      <td>2860.0</td>\n",
       "      <td>102770.0</td>\n",
       "      <td>NaN</td>\n",
       "      <td>NaN</td>\n",
       "    </tr>\n",
       "    <tr>\n",
       "      <th>3</th>\n",
       "      <td>Arkansas</td>\n",
       "      <td>Agriculture, Forestry, Fishing and Hunting</td>\n",
       "      <td>4120.0</td>\n",
       "      <td>37920.0</td>\n",
       "      <td>NaN</td>\n",
       "      <td>NaN</td>\n",
       "      <td>NaN</td>\n",
       "      <td>NaN</td>\n",
       "      <td>NaN</td>\n",
       "      <td>NaN</td>\n",
       "      <td>NaN</td>\n",
       "    </tr>\n",
       "    <tr>\n",
       "      <th>4</th>\n",
       "      <td>California</td>\n",
       "      <td>Agriculture, Forestry, Fishing and Hunting</td>\n",
       "      <td>239210.0</td>\n",
       "      <td>33540.0</td>\n",
       "      <td>NaN</td>\n",
       "      <td>NaN</td>\n",
       "      <td>NaN</td>\n",
       "      <td>29420.0</td>\n",
       "      <td>126810.0</td>\n",
       "      <td>NaN</td>\n",
       "      <td>NaN</td>\n",
       "    </tr>\n",
       "    <tr>\n",
       "      <th>...</th>\n",
       "      <td>...</td>\n",
       "      <td>...</td>\n",
       "      <td>...</td>\n",
       "      <td>...</td>\n",
       "      <td>...</td>\n",
       "      <td>...</td>\n",
       "      <td>...</td>\n",
       "      <td>...</td>\n",
       "      <td>...</td>\n",
       "      <td>...</td>\n",
       "      <td>...</td>\n",
       "    </tr>\n",
       "    <tr>\n",
       "      <th>1004</th>\n",
       "      <td>Virginia</td>\n",
       "      <td>Federal, State, and Local Government, excludin...</td>\n",
       "      <td>357640.0</td>\n",
       "      <td>65750.0</td>\n",
       "      <td>50.0</td>\n",
       "      <td>84680.0</td>\n",
       "      <td>0.01</td>\n",
       "      <td>4500.0</td>\n",
       "      <td>132400.0</td>\n",
       "      <td>79426.827309</td>\n",
       "      <td>9.0</td>\n",
       "    </tr>\n",
       "    <tr>\n",
       "      <th>1005</th>\n",
       "      <td>Washington</td>\n",
       "      <td>Federal, State, and Local Government, excludin...</td>\n",
       "      <td>258360.0</td>\n",
       "      <td>77760.0</td>\n",
       "      <td>NaN</td>\n",
       "      <td>NaN</td>\n",
       "      <td>NaN</td>\n",
       "      <td>4160.0</td>\n",
       "      <td>135850.0</td>\n",
       "      <td>79426.827309</td>\n",
       "      <td>NaN</td>\n",
       "    </tr>\n",
       "    <tr>\n",
       "      <th>1006</th>\n",
       "      <td>West Virginia</td>\n",
       "      <td>Federal, State, and Local Government, excludin...</td>\n",
       "      <td>76640.0</td>\n",
       "      <td>43590.0</td>\n",
       "      <td>40.0</td>\n",
       "      <td>64690.0</td>\n",
       "      <td>0.05</td>\n",
       "      <td>70.0</td>\n",
       "      <td>67010.0</td>\n",
       "      <td>79426.827309</td>\n",
       "      <td>1.0</td>\n",
       "    </tr>\n",
       "    <tr>\n",
       "      <th>1007</th>\n",
       "      <td>Wisconsin</td>\n",
       "      <td>Federal, State, and Local Government, excludin...</td>\n",
       "      <td>160490.0</td>\n",
       "      <td>54890.0</td>\n",
       "      <td>NaN</td>\n",
       "      <td>NaN</td>\n",
       "      <td>NaN</td>\n",
       "      <td>2740.0</td>\n",
       "      <td>95410.0</td>\n",
       "      <td>79426.827309</td>\n",
       "      <td>NaN</td>\n",
       "    </tr>\n",
       "    <tr>\n",
       "      <th>1008</th>\n",
       "      <td>Wyoming</td>\n",
       "      <td>Federal, State, and Local Government, excludin...</td>\n",
       "      <td>28910.0</td>\n",
       "      <td>50260.0</td>\n",
       "      <td>NaN</td>\n",
       "      <td>NaN</td>\n",
       "      <td>NaN</td>\n",
       "      <td>40.0</td>\n",
       "      <td>139970.0</td>\n",
       "      <td>79426.827309</td>\n",
       "      <td>NaN</td>\n",
       "    </tr>\n",
       "  </tbody>\n",
       "</table>\n",
       "<p>1009 rows × 11 columns</p>\n",
       "</div>"
      ],
      "text/plain": [
       "              state                                             sector  \\\n",
       "0           Alabama         Agriculture, Forestry, Fishing and Hunting   \n",
       "1            Alaska         Agriculture, Forestry, Fishing and Hunting   \n",
       "2           Arizona         Agriculture, Forestry, Fishing and Hunting   \n",
       "3          Arkansas         Agriculture, Forestry, Fishing and Hunting   \n",
       "4        California         Agriculture, Forestry, Fishing and Hunting   \n",
       "...             ...                                                ...   \n",
       "1004       Virginia  Federal, State, and Local Government, excludin...   \n",
       "1005     Washington  Federal, State, and Local Government, excludin...   \n",
       "1006  West Virginia  Federal, State, and Local Government, excludin...   \n",
       "1007      Wisconsin  Federal, State, and Local Government, excludin...   \n",
       "1008        Wyoming  Federal, State, and Local Government, excludin...   \n",
       "\n",
       "      state_sector_tot_headcount  state_sector_salary  \\\n",
       "0                         5800.0              41080.0   \n",
       "1                          210.0              57260.0   \n",
       "2                         9840.0              30080.0   \n",
       "3                         4120.0              37920.0   \n",
       "4                       239210.0              33540.0   \n",
       "...                          ...                  ...   \n",
       "1004                    357640.0              65750.0   \n",
       "1005                    258360.0              77760.0   \n",
       "1006                     76640.0              43590.0   \n",
       "1007                    160490.0              54890.0   \n",
       "1008                     28910.0              50260.0   \n",
       "\n",
       "      ds_state_sector_headcount  ds_state_sector_salary  ds_state_sector_pct  \\\n",
       "0                           NaN                     NaN                  NaN   \n",
       "1                           NaN                     NaN                  NaN   \n",
       "2                           NaN                     NaN                  NaN   \n",
       "3                           NaN                     NaN                  NaN   \n",
       "4                           NaN                     NaN                  NaN   \n",
       "...                         ...                     ...                  ...   \n",
       "1004                       50.0                 84680.0                 0.01   \n",
       "1005                        NaN                     NaN                  NaN   \n",
       "1006                       40.0                 64690.0                 0.05   \n",
       "1007                        NaN                     NaN                  NaN   \n",
       "1008                        NaN                     NaN                  NaN   \n",
       "\n",
       "      ds_state_tot_headcount  ds_state_mdn_salary  ds_sector_salary  \\\n",
       "0                        NaN              85870.0               NaN   \n",
       "1                      150.0             100040.0               NaN   \n",
       "2                     2860.0             102770.0               NaN   \n",
       "3                        NaN                  NaN               NaN   \n",
       "4                    29420.0             126810.0               NaN   \n",
       "...                      ...                  ...               ...   \n",
       "1004                  4500.0             132400.0      79426.827309   \n",
       "1005                  4160.0             135850.0      79426.827309   \n",
       "1006                    70.0              67010.0      79426.827309   \n",
       "1007                  2740.0              95410.0      79426.827309   \n",
       "1008                    40.0             139970.0      79426.827309   \n",
       "\n",
       "      in_state_sector_rank  \n",
       "0                      NaN  \n",
       "1                      NaN  \n",
       "2                      NaN  \n",
       "3                      NaN  \n",
       "4                      NaN  \n",
       "...                    ...  \n",
       "1004                   9.0  \n",
       "1005                   NaN  \n",
       "1006                   1.0  \n",
       "1007                   NaN  \n",
       "1008                   NaN  \n",
       "\n",
       "[1009 rows x 11 columns]"
      ]
     },
     "execution_count": 8,
     "metadata": {},
     "output_type": "execute_result"
    }
   ],
   "source": [
    "df[\"in_state_sector_rank\"] = df.groupby(\"state\")[\"ds_state_sector_salary\"].rank(\n",
    "    ascending=False\n",
    ")\n",
    "df"
   ]
  },
  {
   "cell_type": "code",
   "execution_count": 9,
   "metadata": {},
   "outputs": [],
   "source": [
    "df[\"sector_salary_rank\"] = df.groupby([\"state\"])[\"state_sector_salary\"].transform(\n",
    "    lambda x: x.rank(ascending=False)\n",
    ")\n",
    "df[\"ds_sector_salary_rank\"] = df.groupby([\"state\"])[\"ds_state_sector_salary\"].transform(\n",
    "    lambda x: x.rank(ascending=False)\n",
    ")\n",
    "df[\"short_sector\"] = shorten_sector_name(df.sector)"
   ]
  },
  {
   "cell_type": "code",
   "execution_count": 10,
   "metadata": {},
   "outputs": [
    {
     "data": {
      "text/plain": [
       "Text(0.5, 1.0, 'Data Science Salary by State and Sector')"
      ]
     },
     "execution_count": 10,
     "metadata": {},
     "output_type": "execute_result"
    },
    {
     "data": {
      "image/png": "[encoded data removed]",
      "text/plain": [
       "<Figure size 600x1000 with 2 Axes>"
      ]
     },
     "metadata": {},
     "output_type": "display_data"
    }
   ],
   "source": [
    "ds_salary_pivot = df.pivot(\n",
    "    index=\"state\", columns=\"short_sector\", values=\"ds_state_sector_salary\"\n",
    ")\n",
    "plt.subplots(figsize=(6, 10))\n",
    "sns.heatmap(ds_salary_pivot)\n",
    "plt.title(\"Data Science Salary by State and Sector\")"
   ]
  },
  {
   "cell_type": "markdown",
   "metadata": {},
   "source": [
    "* state\n",
    "* sector\n",
    "* state_sector_tot_headcount\n",
    "* state_sector_salary\n",
    "* ds_state_sector_headcount\n",
    "* ds_state_sector_salary\n",
    "* ds_state_sector_pct\n",
    "* ds_state_tot_headcount\n",
    "* ds_state_mdn_salary\n",
    "* sector_salary_rank\n",
    "* ds_sector_salary_rank\n",
    "* short_sector"
   ]
  },
  {
   "cell_type": "code",
   "execution_count": 11,
   "metadata": {},
   "outputs": [
    {
     "name": "stderr",
     "output_type": "stream",
     "text": [
      "/tmp/ipykernel_2761471/3213452170.py:2: SettingWithCopyWarning: \n",
      "A value is trying to be set on a copy of a slice from a DataFrame.\n",
      "Try using .loc[row_indexer,col_indexer] = value instead\n",
      "\n",
      "See the caveats in the documentation: https://pandas.pydata.org/pandas-docs/stable/user_guide/indexing.html#returning-a-view-versus-a-copy\n",
      "  top_sectors[\"fips\"] = state_replacer(\n",
      "/tmp/ipykernel_2761471/3213452170.py:5: SettingWithCopyWarning: \n",
      "A value is trying to be set on a copy of a slice from a DataFrame.\n",
      "Try using .loc[row_indexer,col_indexer] = value instead\n",
      "\n",
      "See the caveats in the documentation: https://pandas.pydata.org/pandas-docs/stable/user_guide/indexing.html#returning-a-view-versus-a-copy\n",
      "  top_sectors[\"st\"] = state_replacer(top_sectors[\"state\"], in_fmt=\"long\", out_fmt=\"short\")\n"
     ]
    }
   ],
   "source": [
    "top_sectors = df[df[\"in_state_sector_rank\"] == 1]\n",
    "top_sectors[\"fips\"] = state_replacer(\n",
    "    top_sectors[\"state\"], in_fmt=\"long\", out_fmt=\"fips\"\n",
    ")\n",
    "top_sectors[\"st\"] = state_replacer(top_sectors[\"state\"], in_fmt=\"long\", out_fmt=\"short\")"
   ]
  },
  {
   "cell_type": "code",
   "execution_count": 12,
   "metadata": {},
   "outputs": [
    {
     "data": {
      "text/plain": [
       "Index(['state', 'sector', 'state_sector_tot_headcount', 'state_sector_salary',\n",
       "       'ds_state_sector_headcount', 'ds_state_sector_salary',\n",
       "       'ds_state_sector_pct', 'ds_state_tot_headcount', 'ds_state_mdn_salary',\n",
       "       'ds_sector_salary', 'in_state_sector_rank', 'sector_salary_rank',\n",
       "       'ds_sector_salary_rank', 'short_sector'],\n",
       "      dtype='object')"
      ]
     },
     "execution_count": 12,
     "metadata": {},
     "output_type": "execute_result"
    }
   ],
   "source": [
    "df.columns"
   ]
  },
  {
   "cell_type": "code",
   "execution_count": 18,
   "metadata": {},
   "outputs": [
    {
     "data": {
      "application/vnd.plotly.v1+json": {
       "config": {
        "plotlyServerURL": "https://plot.ly"
       },
       "data": [
        {
         "coloraxis": "coloraxis",
         "geo": "geo",
         "hovertemplate": "st=%{location}<br>ds_state_mdn_salary=%{z}<extra></extra>",
         "locationmode": "USA-states",
         "locations": [
          "AK",
          "OK",
          "IL",
          "MD",
          "MO",
          "OR",
          "PA",
          "KY",
          "MI",
          "TX",
          "UT",
          "VT",
          "CA",
          "FL",
          "ME",
          "NV",
          "NJ",
          "TN",
          "VA",
          "WA",
          "DE",
          "HI",
          "IA",
          "MA",
          "MN",
          "NM",
          "NC",
          "RI",
          "NY",
          "CO",
          "District of Columbia",
          "LA",
          "MT",
          "NE",
          "OH",
          "SD",
          "AL",
          "CT",
          "KS",
          "WI",
          "AZ",
          "GA",
          "MS",
          "NH",
          "SC",
          "ID",
          "IN",
          "WV"
         ],
         "name": "",
         "type": "choropleth",
         "z": [
          100040,
          79720,
          103730,
          117730,
          78780,
          102530,
          91330,
          81990,
          85470,
          99350,
          81250,
          null,
          126810,
          100520,
          95700,
          82110,
          129210,
          94690,
          132400,
          135850,
          132300,
          112330,
          94860,
          106070,
          106920,
          78790,
          121970,
          109240,
          124030,
          103200,
          97660,
          65410,
          75200,
          84490,
          88950,
          108310,
          85870,
          105700,
          88860,
          95410,
          102770,
          100400,
          56950,
          77620,
          99370,
          96490,
          75970,
          67010
         ]
        },
        {
         "locationmode": "USA-states",
         "locations": [
          "AK",
          "OK",
          "IL",
          "MD",
          "MO",
          "OR",
          "PA",
          "KY",
          "MI",
          "TX",
          "UT",
          "VT",
          "CA",
          "FL",
          "ME",
          "NV",
          "NJ",
          "TN",
          "VA",
          "WA",
          "DE",
          "HI",
          "IA",
          "MA",
          "MN",
          "NM",
          "NC",
          "RI",
          "NY",
          "CO",
          "District of Columbia",
          "LA",
          "MT",
          "NE",
          "OH",
          "SD",
          "AL",
          "CT",
          "KS",
          "WI",
          "AZ",
          "GA",
          "MS",
          "NH",
          "SC",
          "ID",
          "IN",
          "WV"
         ],
         "mode": "text",
         "text": [
          "Mining",
          "Mining",
          "Manufacturing",
          "Manufacturing",
          "Manufacturing",
          "Manufacturing",
          "Manufacturing",
          "Wholesale",
          "Wholesale",
          "Wholesale",
          "Wholesale",
          "Wholesale",
          "Transportation",
          "Information",
          "Information",
          "Information",
          "Information",
          "Information",
          "Information",
          "Information",
          "Finance",
          "Finance",
          "Finance",
          "Finance",
          "Finance",
          "Finance",
          "Finance",
          "Finance",
          "Realty",
          "Professional",
          "Professional",
          "Professional",
          "Professional",
          "Professional",
          "Professional",
          "Professional",
          "Management",
          "Management",
          "Management",
          "Management",
          "Waste",
          "Waste",
          "Waste",
          "Waste",
          "Waste",
          "Health",
          "Health",
          "Government"
         ],
         "type": "scattergeo"
        }
       ],
       "layout": {
        "coloraxis": {
         "colorbar": {
          "title": {
           "text": "Annual Salary"
          }
         },
         "colorscale": [
          [
           0,
           "#440154"
          ],
          [
           0.1111111111111111,
           "#482878"
          ],
          [
           0.2222222222222222,
           "#3e4989"
          ],
          [
           0.3333333333333333,
           "#31688e"
          ],
          [
           0.4444444444444444,
           "#26828e"
          ],
          [
           0.5555555555555556,
           "#1f9e89"
          ],
          [
           0.6666666666666666,
           "#35b779"
          ],
          [
           0.7777777777777778,
           "#6ece58"
          ],
          [
           0.8888888888888888,
           "#b5de2b"
          ],
          [
           1,
           "#fde725"
          ]
         ]
        },
        "geo": {
         "center": {},
         "domain": {
          "x": [
           0,
           1
          ],
          "y": [
           0,
           1
          ]
         },
         "scope": "usa"
        },
        "legend": {
         "tracegroupgap": 0
        },
        "template": {
         "data": {
          "bar": [
           {
            "error_x": {
             "color": "#2a3f5f"
            },
            "error_y": {
             "color": "#2a3f5f"
            },
            "marker": {
             "line": {
              "color": "#E5ECF6",
              "width": 0.5
             },
             "pattern": {
              "fillmode": "overlay",
              "size": 10,
              "solidity": 0.2
             }
            },
            "type": "bar"
           }
          ],
          "barpolar": [
           {
            "marker": {
             "line": {
              "color": "#E5ECF6",
              "width": 0.5
             },
             "pattern": {
              "fillmode": "overlay",
              "size": 10,
              "solidity": 0.2
             }
            },
            "type": "barpolar"
           }
          ],
          "carpet": [
           {
            "aaxis": {
             "endlinecolor": "#2a3f5f",
             "gridcolor": "white",
             "linecolor": "white",
             "minorgridcolor": "white",
             "startlinecolor": "#2a3f5f"
            },
            "baxis": {
             "endlinecolor": "#2a3f5f",
             "gridcolor": "white",
             "linecolor": "white",
             "minorgridcolor": "white",
             "startlinecolor": "#2a3f5f"
            },
            "type": "carpet"
           }
          ],
          "choropleth": [
           {
            "colorbar": {
             "outlinewidth": 0,
             "ticks": ""
            },
            "type": "choropleth"
           }
          ],
          "contour": [
           {
            "colorbar": {
             "outlinewidth": 0,
             "ticks": ""
            },
            "colorscale": [
             [
              0,
              "#0d0887"
             ],
             [
              0.1111111111111111,
              "#46039f"
             ],
             [
              0.2222222222222222,
              "#7201a8"
             ],
             [
              0.3333333333333333,
              "#9c179e"
             ],
             [
              0.4444444444444444,
              "#bd3786"
             ],
             [
              0.5555555555555556,
              "#d8576b"
             ],
             [
              0.6666666666666666,
              "#ed7953"
             ],
             [
              0.7777777777777778,
              "#fb9f3a"
             ],
             [
              0.8888888888888888,
              "#fdca26"
             ],
             [
              1,
              "#f0f921"
             ]
            ],
            "type": "contour"
           }
          ],
          "contourcarpet": [
           {
            "colorbar": {
             "outlinewidth": 0,
             "ticks": ""
            },
            "type": "contourcarpet"
           }
          ],
          "heatmap": [
           {
            "colorbar": {
             "outlinewidth": 0,
             "ticks": ""
            },
            "colorscale": [
             [
              0,
              "#0d0887"
             ],
             [
              0.1111111111111111,
              "#46039f"
             ],
             [
              0.2222222222222222,
              "#7201a8"
             ],
             [
              0.3333333333333333,
              "#9c179e"
             ],
             [
              0.4444444444444444,
              "#bd3786"
             ],
             [
              0.5555555555555556,
              "#d8576b"
             ],
             [
              0.6666666666666666,
              "#ed7953"
             ],
             [
              0.7777777777777778,
              "#fb9f3a"
             ],
             [
              0.8888888888888888,
              "#fdca26"
             ],
             [
              1,
              "#f0f921"
             ]
            ],
            "type": "heatmap"
           }
          ],
          "heatmapgl": [
           {
            "colorbar": {
             "outlinewidth": 0,
             "ticks": ""
            },
            "colorscale": [
             [
              0,
              "#0d0887"
             ],
             [
              0.1111111111111111,
              "#46039f"
             ],
             [
              0.2222222222222222,
              "#7201a8"
             ],
             [
              0.3333333333333333,
              "#9c179e"
             ],
             [
              0.4444444444444444,
              "#bd3786"
             ],
             [
              0.5555555555555556,
              "#d8576b"
             ],
             [
              0.6666666666666666,
              "#ed7953"
             ],
             [
              0.7777777777777778,
              "#fb9f3a"
             ],
             [
              0.8888888888888888,
              "#fdca26"
             ],
             [
              1,
              "#f0f921"
             ]
            ],
            "type": "heatmapgl"
           }
          ],
          "histogram": [
           {
            "marker": {
             "pattern": {
              "fillmode": "overlay",
              "size": 10,
              "solidity": 0.2
             }
            },
            "type": "histogram"
           }
          ],
          "histogram2d": [
           {
            "colorbar": {
             "outlinewidth": 0,
             "ticks": ""
            },
            "colorscale": [
             [
              0,
              "#0d0887"
             ],
             [
              0.1111111111111111,
              "#46039f"
             ],
             [
              0.2222222222222222,
              "#7201a8"
             ],
             [
              0.3333333333333333,
              "#9c179e"
             ],
             [
              0.4444444444444444,
              "#bd3786"
             ],
             [
              0.5555555555555556,
              "#d8576b"
             ],
             [
              0.6666666666666666,
              "#ed7953"
             ],
             [
              0.7777777777777778,
              "#fb9f3a"
             ],
             [
              0.8888888888888888,
              "#fdca26"
             ],
             [
              1,
              "#f0f921"
             ]
            ],
            "type": "histogram2d"
           }
          ],
          "histogram2dcontour": [
           {
            "colorbar": {
             "outlinewidth": 0,
             "ticks": ""
            },
            "colorscale": [
             [
              0,
              "#0d0887"
             ],
             [
              0.1111111111111111,
              "#46039f"
             ],
             [
              0.2222222222222222,
              "#7201a8"
             ],
             [
              0.3333333333333333,
              "#9c179e"
             ],
             [
              0.4444444444444444,
              "#bd3786"
             ],
             [
              0.5555555555555556,
              "#d8576b"
             ],
             [
              0.6666666666666666,
              "#ed7953"
             ],
             [
              0.7777777777777778,
              "#fb9f3a"
             ],
             [
              0.8888888888888888,
              "#fdca26"
             ],
             [
              1,
              "#f0f921"
             ]
            ],
            "type": "histogram2dcontour"
           }
          ],
          "mesh3d": [
           {
            "colorbar": {
             "outlinewidth": 0,
             "ticks": ""
            },
            "type": "mesh3d"
           }
          ],
          "parcoords": [
           {
            "line": {
             "colorbar": {
              "outlinewidth": 0,
              "ticks": ""
             }
            },
            "type": "parcoords"
           }
          ],
          "pie": [
           {
            "automargin": true,
            "type": "pie"
           }
          ],
          "scatter": [
           {
            "fillpattern": {
             "fillmode": "overlay",
             "size": 10,
             "solidity": 0.2
            },
            "type": "scatter"
           }
          ],
          "scatter3d": [
           {
            "line": {
             "colorbar": {
              "outlinewidth": 0,
              "ticks": ""
             }
            },
            "marker": {
             "colorbar": {
              "outlinewidth": 0,
              "ticks": ""
             }
            },
            "type": "scatter3d"
           }
          ],
          "scattercarpet": [
           {
            "marker": {
             "colorbar": {
              "outlinewidth": 0,
              "ticks": ""
             }
            },
            "type": "scattercarpet"
           }
          ],
          "scattergeo": [
           {
            "marker": {
             "colorbar": {
              "outlinewidth": 0,
              "ticks": ""
             }
            },
            "type": "scattergeo"
           }
          ],
          "scattergl": [
           {
            "marker": {
             "colorbar": {
              "outlinewidth": 0,
              "ticks": ""
             }
            },
            "type": "scattergl"
           }
          ],
          "scattermapbox": [
           {
            "marker": {
             "colorbar": {
              "outlinewidth": 0,
              "ticks": ""
             }
            },
            "type": "scattermapbox"
           }
          ],
          "scatterpolar": [
           {
            "marker": {
             "colorbar": {
              "outlinewidth": 0,
              "ticks": ""
             }
            },
            "type": "scatterpolar"
           }
          ],
          "scatterpolargl": [
           {
            "marker": {
             "colorbar": {
              "outlinewidth": 0,
              "ticks": ""
             }
            },
            "type": "scatterpolargl"
           }
          ],
          "scatterternary": [
           {
            "marker": {
             "colorbar": {
              "outlinewidth": 0,
              "ticks": ""
             }
            },
            "type": "scatterternary"
           }
          ],
          "surface": [
           {
            "colorbar": {
             "outlinewidth": 0,
             "ticks": ""
            },
            "colorscale": [
             [
              0,
              "#0d0887"
             ],
             [
              0.1111111111111111,
              "#46039f"
             ],
             [
              0.2222222222222222,
              "#7201a8"
             ],
             [
              0.3333333333333333,
              "#9c179e"
             ],
             [
              0.4444444444444444,
              "#bd3786"
             ],
             [
              0.5555555555555556,
              "#d8576b"
             ],
             [
              0.6666666666666666,
              "#ed7953"
             ],
             [
              0.7777777777777778,
              "#fb9f3a"
             ],
             [
              0.8888888888888888,
              "#fdca26"
             ],
             [
              1,
              "#f0f921"
             ]
            ],
            "type": "surface"
           }
          ],
          "table": [
           {
            "cells": {
             "fill": {
              "color": "#EBF0F8"
             },
             "line": {
              "color": "white"
             }
            },
            "header": {
             "fill": {
              "color": "#C8D4E3"
             },
             "line": {
              "color": "white"
             }
            },
            "type": "table"
           }
          ]
         },
         "layout": {
          "annotationdefaults": {
           "arrowcolor": "#2a3f5f",
           "arrowhead": 0,
           "arrowwidth": 1
          },
          "autotypenumbers": "strict",
          "coloraxis": {
           "colorbar": {
            "outlinewidth": 0,
            "ticks": ""
           }
          },
          "colorscale": {
           "diverging": [
            [
             0,
             "#8e0152"
            ],
            [
             0.1,
             "#c51b7d"
            ],
            [
             0.2,
             "#de77ae"
            ],
            [
             0.3,
             "#f1b6da"
            ],
            [
             0.4,
             "#fde0ef"
            ],
            [
             0.5,
             "#f7f7f7"
            ],
            [
             0.6,
             "#e6f5d0"
            ],
            [
             0.7,
             "#b8e186"
            ],
            [
             0.8,
             "#7fbc41"
            ],
            [
             0.9,
             "#4d9221"
            ],
            [
             1,
             "#276419"
            ]
           ],
           "sequential": [
            [
             0,
             "#0d0887"
            ],
            [
             0.1111111111111111,
             "#46039f"
            ],
            [
             0.2222222222222222,
             "#7201a8"
            ],
            [
             0.3333333333333333,
             "#9c179e"
            ],
            [
             0.4444444444444444,
             "#bd3786"
            ],
            [
             0.5555555555555556,
             "#d8576b"
            ],
            [
             0.6666666666666666,
             "#ed7953"
            ],
            [
             0.7777777777777778,
             "#fb9f3a"
            ],
            [
             0.8888888888888888,
             "#fdca26"
            ],
            [
             1,
             "#f0f921"
            ]
           ],
           "sequentialminus": [
            [
             0,
             "#0d0887"
            ],
            [
             0.1111111111111111,
             "#46039f"
            ],
            [
             0.2222222222222222,
             "#7201a8"
            ],
            [
             0.3333333333333333,
             "#9c179e"
            ],
            [
             0.4444444444444444,
             "#bd3786"
            ],
            [
             0.5555555555555556,
             "#d8576b"
            ],
            [
             0.6666666666666666,
             "#ed7953"
            ],
            [
             0.7777777777777778,
             "#fb9f3a"
            ],
            [
             0.8888888888888888,
             "#fdca26"
            ],
            [
             1,
             "#f0f921"
            ]
           ]
          },
          "colorway": [
           "#636efa",
           "#EF553B",
           "#00cc96",
           "#ab63fa",
           "#FFA15A",
           "#19d3f3",
           "#FF6692",
           "#B6E880",
           "#FF97FF",
           "#FECB52"
          ],
          "font": {
           "color": "#2a3f5f"
          },
          "geo": {
           "bgcolor": "white",
           "lakecolor": "white",
           "landcolor": "#E5ECF6",
           "showlakes": true,
           "showland": true,
           "subunitcolor": "white"
          },
          "hoverlabel": {
           "align": "left"
          },
          "hovermode": "closest",
          "mapbox": {
           "style": "light"
          },
          "paper_bgcolor": "white",
          "plot_bgcolor": "#E5ECF6",
          "polar": {
           "angularaxis": {
            "gridcolor": "white",
            "linecolor": "white",
            "ticks": ""
           },
           "bgcolor": "#E5ECF6",
           "radialaxis": {
            "gridcolor": "white",
            "linecolor": "white",
            "ticks": ""
           }
          },
          "scene": {
           "xaxis": {
            "backgroundcolor": "#E5ECF6",
            "gridcolor": "white",
            "gridwidth": 2,
            "linecolor": "white",
            "showbackground": true,
            "ticks": "",
            "zerolinecolor": "white"
           },
           "yaxis": {
            "backgroundcolor": "#E5ECF6",
            "gridcolor": "white",
            "gridwidth": 2,
            "linecolor": "white",
            "showbackground": true,
            "ticks": "",
            "zerolinecolor": "white"
           },
           "zaxis": {
            "backgroundcolor": "#E5ECF6",
            "gridcolor": "white",
            "gridwidth": 2,
            "linecolor": "white",
            "showbackground": true,
            "ticks": "",
            "zerolinecolor": "white"
           }
          },
          "shapedefaults": {
           "line": {
            "color": "#2a3f5f"
           }
          },
          "ternary": {
           "aaxis": {
            "gridcolor": "white",
            "linecolor": "white",
            "ticks": ""
           },
           "baxis": {
            "gridcolor": "white",
            "linecolor": "white",
            "ticks": ""
           },
           "bgcolor": "#E5ECF6",
           "caxis": {
            "gridcolor": "white",
            "linecolor": "white",
            "ticks": ""
           }
          },
          "title": {
           "x": 0.05
          },
          "xaxis": {
           "automargin": true,
           "gridcolor": "white",
           "linecolor": "white",
           "ticks": "",
           "title": {
            "standoff": 15
           },
           "zerolinecolor": "white",
           "zerolinewidth": 2
          },
          "yaxis": {
           "automargin": true,
           "gridcolor": "white",
           "linecolor": "white",
           "ticks": "",
           "title": {
            "standoff": 15
           },
           "zerolinecolor": "white",
           "zerolinewidth": 2
          }
         }
        },
        "title": {
         "text": "Highest Paying Sector by State"
        }
       }
      },
      "text/html": [
       "<div>                            <div id=\"17fa428a-ef48-4c58-a48b-d034e8b09352\" class=\"plotly-graph-div\" style=\"height:525px; width:100%;\"></div>            <script type=\"text/javascript\">                require([\"plotly\"], function(Plotly) {                    window.PLOTLYENV=window.PLOTLYENV || {};                                    if (document.getElementById(\"17fa428a-ef48-4c58-a48b-d034e8b09352\")) {                    Plotly.newPlot(                        \"17fa428a-ef48-4c58-a48b-d034e8b09352\",                        [{\"coloraxis\":\"coloraxis\",\"geo\":\"geo\",\"hovertemplate\":\"st=%{location}\\u003cbr\\u003eds_state_mdn_salary=%{z}\\u003cextra\\u003e\\u003c\\u002fextra\\u003e\",\"locationmode\":\"USA-states\",\"locations\":[\"AK\",\"OK\",\"IL\",\"MD\",\"MO\",\"OR\",\"PA\",\"KY\",\"MI\",\"TX\",\"UT\",\"VT\",\"CA\",\"FL\",\"ME\",\"NV\",\"NJ\",\"TN\",\"VA\",\"WA\",\"DE\",\"HI\",\"IA\",\"MA\",\"MN\",\"NM\",\"NC\",\"RI\",\"NY\",\"CO\",\"District of Columbia\",\"LA\",\"MT\",\"NE\",\"OH\",\"SD\",\"AL\",\"CT\",\"KS\",\"WI\",\"AZ\",\"GA\",\"MS\",\"NH\",\"SC\",\"ID\",\"IN\",\"WV\"],\"name\":\"\",\"z\":[100040.0,79720.0,103730.0,117730.0,78780.0,102530.0,91330.0,81990.0,85470.0,99350.0,81250.0,null,126810.0,100520.0,95700.0,82110.0,129210.0,94690.0,132400.0,135850.0,132300.0,112330.0,94860.0,106070.0,106920.0,78790.0,121970.0,109240.0,124030.0,103200.0,97660.0,65410.0,75200.0,84490.0,88950.0,108310.0,85870.0,105700.0,88860.0,95410.0,102770.0,100400.0,56950.0,77620.0,99370.0,96490.0,75970.0,67010.0],\"type\":\"choropleth\"},{\"locationmode\":\"USA-states\",\"locations\":[\"AK\",\"OK\",\"IL\",\"MD\",\"MO\",\"OR\",\"PA\",\"KY\",\"MI\",\"TX\",\"UT\",\"VT\",\"CA\",\"FL\",\"ME\",\"NV\",\"NJ\",\"TN\",\"VA\",\"WA\",\"DE\",\"HI\",\"IA\",\"MA\",\"MN\",\"NM\",\"NC\",\"RI\",\"NY\",\"CO\",\"District of Columbia\",\"LA\",\"MT\",\"NE\",\"OH\",\"SD\",\"AL\",\"CT\",\"KS\",\"WI\",\"AZ\",\"GA\",\"MS\",\"NH\",\"SC\",\"ID\",\"IN\",\"WV\"],\"mode\":\"text\",\"text\":[\"Mining\",\"Mining\",\"Manufacturing\",\"Manufacturing\",\"Manufacturing\",\"Manufacturing\",\"Manufacturing\",\"Wholesale\",\"Wholesale\",\"Wholesale\",\"Wholesale\",\"Wholesale\",\"Transportation\",\"Information\",\"Information\",\"Information\",\"Information\",\"Information\",\"Information\",\"Information\",\"Finance\",\"Finance\",\"Finance\",\"Finance\",\"Finance\",\"Finance\",\"Finance\",\"Finance\",\"Realty\",\"Professional\",\"Professional\",\"Professional\",\"Professional\",\"Professional\",\"Professional\",\"Professional\",\"Management\",\"Management\",\"Management\",\"Management\",\"Waste\",\"Waste\",\"Waste\",\"Waste\",\"Waste\",\"Health\",\"Health\",\"Government\"],\"type\":\"scattergeo\"}],                        {\"template\":{\"data\":{\"histogram2dcontour\":[{\"type\":\"histogram2dcontour\",\"colorbar\":{\"outlinewidth\":0,\"ticks\":\"\"},\"colorscale\":[[0.0,\"#0d0887\"],[0.1111111111111111,\"#46039f\"],[0.2222222222222222,\"#7201a8\"],[0.3333333333333333,\"#9c179e\"],[0.4444444444444444,\"#bd3786\"],[0.5555555555555556,\"#d8576b\"],[0.6666666666666666,\"#ed7953\"],[0.7777777777777778,\"#fb9f3a\"],[0.8888888888888888,\"#fdca26\"],[1.0,\"#f0f921\"]]}],\"choropleth\":[{\"type\":\"choropleth\",\"colorbar\":{\"outlinewidth\":0,\"ticks\":\"\"}}],\"histogram2d\":[{\"type\":\"histogram2d\",\"colorbar\":{\"outlinewidth\":0,\"ticks\":\"\"},\"colorscale\":[[0.0,\"#0d0887\"],[0.1111111111111111,\"#46039f\"],[0.2222222222222222,\"#7201a8\"],[0.3333333333333333,\"#9c179e\"],[0.4444444444444444,\"#bd3786\"],[0.5555555555555556,\"#d8576b\"],[0.6666666666666666,\"#ed7953\"],[0.7777777777777778,\"#fb9f3a\"],[0.8888888888888888,\"#fdca26\"],[1.0,\"#f0f921\"]]}],\"heatmap\":[{\"type\":\"heatmap\",\"colorbar\":{\"outlinewidth\":0,\"ticks\":\"\"},\"colorscale\":[[0.0,\"#0d0887\"],[0.1111111111111111,\"#46039f\"],[0.2222222222222222,\"#7201a8\"],[0.3333333333333333,\"#9c179e\"],[0.4444444444444444,\"#bd3786\"],[0.5555555555555556,\"#d8576b\"],[0.6666666666666666,\"#ed7953\"],[0.7777777777777778,\"#fb9f3a\"],[0.8888888888888888,\"#fdca26\"],[1.0,\"#f0f921\"]]}],\"heatmapgl\":[{\"type\":\"heatmapgl\",\"colorbar\":{\"outlinewidth\":0,\"ticks\":\"\"},\"colorscale\":[[0.0,\"#0d0887\"],[0.1111111111111111,\"#46039f\"],[0.2222222222222222,\"#7201a8\"],[0.3333333333333333,\"#9c179e\"],[0.4444444444444444,\"#bd3786\"],[0.5555555555555556,\"#d8576b\"],[0.6666666666666666,\"#ed7953\"],[0.7777777777777778,\"#fb9f3a\"],[0.8888888888888888,\"#fdca26\"],[1.0,\"#f0f921\"]]}],\"contourcarpet\":[{\"type\":\"contourcarpet\",\"colorbar\":{\"outlinewidth\":0,\"ticks\":\"\"}}],\"contour\":[{\"type\":\"contour\",\"colorbar\":{\"outlinewidth\":0,\"ticks\":\"\"},\"colorscale\":[[0.0,\"#0d0887\"],[0.1111111111111111,\"#46039f\"],[0.2222222222222222,\"#7201a8\"],[0.3333333333333333,\"#9c179e\"],[0.4444444444444444,\"#bd3786\"],[0.5555555555555556,\"#d8576b\"],[0.6666666666666666,\"#ed7953\"],[0.7777777777777778,\"#fb9f3a\"],[0.8888888888888888,\"#fdca26\"],[1.0,\"#f0f921\"]]}],\"surface\":[{\"type\":\"surface\",\"colorbar\":{\"outlinewidth\":0,\"ticks\":\"\"},\"colorscale\":[[0.0,\"#0d0887\"],[0.1111111111111111,\"#46039f\"],[0.2222222222222222,\"#7201a8\"],[0.3333333333333333,\"#9c179e\"],[0.4444444444444444,\"#bd3786\"],[0.5555555555555556,\"#d8576b\"],[0.6666666666666666,\"#ed7953\"],[0.7777777777777778,\"#fb9f3a\"],[0.8888888888888888,\"#fdca26\"],[1.0,\"#f0f921\"]]}],\"mesh3d\":[{\"type\":\"mesh3d\",\"colorbar\":{\"outlinewidth\":0,\"ticks\":\"\"}}],\"scatter\":[{\"fillpattern\":{\"fillmode\":\"overlay\",\"size\":10,\"solidity\":0.2},\"type\":\"scatter\"}],\"parcoords\":[{\"type\":\"parcoords\",\"line\":{\"colorbar\":{\"outlinewidth\":0,\"ticks\":\"\"}}}],\"scatterpolargl\":[{\"type\":\"scatterpolargl\",\"marker\":{\"colorbar\":{\"outlinewidth\":0,\"ticks\":\"\"}}}],\"bar\":[{\"error_x\":{\"color\":\"#2a3f5f\"},\"error_y\":{\"color\":\"#2a3f5f\"},\"marker\":{\"line\":{\"color\":\"#E5ECF6\",\"width\":0.5},\"pattern\":{\"fillmode\":\"overlay\",\"size\":10,\"solidity\":0.2}},\"type\":\"bar\"}],\"scattergeo\":[{\"type\":\"scattergeo\",\"marker\":{\"colorbar\":{\"outlinewidth\":0,\"ticks\":\"\"}}}],\"scatterpolar\":[{\"type\":\"scatterpolar\",\"marker\":{\"colorbar\":{\"outlinewidth\":0,\"ticks\":\"\"}}}],\"histogram\":[{\"marker\":{\"pattern\":{\"fillmode\":\"overlay\",\"size\":10,\"solidity\":0.2}},\"type\":\"histogram\"}],\"scattergl\":[{\"type\":\"scattergl\",\"marker\":{\"colorbar\":{\"outlinewidth\":0,\"ticks\":\"\"}}}],\"scatter3d\":[{\"type\":\"scatter3d\",\"line\":{\"colorbar\":{\"outlinewidth\":0,\"ticks\":\"\"}},\"marker\":{\"colorbar\":{\"outlinewidth\":0,\"ticks\":\"\"}}}],\"scattermapbox\":[{\"type\":\"scattermapbox\",\"marker\":{\"colorbar\":{\"outlinewidth\":0,\"ticks\":\"\"}}}],\"scatterternary\":[{\"type\":\"scatterternary\",\"marker\":{\"colorbar\":{\"outlinewidth\":0,\"ticks\":\"\"}}}],\"scattercarpet\":[{\"type\":\"scattercarpet\",\"marker\":{\"colorbar\":{\"outlinewidth\":0,\"ticks\":\"\"}}}],\"carpet\":[{\"aaxis\":{\"endlinecolor\":\"#2a3f5f\",\"gridcolor\":\"white\",\"linecolor\":\"white\",\"minorgridcolor\":\"white\",\"startlinecolor\":\"#2a3f5f\"},\"baxis\":{\"endlinecolor\":\"#2a3f5f\",\"gridcolor\":\"white\",\"linecolor\":\"white\",\"minorgridcolor\":\"white\",\"startlinecolor\":\"#2a3f5f\"},\"type\":\"carpet\"}],\"table\":[{\"cells\":{\"fill\":{\"color\":\"#EBF0F8\"},\"line\":{\"color\":\"white\"}},\"header\":{\"fill\":{\"color\":\"#C8D4E3\"},\"line\":{\"color\":\"white\"}},\"type\":\"table\"}],\"barpolar\":[{\"marker\":{\"line\":{\"color\":\"#E5ECF6\",\"width\":0.5},\"pattern\":{\"fillmode\":\"overlay\",\"size\":10,\"solidity\":0.2}},\"type\":\"barpolar\"}],\"pie\":[{\"automargin\":true,\"type\":\"pie\"}]},\"layout\":{\"autotypenumbers\":\"strict\",\"colorway\":[\"#636efa\",\"#EF553B\",\"#00cc96\",\"#ab63fa\",\"#FFA15A\",\"#19d3f3\",\"#FF6692\",\"#B6E880\",\"#FF97FF\",\"#FECB52\"],\"font\":{\"color\":\"#2a3f5f\"},\"hovermode\":\"closest\",\"hoverlabel\":{\"align\":\"left\"},\"paper_bgcolor\":\"white\",\"plot_bgcolor\":\"#E5ECF6\",\"polar\":{\"bgcolor\":\"#E5ECF6\",\"angularaxis\":{\"gridcolor\":\"white\",\"linecolor\":\"white\",\"ticks\":\"\"},\"radialaxis\":{\"gridcolor\":\"white\",\"linecolor\":\"white\",\"ticks\":\"\"}},\"ternary\":{\"bgcolor\":\"#E5ECF6\",\"aaxis\":{\"gridcolor\":\"white\",\"linecolor\":\"white\",\"ticks\":\"\"},\"baxis\":{\"gridcolor\":\"white\",\"linecolor\":\"white\",\"ticks\":\"\"},\"caxis\":{\"gridcolor\":\"white\",\"linecolor\":\"white\",\"ticks\":\"\"}},\"coloraxis\":{\"colorbar\":{\"outlinewidth\":0,\"ticks\":\"\"}},\"colorscale\":{\"sequential\":[[0.0,\"#0d0887\"],[0.1111111111111111,\"#46039f\"],[0.2222222222222222,\"#7201a8\"],[0.3333333333333333,\"#9c179e\"],[0.4444444444444444,\"#bd3786\"],[0.5555555555555556,\"#d8576b\"],[0.6666666666666666,\"#ed7953\"],[0.7777777777777778,\"#fb9f3a\"],[0.8888888888888888,\"#fdca26\"],[1.0,\"#f0f921\"]],\"sequentialminus\":[[0.0,\"#0d0887\"],[0.1111111111111111,\"#46039f\"],[0.2222222222222222,\"#7201a8\"],[0.3333333333333333,\"#9c179e\"],[0.4444444444444444,\"#bd3786\"],[0.5555555555555556,\"#d8576b\"],[0.6666666666666666,\"#ed7953\"],[0.7777777777777778,\"#fb9f3a\"],[0.8888888888888888,\"#fdca26\"],[1.0,\"#f0f921\"]],\"diverging\":[[0,\"#8e0152\"],[0.1,\"#c51b7d\"],[0.2,\"#de77ae\"],[0.3,\"#f1b6da\"],[0.4,\"#fde0ef\"],[0.5,\"#f7f7f7\"],[0.6,\"#e6f5d0\"],[0.7,\"#b8e186\"],[0.8,\"#7fbc41\"],[0.9,\"#4d9221\"],[1,\"#276419\"]]},\"xaxis\":{\"gridcolor\":\"white\",\"linecolor\":\"white\",\"ticks\":\"\",\"title\":{\"standoff\":15},\"zerolinecolor\":\"white\",\"automargin\":true,\"zerolinewidth\":2},\"yaxis\":{\"gridcolor\":\"white\",\"linecolor\":\"white\",\"ticks\":\"\",\"title\":{\"standoff\":15},\"zerolinecolor\":\"white\",\"automargin\":true,\"zerolinewidth\":2},\"scene\":{\"xaxis\":{\"backgroundcolor\":\"#E5ECF6\",\"gridcolor\":\"white\",\"linecolor\":\"white\",\"showbackground\":true,\"ticks\":\"\",\"zerolinecolor\":\"white\",\"gridwidth\":2},\"yaxis\":{\"backgroundcolor\":\"#E5ECF6\",\"gridcolor\":\"white\",\"linecolor\":\"white\",\"showbackground\":true,\"ticks\":\"\",\"zerolinecolor\":\"white\",\"gridwidth\":2},\"zaxis\":{\"backgroundcolor\":\"#E5ECF6\",\"gridcolor\":\"white\",\"linecolor\":\"white\",\"showbackground\":true,\"ticks\":\"\",\"zerolinecolor\":\"white\",\"gridwidth\":2}},\"shapedefaults\":{\"line\":{\"color\":\"#2a3f5f\"}},\"annotationdefaults\":{\"arrowcolor\":\"#2a3f5f\",\"arrowhead\":0,\"arrowwidth\":1},\"geo\":{\"bgcolor\":\"white\",\"landcolor\":\"#E5ECF6\",\"subunitcolor\":\"white\",\"showland\":true,\"showlakes\":true,\"lakecolor\":\"white\"},\"title\":{\"x\":0.05},\"mapbox\":{\"style\":\"light\"}}},\"geo\":{\"domain\":{\"x\":[0.0,1.0],\"y\":[0.0,1.0]},\"center\":{},\"scope\":\"usa\"},\"coloraxis\":{\"colorbar\":{\"title\":{\"text\":\"Annual Salary\"}},\"colorscale\":[[0.0,\"#440154\"],[0.1111111111111111,\"#482878\"],[0.2222222222222222,\"#3e4989\"],[0.3333333333333333,\"#31688e\"],[0.4444444444444444,\"#26828e\"],[0.5555555555555556,\"#1f9e89\"],[0.6666666666666666,\"#35b779\"],[0.7777777777777778,\"#6ece58\"],[0.8888888888888888,\"#b5de2b\"],[1.0,\"#fde725\"]]},\"legend\":{\"tracegroupgap\":0},\"title\":{\"text\":\"Highest Paying Sector by State\"}},                        {\"responsive\": true}                    ).then(function(){\n",
       "                            \n",
       "var gd = document.getElementById('17fa428a-ef48-4c58-a48b-d034e8b09352');\n",
       "var x = new MutationObserver(function (mutations, observer) {{\n",
       "        var display = window.getComputedStyle(gd).display;\n",
       "        if (!display || display === 'none') {{\n",
       "            console.log([gd, 'removed!']);\n",
       "            Plotly.purge(gd);\n",
       "            observer.disconnect();\n",
       "        }}\n",
       "}});\n",
       "\n",
       "// Listen for the removal of the full notebook cells\n",
       "var notebookContainer = gd.closest('#notebook-container');\n",
       "if (notebookContainer) {{\n",
       "    x.observe(notebookContainer, {childList: true});\n",
       "}}\n",
       "\n",
       "// Listen for the clearing of the current output cell\n",
       "var outputEl = gd.closest('.output');\n",
       "if (outputEl) {{\n",
       "    x.observe(outputEl, {childList: true});\n",
       "}}\n",
       "\n",
       "                        })                };                });            </script>        </div>"
      ]
     },
     "metadata": {},
     "output_type": "display_data"
    }
   ],
   "source": [
    "# Create a choropleth map with state names\n",
    "fig = px.choropleth(\n",
    "    top_sectors,\n",
    "    locations=\"st\",  # Column with state names\n",
    "    locationmode=\"USA-states\",  # Set location mode for U.S. states\n",
    "    color=\"ds_state_mdn_salary\",  # Column with data to visualize\n",
    "    scope=\"usa\",  # Restrict to the U.S.\n",
    "\n",
    "    title=\"Highest Paying Sector by State\",  # Title for the map\n",
    "    color_continuous_scale=\"Viridis\",  # Color scale\n",
    "    # labels={\"value\": \"Value\"},  # Label for the legend\n",
    ")\n",
    "fig.update_coloraxes(dict(colorbar=dict(title=\"Annual Salary\", )))\n",
    "fig.add_scattergeo(\n",
    "    locations=top_sectors[\"st\"],\n",
    "    locationmode=\"USA-states\",\n",
    "    text=top_sectors[\"short_sector\"],\n",
    "    mode=\"text\",\n",
    ")\n",
    "# Display the map\n",
    "fig.show()"
   ]
  },
  {
   "cell_type": "code",
   "execution_count": null,
   "metadata": {},
   "outputs": [
    {
     "name": "stderr",
     "output_type": "stream",
     "text": [
      "[2760215:2760243:0421/164828.281438:ERROR:bus.cc(407)] Failed to connect to the bus: Failed to connect to socket /run/user/1000/bus: No such file or directory\n",
      "[2760215:2760243:0421/164828.281640:ERROR:bus.cc(407)] Failed to connect to the bus: Failed to connect to socket /run/user/1000/bus: No such file or directory\n",
      "[2760215:2760243:0421/164828.281710:ERROR:bus.cc(407)] Failed to connect to the bus: Failed to connect to socket /run/user/1000/bus: No such file or directory\n",
      "[2760215:2760243:0421/164828.281770:ERROR:bus.cc(407)] Failed to connect to the bus: Failed to connect to socket /run/user/1000/bus: No such file or directory\n",
      "[2760215:2760243:0421/164828.318933:ERROR:bus.cc(407)] Failed to connect to the bus: Failed to connect to socket /run/user/1000/bus: No such file or directory\n",
      "[2760215:2760243:0421/164828.319085:ERROR:bus.cc(407)] Failed to connect to the bus: Failed to connect to socket /run/user/1000/bus: No such file or directory\n",
      "[2760215:2760239:0421/164828.357395:ERROR:bus.cc(407)] Failed to connect to the bus: Failed to connect to socket /run/user/1000/bus: No such file or directory\n",
      "[2760215:2760243:0421/164828.390825:ERROR:bus.cc(407)] Failed to connect to the bus: Failed to connect to socket /run/user/1000/bus: No such file or directory\n",
      "[2760215:2760243:0421/164828.390936:ERROR:bus.cc(407)] Failed to connect to the bus: Failed to connect to socket /run/user/1000/bus: No such file or directory\n",
      "[2760215:2760215:0421/164828.510639:ERROR:object_proxy.cc(576)] Failed to call method: org.freedesktop.DBus.NameHasOwner: object_path= /org/freedesktop/DBus: unknown error type: \n",
      "[2760215:2760248:0421/164828.510919:ERROR:bus.cc(407)] Failed to connect to the bus: Failed to connect to socket /run/user/1000/bus: No such file or directory\n",
      "[2760215:2760310:0421/164828.534901:ERROR:object_proxy.cc(576)] Failed to call method: org.freedesktop.DBus.Properties.Get: object_path= /org/freedesktop/UPower: org.freedesktop.DBus.Error.ServiceUnknown: The name org.freedesktop.UPower was not provided by any .service files\n",
      "[2760215:2760310:0421/164828.535479:ERROR:object_proxy.cc(576)] Failed to call method: org.freedesktop.UPower.GetDisplayDevice: object_path= /org/freedesktop/UPower: org.freedesktop.DBus.Error.ServiceUnknown: The name org.freedesktop.UPower was not provided by any .service files\n",
      "[2760215:2760310:0421/164828.535906:ERROR:object_proxy.cc(576)] Failed to call method: org.freedesktop.UPower.EnumerateDevices: object_path= /org/freedesktop/UPower: org.freedesktop.DBus.Error.ServiceUnknown: The name org.freedesktop.UPower was not provided by any .service files\n",
      "[2760215:2760215:0421/164828.539700:ERROR:object_proxy.cc(576)] Failed to call method: org.freedesktop.DBus.NameHasOwner: object_path= /org/freedesktop/DBus: unknown error type: \n",
      "[2760215:2760240:0421/164828.539952:ERROR:bus.cc(407)] Failed to connect to the bus: Failed to connect to socket /run/user/1000/bus: No such file or directory\n",
      "[2760215:2760215:0421/164828.555306:ERROR:object_proxy.cc(576)] Failed to call method: org.freedesktop.DBus.NameHasOwner: object_path= /org/freedesktop/DBus: unknown error type: \n",
      "[2760215:2760242:0421/164828.555558:ERROR:bus.cc(407)] Failed to connect to the bus: Failed to connect to socket /run/user/1000/bus: No such file or directory\n",
      "[2760215:2760215:0421/164828.564280:ERROR:object_proxy.cc(576)] Failed to call method: org.freedesktop.DBus.NameHasOwner: object_path= /org/freedesktop/DBus: unknown error type: \n",
      "[2760215:2760242:0421/164828.564551:ERROR:bus.cc(407)] Failed to connect to the bus: Failed to connect to socket /run/user/1000/bus: No such file or directory\n",
      "[2760215:2760215:0421/164828.565508:ERROR:object_proxy.cc(576)] Failed to call method: org.freedesktop.DBus.NameHasOwner: object_path= /org/freedesktop/DBus: unknown error type: \n"
     ]
    },
    {
     "name": "stderr",
     "output_type": "stream",
     "text": [
      "INFO: Created TensorFlow Lite XNNPACK delegate for CPU.\n",
      "[2760215:2760243:0421/164838.487623:ERROR:bus.cc(407)] Failed to connect to the bus: Failed to connect to socket /run/user/1000/bus: No such file or directory\n",
      "[2760215:2760243:0421/164838.487730:ERROR:bus.cc(407)] Failed to connect to the bus: Failed to connect to socket /run/user/1000/bus: No such file or directory\n",
      "WARNING: Attempting to use a delegate that only supports static-sized tensors with a graph that has dynamic-sized tensors (tensor#141 is a dynamic-sized tensor).\n"
     ]
    }
   ],
   "source": [
    "# Save the figure as an HTML file\n",
    "fig.write_html(\"choropleth_map.html\")\n",
    "\n",
    "# To open the file in a browser, you can use your system's default file explorer\n",
    "\n",
    "\n",
    "os.system(\"open choropleth_map.html\")"
   ]
  }
 ],
 "metadata": {
  "kernelspec": {
   "display_name": "cda_project",
   "language": "python",
   "name": "python3"
  },
  "language_info": {
   "codemirror_mode": {
    "name": "ipython",
    "version": 3
   },
   "file_extension": ".py",
   "mimetype": "text/x-python",
   "name": "python",
   "nbconvert_exporter": "python",
   "pygments_lexer": "ipython3",
   "version": "3.12.1"
  }
 },
 "nbformat": 4,
 "nbformat_minor": 2
}
