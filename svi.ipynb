{
 "cells": [
  {
   "cell_type": "code",
   "execution_count": 1,
   "metadata": {},
   "outputs": [],
   "source": [
    "import pandas as pd\n",
    "\n",
    "df = pd.read_csv(\"data/SVI_2020_US.csv\", na_values=-999)\n"
   ]
  },
  {
   "cell_type": "markdown",
   "metadata": {},
   "source": [
    "Copied from the CDC site and not to be used as is -- \n",
    "\n",
    "# CDC/ATSDR Social Vulnerability Index\n",
    "\n",
    "Social vulnerability refers to the potential negative effects on communities caused by external stresses on human health. Such stresses include natural or human-caused disasters, or disease outbreaks. Reducing social vulnerability can decrease both human suffering and economic loss.\n",
    "\n",
    "The CDC/ATSDR Social Vulnerability Index (CDC/ATSDR SVI) uses 16 U.S. census variables to help local officials identify communities that may need support before, during, or after disasters.\n",
    "https://www.atsdr.cdc.gov/placeandhealth/svi/index.html"
   ]
  },
  {
   "cell_type": "markdown",
   "metadata": {},
   "source": [
    "## Understanding the variables\n",
    "The variables are prefixed with some characters to indicate the type of measurement:\n",
    "\n",
    "    E: Estimate\n",
    "\n",
    "    EP:  Percentage Estimate\n",
    "\n",
    "    F:  *Unable to find source, based on other experiences with census data this may indicate some degree of imputation*\n",
    "\n",
    "    M: Margin of Error on Estimate (E)\n",
    "\n",
    "    MP: Margin of Error on Percentage Estimate (EP)\n",
    "\n",
    "    RPL: Percentile ranking of theme ()\n",
    "\n",
    "    EPL: Percentile ranking of percentage estimate (EP)\n",
    "\n",
    "    SPL: Sum of Series (as in, sum(EPL scores))\n",
    "\n",
    "These definitions were cobbled together from the Minority Health SVI data dictionary. Their data dictionary has two additional themes, but appears to be largely the same. \n",
    "\n",
    "\n",
    "I did find a more detailed data dictionary and uploaded it to the folder. It has descriptions for a lot of the intermediate calculations. Unfortunately it looks like it would be a lot of effort to recreate them at the state level. "
   ]
  },
  {
   "cell_type": "code",
   "execution_count": 2,
   "metadata": {},
   "outputs": [
    {
     "data": {
      "text/plain": [
       "0        True\n",
       "1        True\n",
       "2        True\n",
       "3        True\n",
       "4        True\n",
       "         ... \n",
       "84117    True\n",
       "84118    True\n",
       "84119    True\n",
       "84120    True\n",
       "84121    True\n",
       "Length: 84122, dtype: bool"
      ]
     },
     "execution_count": 2,
     "metadata": {},
     "output_type": "execute_result"
    }
   ],
   "source": [
    "\n",
    "abs(df[[\"EPL_MUNIT\", \t\"EPL_MOBILE\",\t\"EPL_CROWD\",\t\"EPL_NOVEH\",\t\"EPL_GROUPQ\"]].sum(axis=1) - df[\"SPL_THEME4\"] )<.00001"
   ]
  },
  {
   "cell_type": "code",
   "execution_count": 3,
   "metadata": {},
   "outputs": [],
   "source": [
    "e_socio = df.filter(like=\"E_\").iloc[:, 3:8].columns\n",
    "epl_socio = [\"EPL_\" + col[2:] for col in e_socio]\n",
    "e_household = df.filter(like=\"E_\").iloc[:, 8:13]\n",
    "epl_household = [\"EPL_\" + col[2:] for col in e_household]\n",
    "e_housing_transp = df.filter(like=\"E_\").iloc[:, 14:19]\n",
    "epl_housing_transp = [\"EPL_\" + col[2:] for col in e_housing_transp]\n",
    "e_race = df[\"E_MINRTY\"].to_frame()\n",
    "epl_race = [\"EPL_\" + col[2:] for col in e_race]"
   ]
  },
  {
   "cell_type": "code",
   "execution_count": 4,
   "metadata": {},
   "outputs": [
    {
     "data": {
      "text/html": [
       "<div>\n",
       "<style scoped>\n",
       "    .dataframe tbody tr th:only-of-type {\n",
       "        vertical-align: middle;\n",
       "    }\n",
       "\n",
       "    .dataframe tbody tr th {\n",
       "        vertical-align: top;\n",
       "    }\n",
       "\n",
       "    .dataframe thead th {\n",
       "        text-align: right;\n",
       "    }\n",
       "</style>\n",
       "<table border=\"1\" class=\"dataframe\">\n",
       "  <thead>\n",
       "    <tr style=\"text-align: right;\">\n",
       "      <th></th>\n",
       "      <th>E_TOTPOP</th>\n",
       "      <th>M_TOTPOP</th>\n",
       "      <th>E_UNEMP</th>\n",
       "      <th>M_UNEMP</th>\n",
       "      <th>E_AGE65</th>\n",
       "      <th>E_AGE17</th>\n",
       "      <th>EP_UNEMP</th>\n",
       "      <th>MP_UNEMP</th>\n",
       "      <th>EPL_UNEMP</th>\n",
       "      <th>F_UNEMP</th>\n",
       "      <th>E_DAYPOP</th>\n",
       "    </tr>\n",
       "  </thead>\n",
       "  <tbody>\n",
       "    <tr>\n",
       "      <th>0</th>\n",
       "      <td>1941</td>\n",
       "      <td>390</td>\n",
       "      <td>18</td>\n",
       "      <td>18</td>\n",
       "      <td>295</td>\n",
       "      <td>415</td>\n",
       "      <td>2.1</td>\n",
       "      <td>2.1</td>\n",
       "      <td>0.1731</td>\n",
       "      <td>0.0</td>\n",
       "      <td>1033.0</td>\n",
       "    </tr>\n",
       "    <tr>\n",
       "      <th>1</th>\n",
       "      <td>1757</td>\n",
       "      <td>310</td>\n",
       "      <td>29</td>\n",
       "      <td>26</td>\n",
       "      <td>284</td>\n",
       "      <td>325</td>\n",
       "      <td>4.0</td>\n",
       "      <td>3.5</td>\n",
       "      <td>0.4210</td>\n",
       "      <td>0.0</td>\n",
       "      <td>4080.0</td>\n",
       "    </tr>\n",
       "    <tr>\n",
       "      <th>2</th>\n",
       "      <td>3694</td>\n",
       "      <td>570</td>\n",
       "      <td>53</td>\n",
       "      <td>45</td>\n",
       "      <td>464</td>\n",
       "      <td>929</td>\n",
       "      <td>2.7</td>\n",
       "      <td>2.3</td>\n",
       "      <td>0.2487</td>\n",
       "      <td>0.0</td>\n",
       "      <td>2056.0</td>\n",
       "    </tr>\n",
       "    <tr>\n",
       "      <th>3</th>\n",
       "      <td>3539</td>\n",
       "      <td>500</td>\n",
       "      <td>39</td>\n",
       "      <td>34</td>\n",
       "      <td>969</td>\n",
       "      <td>510</td>\n",
       "      <td>2.4</td>\n",
       "      <td>2.0</td>\n",
       "      <td>0.2096</td>\n",
       "      <td>0.0</td>\n",
       "      <td>1908.0</td>\n",
       "    </tr>\n",
       "    <tr>\n",
       "      <th>4</th>\n",
       "      <td>4306</td>\n",
       "      <td>662</td>\n",
       "      <td>23</td>\n",
       "      <td>31</td>\n",
       "      <td>541</td>\n",
       "      <td>1136</td>\n",
       "      <td>1.0</td>\n",
       "      <td>1.3</td>\n",
       "      <td>0.0641</td>\n",
       "      <td>0.0</td>\n",
       "      <td>3774.0</td>\n",
       "    </tr>\n",
       "    <tr>\n",
       "      <th>...</th>\n",
       "      <td>...</td>\n",
       "      <td>...</td>\n",
       "      <td>...</td>\n",
       "      <td>...</td>\n",
       "      <td>...</td>\n",
       "      <td>...</td>\n",
       "      <td>...</td>\n",
       "      <td>...</td>\n",
       "      <td>...</td>\n",
       "      <td>...</td>\n",
       "      <td>...</td>\n",
       "    </tr>\n",
       "    <tr>\n",
       "      <th>84117</th>\n",
       "      <td>3124</td>\n",
       "      <td>198</td>\n",
       "      <td>50</td>\n",
       "      <td>34</td>\n",
       "      <td>677</td>\n",
       "      <td>696</td>\n",
       "      <td>3.4</td>\n",
       "      <td>2.3</td>\n",
       "      <td>0.3415</td>\n",
       "      <td>0.0</td>\n",
       "      <td>1577.0</td>\n",
       "    </tr>\n",
       "    <tr>\n",
       "      <th>84118</th>\n",
       "      <td>2231</td>\n",
       "      <td>273</td>\n",
       "      <td>31</td>\n",
       "      <td>29</td>\n",
       "      <td>402</td>\n",
       "      <td>548</td>\n",
       "      <td>2.5</td>\n",
       "      <td>2.2</td>\n",
       "      <td>0.2223</td>\n",
       "      <td>0.0</td>\n",
       "      <td>2603.0</td>\n",
       "    </tr>\n",
       "    <tr>\n",
       "      <th>84119</th>\n",
       "      <td>2578</td>\n",
       "      <td>314</td>\n",
       "      <td>89</td>\n",
       "      <td>67</td>\n",
       "      <td>637</td>\n",
       "      <td>644</td>\n",
       "      <td>7.0</td>\n",
       "      <td>5.4</td>\n",
       "      <td>0.7176</td>\n",
       "      <td>0.0</td>\n",
       "      <td>3110.0</td>\n",
       "    </tr>\n",
       "    <tr>\n",
       "      <th>84120</th>\n",
       "      <td>3276</td>\n",
       "      <td>280</td>\n",
       "      <td>42</td>\n",
       "      <td>39</td>\n",
       "      <td>710</td>\n",
       "      <td>552</td>\n",
       "      <td>3.2</td>\n",
       "      <td>2.8</td>\n",
       "      <td>0.3147</td>\n",
       "      <td>0.0</td>\n",
       "      <td>1519.0</td>\n",
       "    </tr>\n",
       "    <tr>\n",
       "      <th>84121</th>\n",
       "      <td>3666</td>\n",
       "      <td>280</td>\n",
       "      <td>76</td>\n",
       "      <td>58</td>\n",
       "      <td>698</td>\n",
       "      <td>789</td>\n",
       "      <td>4.5</td>\n",
       "      <td>3.5</td>\n",
       "      <td>0.4829</td>\n",
       "      <td>0.0</td>\n",
       "      <td>3555.0</td>\n",
       "    </tr>\n",
       "  </tbody>\n",
       "</table>\n",
       "<p>84122 rows × 11 columns</p>\n",
       "</div>"
      ],
      "text/plain": [
       "       E_TOTPOP  M_TOTPOP  E_UNEMP  M_UNEMP  E_AGE65  E_AGE17  EP_UNEMP  \\\n",
       "0          1941       390       18       18      295      415       2.1   \n",
       "1          1757       310       29       26      284      325       4.0   \n",
       "2          3694       570       53       45      464      929       2.7   \n",
       "3          3539       500       39       34      969      510       2.4   \n",
       "4          4306       662       23       31      541     1136       1.0   \n",
       "...         ...       ...      ...      ...      ...      ...       ...   \n",
       "84117      3124       198       50       34      677      696       3.4   \n",
       "84118      2231       273       31       29      402      548       2.5   \n",
       "84119      2578       314       89       67      637      644       7.0   \n",
       "84120      3276       280       42       39      710      552       3.2   \n",
       "84121      3666       280       76       58      698      789       4.5   \n",
       "\n",
       "       MP_UNEMP  EPL_UNEMP  F_UNEMP  E_DAYPOP  \n",
       "0           2.1     0.1731      0.0    1033.0  \n",
       "1           3.5     0.4210      0.0    4080.0  \n",
       "2           2.3     0.2487      0.0    2056.0  \n",
       "3           2.0     0.2096      0.0    1908.0  \n",
       "4           1.3     0.0641      0.0    3774.0  \n",
       "...         ...        ...      ...       ...  \n",
       "84117       2.3     0.3415      0.0    1577.0  \n",
       "84118       2.2     0.2223      0.0    2603.0  \n",
       "84119       5.4     0.7176      0.0    3110.0  \n",
       "84120       2.8     0.3147      0.0    1519.0  \n",
       "84121       3.5     0.4829      0.0    3555.0  \n",
       "\n",
       "[84122 rows x 11 columns]"
      ]
     },
     "execution_count": 4,
     "metadata": {},
     "output_type": "execute_result"
    }
   ],
   "source": [
    "df.filter(regex=\"UNEMP|POP|E_AGE17|E_AGE65\")"
   ]
  },
  {
   "cell_type": "code",
   "execution_count": 5,
   "metadata": {},
   "outputs": [
    {
     "data": {
      "text/plain": [
       "0.9915836523144956"
      ]
     },
     "metadata": {},
     "output_type": "display_data"
    },
    {
     "data": {
      "text/plain": [
       "0.9920591521837332"
      ]
     },
     "metadata": {},
     "output_type": "display_data"
    },
    {
     "data": {
      "text/plain": [
       "0.9908347400204465"
      ]
     },
     "metadata": {},
     "output_type": "display_data"
    }
   ],
   "source": [
    "display((df[epl_socio].sum(axis=1) - df[\"SPL_THEME1\"] < 1e-4).mean())\n",
    "display((df[epl_household].sum(axis=1) - df[\"SPL_THEME2\"] < 1e-4).mean())\n",
    "\n",
    "display((df[epl_housing_transp].sum(axis=1) - df[\"SPL_THEME4\"] < 1e-4).mean())\n"
   ]
  },
  {
   "cell_type": "code",
   "execution_count": 6,
   "metadata": {},
   "outputs": [
    {
     "data": {
      "text/plain": [
       "{'E_AGE65': 'HH_CHARAC_E_AGE65',\n",
       " 'M_AGE65': 'HH_CHARAC_M_AGE65',\n",
       " 'E_AGE17': 'HH_CHARAC_E_AGE17',\n",
       " 'M_AGE17': 'HH_CHARAC_M_AGE17',\n",
       " 'E_DISABL': 'HH_CHARAC_E_DISABL',\n",
       " 'M_DISABL': 'HH_CHARAC_M_DISABL',\n",
       " 'E_SNGPNT': 'HH_CHARAC_E_SNGPNT',\n",
       " 'M_SNGPNT': 'HH_CHARAC_M_SNGPNT',\n",
       " 'E_LIMENG': 'HH_CHARAC_E_LIMENG',\n",
       " 'M_LIMENG': 'HH_CHARAC_M_LIMENG'}"
      ]
     },
     "execution_count": 6,
     "metadata": {},
     "output_type": "execute_result"
    }
   ],
   "source": [
    "household_characteristics = (\n",
    "    \"E_AGE65\",\n",
    "    \"M_AGE65\",\n",
    "    \"E_AGE17\",\n",
    "    \"M_AGE17\",\n",
    "    \"E_DISABL\",\n",
    "    \"M_DISABL\",\n",
    "    \"E_SNGPNT\",\n",
    "    \"M_SNGPNT\",\n",
    "    \"E_LIMENG\",\n",
    "    \"M_LIMENG\",\n",
    ")\n",
    "household_characteristics = {k: \"HH_CHARAC_\" + k for k in household_characteristics}\n",
    "household_characteristics\n"
   ]
  },
  {
   "cell_type": "code",
   "execution_count": 7,
   "metadata": {},
   "outputs": [],
   "source": [
    "state_density = df.groupby([\"ST\", \"STATE\"])[[\"AREA_SQMI\", \"E_TOTPOP\"]].sum()\n",
    "state_density = (state_density[\"E_TOTPOP\"]/state_density[\"AREA_SQMI\"]).to_frame( name=\"POP_PER_SQ_MILE\")\n",
    "\n"
   ]
  },
  {
   "cell_type": "code",
   "execution_count": 8,
   "metadata": {},
   "outputs": [],
   "source": [
    "weighted = df[[\"ST\", \"STATE\", \"E_TOTPOP\"]].copy()\n",
    "for col in df.filter(regex=r\"SPL_THEME\\d\"):\n",
    "    weighted.loc[:,col] = df[col] *weighted[\"E_TOTPOP\"]\n"
   ]
  },
  {
   "cell_type": "code",
   "execution_count": 9,
   "metadata": {},
   "outputs": [],
   "source": [
    "weighted = weighted.groupby([\"ST\", \"STATE\"]).sum()\n"
   ]
  },
  {
   "cell_type": "code",
   "execution_count": 10,
   "metadata": {},
   "outputs": [
    {
     "data": {
      "text/html": [
       "<div>\n",
       "<style scoped>\n",
       "    .dataframe tbody tr th:only-of-type {\n",
       "        vertical-align: middle;\n",
       "    }\n",
       "\n",
       "    .dataframe tbody tr th {\n",
       "        vertical-align: top;\n",
       "    }\n",
       "\n",
       "    .dataframe thead th {\n",
       "        text-align: right;\n",
       "    }\n",
       "</style>\n",
       "<table border=\"1\" class=\"dataframe\">\n",
       "  <thead>\n",
       "    <tr style=\"text-align: right;\">\n",
       "      <th></th>\n",
       "      <th>SPL_THEME1</th>\n",
       "      <th>SPL_THEME2</th>\n",
       "      <th>SPL_THEME3</th>\n",
       "      <th>SPL_THEME4</th>\n",
       "      <th>SPL_THEMES</th>\n",
       "    </tr>\n",
       "  </thead>\n",
       "  <tbody>\n",
       "    <tr>\n",
       "      <th>1613</th>\n",
       "      <td>3.7020</td>\n",
       "      <td>2.7166</td>\n",
       "      <td>0.9959</td>\n",
       "      <td>2.7722</td>\n",
       "      <td>10.1867</td>\n",
       "    </tr>\n",
       "    <tr>\n",
       "      <th>1614</th>\n",
       "      <td>3.8904</td>\n",
       "      <td>3.2939</td>\n",
       "      <td>0.9862</td>\n",
       "      <td>3.2422</td>\n",
       "      <td>11.4127</td>\n",
       "    </tr>\n",
       "    <tr>\n",
       "      <th>1615</th>\n",
       "      <td>3.6007</td>\n",
       "      <td>2.9756</td>\n",
       "      <td>0.9713</td>\n",
       "      <td>3.0570</td>\n",
       "      <td>10.6046</td>\n",
       "    </tr>\n",
       "    <tr>\n",
       "      <th>1616</th>\n",
       "      <td>3.8883</td>\n",
       "      <td>3.1765</td>\n",
       "      <td>0.9604</td>\n",
       "      <td>3.7195</td>\n",
       "      <td>11.7447</td>\n",
       "    </tr>\n",
       "    <tr>\n",
       "      <th>1617</th>\n",
       "      <td>4.0139</td>\n",
       "      <td>3.3581</td>\n",
       "      <td>0.9575</td>\n",
       "      <td>3.6083</td>\n",
       "      <td>11.9378</td>\n",
       "    </tr>\n",
       "    <tr>\n",
       "      <th>...</th>\n",
       "      <td>...</td>\n",
       "      <td>...</td>\n",
       "      <td>...</td>\n",
       "      <td>...</td>\n",
       "      <td>...</td>\n",
       "    </tr>\n",
       "    <tr>\n",
       "      <th>3373</th>\n",
       "      <td>2.3575</td>\n",
       "      <td>3.2413</td>\n",
       "      <td>0.7209</td>\n",
       "      <td>2.9736</td>\n",
       "      <td>9.2933</td>\n",
       "    </tr>\n",
       "    <tr>\n",
       "      <th>3374</th>\n",
       "      <td>NaN</td>\n",
       "      <td>NaN</td>\n",
       "      <td>NaN</td>\n",
       "      <td>NaN</td>\n",
       "      <td>NaN</td>\n",
       "    </tr>\n",
       "    <tr>\n",
       "      <th>3375</th>\n",
       "      <td>NaN</td>\n",
       "      <td>NaN</td>\n",
       "      <td>NaN</td>\n",
       "      <td>NaN</td>\n",
       "      <td>NaN</td>\n",
       "    </tr>\n",
       "    <tr>\n",
       "      <th>3376</th>\n",
       "      <td>NaN</td>\n",
       "      <td>NaN</td>\n",
       "      <td>0.9734</td>\n",
       "      <td>NaN</td>\n",
       "      <td>NaN</td>\n",
       "    </tr>\n",
       "    <tr>\n",
       "      <th>3377</th>\n",
       "      <td>2.2288</td>\n",
       "      <td>0.9235</td>\n",
       "      <td>0.6188</td>\n",
       "      <td>1.6552</td>\n",
       "      <td>5.4263</td>\n",
       "    </tr>\n",
       "  </tbody>\n",
       "</table>\n",
       "<p>1765 rows × 5 columns</p>\n",
       "</div>"
      ],
      "text/plain": [
       "      SPL_THEME1  SPL_THEME2  SPL_THEME3  SPL_THEME4  SPL_THEMES\n",
       "1613      3.7020      2.7166      0.9959      2.7722     10.1867\n",
       "1614      3.8904      3.2939      0.9862      3.2422     11.4127\n",
       "1615      3.6007      2.9756      0.9713      3.0570     10.6046\n",
       "1616      3.8883      3.1765      0.9604      3.7195     11.7447\n",
       "1617      4.0139      3.3581      0.9575      3.6083     11.9378\n",
       "...          ...         ...         ...         ...         ...\n",
       "3373      2.3575      3.2413      0.7209      2.9736      9.2933\n",
       "3374         NaN         NaN         NaN         NaN         NaN\n",
       "3375         NaN         NaN         NaN         NaN         NaN\n",
       "3376         NaN         NaN      0.9734         NaN         NaN\n",
       "3377      2.2288      0.9235      0.6188      1.6552      5.4263\n",
       "\n",
       "[1765 rows x 5 columns]"
      ]
     },
     "execution_count": 10,
     "metadata": {},
     "output_type": "execute_result"
    }
   ],
   "source": [
    "df[df[\"STATE\"].str.contains(\"Arizona\")].filter(like=\"SPL\")"
   ]
  },
  {
   "cell_type": "code",
   "execution_count": 11,
   "metadata": {},
   "outputs": [],
   "source": [
    "for col in weighted.filter(like=\"SPL\"):\n",
    "    weighted[col] = weighted[col]/weighted[\"E_TOTPOP\"]\n"
   ]
  },
  {
   "cell_type": "code",
   "execution_count": 12,
   "metadata": {},
   "outputs": [],
   "source": [
    "\n",
    "out = weighted.drop(columns=\"E_TOTPOP\").rename(columns={\"SPL_THEME1\":\"SOCIO\",\n",
    "                                                  \"SPL_THEME2\":\"HOUSEHOLD\",\n",
    "                                                  \"SPL_THEME3\":\"RACE\",\n",
    "                                                  \"SPL_THEME4\":\"HOUSING\"\n",
    "                                                  }\n",
    "                                                )\n",
    "\n",
    "out[\"POP_PER_SQ_MILE\"] = state_density[\"POP_PER_SQ_MILE\"]"
   ]
  },
  {
   "cell_type": "code",
   "execution_count": 13,
   "metadata": {},
   "outputs": [],
   "source": [
    "ranked = out.rank(pct=True).sort_values(\"SOCIO\")\n",
    "\n"
   ]
  },
  {
   "cell_type": "code",
   "execution_count": 14,
   "metadata": {},
   "outputs": [],
   "source": [
    "ranked.to_csv(\"data/ranked_svi_factors.csv\")"
   ]
  },
  {
   "cell_type": "code",
   "execution_count": 15,
   "metadata": {},
   "outputs": [],
   "source": [
    "out.to_csv(\"data/weighted_average_svi_factors.csv\")"
   ]
  },
  {
   "cell_type": "code",
   "execution_count": 16,
   "metadata": {},
   "outputs": [],
   "source": [
    "unweighted = (df.filter(regex=r\"ST$|STATE|(SPL_THEME\\d)\")\n",
    "              .groupby([\"ST\", \"STATE\"])\n",
    "              .mean()\n",
    "              )\n",
    "\n",
    "unweighted.to_csv(\"data/unweighted_average_svi_factors.csv\")\n",
    "\n"
   ]
  },
  {
   "cell_type": "code",
   "execution_count": null,
   "metadata": {},
   "outputs": [],
   "source": []
  }
 ],
 "metadata": {
  "kernelspec": {
   "display_name": "cda_project",
   "language": "python",
   "name": "python3"
  },
  "language_info": {
   "codemirror_mode": {
    "name": "ipython",
    "version": 3
   },
   "file_extension": ".py",
   "mimetype": "text/x-python",
   "name": "python",
   "nbconvert_exporter": "python",
   "pygments_lexer": "ipython3",
   "version": "3.12.1"
  }
 },
 "nbformat": 4,
 "nbformat_minor": 2
}
