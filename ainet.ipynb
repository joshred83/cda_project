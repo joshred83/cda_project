{
  "nbformat": 4,
  "nbformat_minor": 0,
  "metadata": {
    "colab": {
      "provenance": [],
      "authorship_tag": "ABX9TyPZNQf5HncRvOt1unlAu73W",
      "include_colab_link": true
    },
    "kernelspec": {
      "name": "python3",
      "display_name": "Python 3"
    },
    "language_info": {
      "name": "python"
    }
  },
  "cells": [
    {
      "cell_type": "markdown",
      "metadata": {
        "id": "view-in-github",
        "colab_type": "text"
      },
      "source": [
        "<a href=\"https://colab.research.google.com/github/joshred83/cda_project/blob/main/ainet.ipynb\" target=\"_parent\"><img src=\"https://colab.research.google.com/assets/colab-badge.svg\" alt=\"Open In Colab\"/></a>"
      ]
    },
    {
      "cell_type": "markdown",
      "source": [
        "\n"
      ],
      "metadata": {
        "id": "-opASmQrKyKV"
      }
    },
    {
      "cell_type": "code",
      "source": [
        "import pandas as pd\n",
        "from sklearn.feature_extraction.text import CountVectorizer, TfidfVectorizer\n",
        "from sklearn.linear_model import LassoCV\n",
        "from sklearn.base import BaseEstimator, TransformerMixin\n",
        "from scipy import sparse\n",
        "from sklearn.metrics import r2_score\n",
        "import numpy as np"
      ],
      "metadata": {
        "id": "AMLPrlRKKzFX"
      },
      "execution_count": 107,
      "outputs": []
    },
    {
      "cell_type": "markdown",
      "source": [],
      "metadata": {
        "id": "2R3lZcTGO2gR"
      }
    },
    {
      "cell_type": "code",
      "source": [
        "df = pd.read_csv(\"https://ai-jobs.net/salaries/download/salaries.csv\")"
      ],
      "metadata": {
        "id": "F8THePLzLV7B"
      },
      "execution_count": 92,
      "outputs": []
    },
    {
      "cell_type": "code",
      "source": [
        "df.columns"
      ],
      "metadata": {
        "colab": {
          "base_uri": "https://localhost:8080/"
        },
        "id": "TKj4N9kJVLAO",
        "outputId": "60a287b3-170e-4e1e-cc1e-c8fa80559a72"
      },
      "execution_count": 93,
      "outputs": [
        {
          "output_type": "execute_result",
          "data": {
            "text/plain": [
              "Index(['work_year', 'experience_level', 'employment_type', 'job_title',\n",
              "       'salary', 'salary_currency', 'salary_in_usd', 'employee_residence',\n",
              "       'remote_ratio', 'company_location', 'company_size'],\n",
              "      dtype='object')"
            ]
          },
          "metadata": {},
          "execution_count": 93
        }
      ]
    },
    {
      "cell_type": "code",
      "source": [
        "for col in df.select_dtypes(\"object\"):\n",
        "  print(col)\n",
        "  display(df[col].unique())\n"
      ],
      "metadata": {
        "colab": {
          "base_uri": "https://localhost:8080/",
          "height": 1000
        },
        "id": "86CfJkSPSh_V",
        "outputId": "c78a3352-09c0-4c9e-c2cc-c6ff9dd366ce"
      },
      "execution_count": 94,
      "outputs": [
        {
          "output_type": "stream",
          "name": "stdout",
          "text": [
            "experience_level\n"
          ]
        },
        {
          "output_type": "display_data",
          "data": {
            "text/plain": [
              "array(['SE', 'MI', 'EN', 'EX'], dtype=object)"
            ]
          },
          "metadata": {}
        },
        {
          "output_type": "stream",
          "name": "stdout",
          "text": [
            "employment_type\n"
          ]
        },
        {
          "output_type": "display_data",
          "data": {
            "text/plain": [
              "array(['FT', 'CT', 'PT', 'FL'], dtype=object)"
            ]
          },
          "metadata": {}
        },
        {
          "output_type": "stream",
          "name": "stdout",
          "text": [
            "job_title\n"
          ]
        },
        {
          "output_type": "display_data",
          "data": {
            "text/plain": [
              "array(['AI Software Development Engineer', 'Data Manager',\n",
              "       'Data Engineer', 'Data Analyst', 'Data Science',\n",
              "       'Business Intelligence', 'Data Scientist',\n",
              "       'Master Data Specialist', 'Machine Learning Engineer',\n",
              "       'Data Analytics Manager', 'Research Scientist',\n",
              "       'Research Engineer', 'Research Analyst', 'Data Architect',\n",
              "       'Business Intelligence Engineer', 'Robotics Engineer',\n",
              "       'Machine Learning Modeler', 'AI Engineer', 'ML Engineer',\n",
              "       'NLP Engineer', 'Applied Scientist', 'Data Operations Manager',\n",
              "       'Data Science Manager', 'Data Modeler',\n",
              "       'Data Integration Specialist', 'Data Product Manager',\n",
              "       'Data Visualization Specialist', 'Data Specialist',\n",
              "       'Business Intelligence Lead', 'Business Intelligence Analyst',\n",
              "       'AI Software Engineer', 'Machine Learning Scientist',\n",
              "       'Data Science Engineer', 'Machine Learning Operations Engineer',\n",
              "       'Analytics Engineer', 'Data Management Analyst',\n",
              "       'Encounter Data Management Professional',\n",
              "       'Data Analytics Specialist', 'Head of Data', 'Data Analytics Lead',\n",
              "       'AI Scientist', 'Business Intelligence Developer',\n",
              "       'Machine Learning Developer', 'Data Management Specialist',\n",
              "       'Data Infrastructure Engineer', 'BI Developer',\n",
              "       'Admin & Data Analyst', 'Insight Analyst',\n",
              "       'Consultant Data Engineer', 'Business Intelligence Manager',\n",
              "       'Manager Data Management', 'Data Quality Manager',\n",
              "       'Business Intelligence Specialist', 'Data Operations Analyst',\n",
              "       'Director of Business Intelligence', 'Data Product Owner',\n",
              "       'AI Research Scientist', 'Data Operations Specialist',\n",
              "       'Bear Robotics', 'Data Science Consultant', 'Data Lead',\n",
              "       'Data Operations Associate', 'AI Architect', 'Lead Data Scientist',\n",
              "       'MLOps Engineer', 'BI Analyst', 'Applied Research Scientist',\n",
              "       'Prompt Engineer', 'Data Integration Engineer',\n",
              "       'Machine Learning Infrastructure Engineer', 'Data Developer',\n",
              "       'CRM Data Analyst', 'ETL Developer', 'Cloud Database Engineer',\n",
              "       'Data Science Analyst', 'Data Science Practitioner',\n",
              "       'BI Data Analyst', 'Applied Data Scientist',\n",
              "       'Data Quality Engineer', 'Computational Biologist',\n",
              "       'Big Data Engineer', 'Data Analytics Associate',\n",
              "       'Data Reporting Analyst', 'Data Management Consultant',\n",
              "       'Data Quality Analyst', 'Robotics Software Engineer',\n",
              "       'Machine Learning Researcher', 'Data DevOps Engineer',\n",
              "       'Data Science Director', 'Data Strategist', 'Big Data Developer',\n",
              "       'Quantitative Research Analyst', 'Lead Machine Learning Engineer',\n",
              "       'Machine Learning Research Engineer', 'Data Analytics Consultant',\n",
              "       'AI Research Engineer', 'AI Programmer', 'ETL Engineer',\n",
              "       'AI Product Manager', 'AI Developer', 'Computer Vision Engineer',\n",
              "       'Head of Machine Learning', 'Data Analyst Lead',\n",
              "       'Data Integration Developer', 'ML Ops Engineer',\n",
              "       'Data Pipeline Engineer', 'Lead Data Analyst', 'Data Science Lead',\n",
              "       'Director of Data Science', 'Managing Director Data Science',\n",
              "       'Business Data Analyst', 'Marketing Data Scientist',\n",
              "       'Deep Learning Engineer', 'Decision Scientist',\n",
              "       'Financial Data Analyst', 'Data Strategy Manager',\n",
              "       'Data Visualization Engineer', 'Azure Data Engineer',\n",
              "       'Principal Data Scientist', 'Staff Data Analyst',\n",
              "       'Machine Learning Software Engineer',\n",
              "       'Applied Machine Learning Scientist', 'Data Operations Engineer',\n",
              "       'Machine Learning Manager', 'Principal Machine Learning Engineer',\n",
              "       'Principal Data Engineer', 'Power BI Developer',\n",
              "       'Head of Data Science', 'Staff Machine Learning Engineer',\n",
              "       'Staff Data Scientist', 'Machine Learning Specialist',\n",
              "       'Business Intelligence Data Analyst', 'Data Modeller',\n",
              "       'Finance Data Analyst', 'Software Data Engineer',\n",
              "       'Compliance Data Analyst', 'Cloud Data Engineer',\n",
              "       'Analytics Engineering Manager', 'AWS Data Architect',\n",
              "       'Product Data Analyst', 'Data Visualization Analyst',\n",
              "       'Autonomous Vehicle Technician', 'Sales Data Analyst',\n",
              "       'Applied Machine Learning Engineer', 'BI Data Engineer',\n",
              "       'Deep Learning Researcher', 'Big Data Architect',\n",
              "       'Computer Vision Software Engineer', 'Marketing Data Engineer',\n",
              "       'Data Science Tech Lead', 'Data Scientist Lead',\n",
              "       'Marketing Data Analyst', 'Principal Data Architect',\n",
              "       'Data Analytics Engineer', 'Cloud Data Architect',\n",
              "       'Lead Data Engineer', 'Principal Data Analyst'], dtype=object)"
            ]
          },
          "metadata": {}
        },
        {
          "output_type": "stream",
          "name": "stdout",
          "text": [
            "salary_currency\n"
          ]
        },
        {
          "output_type": "display_data",
          "data": {
            "text/plain": [
              "array(['INR', 'USD', 'GBP', 'CAD', 'EUR', 'DKK', 'ILS', 'BRL', 'CHF',\n",
              "       'NZD', 'AUD', 'PLN', 'PHP', 'TRY', 'NOK', 'JPY', 'ZAR', 'HKD',\n",
              "       'SGD', 'THB', 'HUF', 'MXN', 'CLP'], dtype=object)"
            ]
          },
          "metadata": {}
        },
        {
          "output_type": "stream",
          "name": "stdout",
          "text": [
            "employee_residence\n"
          ]
        },
        {
          "output_type": "display_data",
          "data": {
            "text/plain": [
              "array(['IN', 'US', 'GB', 'CA', 'AU', 'NL', 'LT', 'DK', 'FR', 'ZA', 'NZ',\n",
              "       'AR', 'ES', 'KE', 'LV', 'GE', 'DE', 'IL', 'FI', 'AT', 'HR', 'BR',\n",
              "       'CH', 'AE', 'GR', 'PL', 'SA', 'UA', 'EG', 'PH', 'TR', 'OM', 'MX',\n",
              "       'PT', 'BA', 'IT', 'IE', 'EE', 'MT', 'LB', 'RO', 'HU', 'VN', 'NG',\n",
              "       'CZ', 'PK', 'UG', 'CO', 'SI', 'MU', 'AM', 'TH', 'KR', 'QA', 'RU',\n",
              "       'TN', 'GH', 'BE', 'AD', 'EC', 'PE', 'MD', 'NO', 'UZ', 'JP', 'HK',\n",
              "       'CF', 'SG', 'SE', 'KW', 'CY', 'IR', 'AS', 'CN', 'CR', 'CL', 'PR',\n",
              "       'BO', 'DO', 'ID', 'MY', 'HN', 'DZ', 'IQ', 'BG', 'JE', 'RS', 'LU'],\n",
              "      dtype=object)"
            ]
          },
          "metadata": {}
        },
        {
          "output_type": "stream",
          "name": "stdout",
          "text": [
            "company_location\n"
          ]
        },
        {
          "output_type": "display_data",
          "data": {
            "text/plain": [
              "array(['IN', 'US', 'GB', 'CA', 'AU', 'NL', 'LT', 'DK', 'FR', 'ZA', 'NZ',\n",
              "       'AR', 'ES', 'KE', 'LV', 'DE', 'IL', 'FI', 'AT', 'BR', 'CH', 'AE',\n",
              "       'PL', 'SA', 'UA', 'EG', 'PH', 'TR', 'OM', 'MX', 'PT', 'BA', 'IT',\n",
              "       'AS', 'IE', 'EE', 'MT', 'HU', 'LB', 'RO', 'VN', 'NG', 'LU', 'GI',\n",
              "       'CO', 'SI', 'GR', 'MU', 'RU', 'KR', 'CZ', 'QA', 'GH', 'SE', 'AD',\n",
              "       'EC', 'NO', 'JP', 'HK', 'CF', 'SG', 'TH', 'HR', 'AM', 'PK', 'IR',\n",
              "       'BS', 'PR', 'BE', 'ID', 'MY', 'HN', 'DZ', 'IQ', 'CN', 'CL', 'MD'],\n",
              "      dtype=object)"
            ]
          },
          "metadata": {}
        },
        {
          "output_type": "stream",
          "name": "stdout",
          "text": [
            "company_size\n"
          ]
        },
        {
          "output_type": "display_data",
          "data": {
            "text/plain": [
              "array(['L', 'M', 'S'], dtype=object)"
            ]
          },
          "metadata": {}
        }
      ]
    },
    {
      "cell_type": "code",
      "source": [
        "\n",
        "df = df.loc[df[\"salary_currency\"].eq(\"USD\") &\n",
        "            df[\"employee_residence\"].eq(\"US\"),\n",
        "           [\"work_year\",\"salary\", \"job_title\", \"employment_type\",\"remote_ratio\", \"experience_level\", \"company_size\"]]\n",
        "y = df[\"salary\"]\n",
        "del df[\"salary\"]\n"
      ],
      "metadata": {
        "id": "RuNruPnaUBX0"
      },
      "execution_count": 95,
      "outputs": []
    },
    {
      "cell_type": "code",
      "source": [
        "# prompt: Using dataframe df: create a transformation pipeline. Encode the variables employment type, experience level, expertise level and company size.  rewrite this to reflect changes to the data frame\n",
        "\n",
        "from sklearn.preprocessing import OneHotEncoder\n",
        "from sklearn.pipeline import Pipeline\n",
        "from sklearn.compose import ColumnTransformer\n",
        "\n",
        "# Create a OneHotEncoder object\n",
        "ohe = OneHotEncoder(drop='first', sparse=True)\n",
        "cvect = CountVectorizer()\n",
        "df_ohe = ohe.fit_transform(df[['employment_type', 'experience_level', 'company_size']])\n",
        "df_cvect = cvect.fit_transform(df[\"job_title\"])\n",
        "ohe_shape = df_ohe.shape\n",
        "cvect_shape = df_cvect.shape\n",
        "\n",
        "X = sparse.hstack([df_ohe, df_cvect])\n"
      ],
      "metadata": {
        "colab": {
          "base_uri": "https://localhost:8080/"
        },
        "id": "U7lGI8jvfvnd",
        "outputId": "9d6dae8c-6813-4863-ebdc-49dbf3a65a5c"
      },
      "execution_count": 96,
      "outputs": [
        {
          "output_type": "stream",
          "name": "stderr",
          "text": [
            "/usr/local/lib/python3.10/dist-packages/sklearn/preprocessing/_encoders.py:868: FutureWarning: `sparse` was renamed to `sparse_output` in version 1.2 and will be removed in 1.4. `sparse_output` is ignored unless you leave `sparse` to its default value.\n",
            "  warnings.warn(\n"
          ]
        }
      ]
    },
    {
      "cell_type": "code",
      "source": [
        "lasso = LassoCV(cv=10, n_jobs=-1, )\n",
        "\n",
        "lasso.fit(X=X, y = y.values.ravel())"
      ],
      "metadata": {
        "colab": {
          "base_uri": "https://localhost:8080/",
          "height": 75
        },
        "id": "DkPt2GidPVmY",
        "outputId": "f302bee2-e9f1-47d8-9694-ef1c537690c9"
      },
      "execution_count": 97,
      "outputs": [
        {
          "output_type": "execute_result",
          "data": {
            "text/plain": [
              "LassoCV(cv=10, n_jobs=-1)"
            ],
            "text/html": [
              "<style>#sk-container-id-2 {color: black;background-color: white;}#sk-container-id-2 pre{padding: 0;}#sk-container-id-2 div.sk-toggleable {background-color: white;}#sk-container-id-2 label.sk-toggleable__label {cursor: pointer;display: block;width: 100%;margin-bottom: 0;padding: 0.3em;box-sizing: border-box;text-align: center;}#sk-container-id-2 label.sk-toggleable__label-arrow:before {content: \"▸\";float: left;margin-right: 0.25em;color: #696969;}#sk-container-id-2 label.sk-toggleable__label-arrow:hover:before {color: black;}#sk-container-id-2 div.sk-estimator:hover label.sk-toggleable__label-arrow:before {color: black;}#sk-container-id-2 div.sk-toggleable__content {max-height: 0;max-width: 0;overflow: hidden;text-align: left;background-color: #f0f8ff;}#sk-container-id-2 div.sk-toggleable__content pre {margin: 0.2em;color: black;border-radius: 0.25em;background-color: #f0f8ff;}#sk-container-id-2 input.sk-toggleable__control:checked~div.sk-toggleable__content {max-height: 200px;max-width: 100%;overflow: auto;}#sk-container-id-2 input.sk-toggleable__control:checked~label.sk-toggleable__label-arrow:before {content: \"▾\";}#sk-container-id-2 div.sk-estimator input.sk-toggleable__control:checked~label.sk-toggleable__label {background-color: #d4ebff;}#sk-container-id-2 div.sk-label input.sk-toggleable__control:checked~label.sk-toggleable__label {background-color: #d4ebff;}#sk-container-id-2 input.sk-hidden--visually {border: 0;clip: rect(1px 1px 1px 1px);clip: rect(1px, 1px, 1px, 1px);height: 1px;margin: -1px;overflow: hidden;padding: 0;position: absolute;width: 1px;}#sk-container-id-2 div.sk-estimator {font-family: monospace;background-color: #f0f8ff;border: 1px dotted black;border-radius: 0.25em;box-sizing: border-box;margin-bottom: 0.5em;}#sk-container-id-2 div.sk-estimator:hover {background-color: #d4ebff;}#sk-container-id-2 div.sk-parallel-item::after {content: \"\";width: 100%;border-bottom: 1px solid gray;flex-grow: 1;}#sk-container-id-2 div.sk-label:hover label.sk-toggleable__label {background-color: #d4ebff;}#sk-container-id-2 div.sk-serial::before {content: \"\";position: absolute;border-left: 1px solid gray;box-sizing: border-box;top: 0;bottom: 0;left: 50%;z-index: 0;}#sk-container-id-2 div.sk-serial {display: flex;flex-direction: column;align-items: center;background-color: white;padding-right: 0.2em;padding-left: 0.2em;position: relative;}#sk-container-id-2 div.sk-item {position: relative;z-index: 1;}#sk-container-id-2 div.sk-parallel {display: flex;align-items: stretch;justify-content: center;background-color: white;position: relative;}#sk-container-id-2 div.sk-item::before, #sk-container-id-2 div.sk-parallel-item::before {content: \"\";position: absolute;border-left: 1px solid gray;box-sizing: border-box;top: 0;bottom: 0;left: 50%;z-index: -1;}#sk-container-id-2 div.sk-parallel-item {display: flex;flex-direction: column;z-index: 1;position: relative;background-color: white;}#sk-container-id-2 div.sk-parallel-item:first-child::after {align-self: flex-end;width: 50%;}#sk-container-id-2 div.sk-parallel-item:last-child::after {align-self: flex-start;width: 50%;}#sk-container-id-2 div.sk-parallel-item:only-child::after {width: 0;}#sk-container-id-2 div.sk-dashed-wrapped {border: 1px dashed gray;margin: 0 0.4em 0.5em 0.4em;box-sizing: border-box;padding-bottom: 0.4em;background-color: white;}#sk-container-id-2 div.sk-label label {font-family: monospace;font-weight: bold;display: inline-block;line-height: 1.2em;}#sk-container-id-2 div.sk-label-container {text-align: center;}#sk-container-id-2 div.sk-container {/* jupyter's `normalize.less` sets `[hidden] { display: none; }` but bootstrap.min.css set `[hidden] { display: none !important; }` so we also need the `!important` here to be able to override the default hidden behavior on the sphinx rendered scikit-learn.org. See: https://github.com/scikit-learn/scikit-learn/issues/21755 */display: inline-block !important;position: relative;}#sk-container-id-2 div.sk-text-repr-fallback {display: none;}</style><div id=\"sk-container-id-2\" class=\"sk-top-container\"><div class=\"sk-text-repr-fallback\"><pre>LassoCV(cv=10, n_jobs=-1)</pre><b>In a Jupyter environment, please rerun this cell to show the HTML representation or trust the notebook. <br />On GitHub, the HTML representation is unable to render, please try loading this page with nbviewer.org.</b></div><div class=\"sk-container\" hidden><div class=\"sk-item\"><div class=\"sk-estimator sk-toggleable\"><input class=\"sk-toggleable__control sk-hidden--visually\" id=\"sk-estimator-id-2\" type=\"checkbox\" checked><label for=\"sk-estimator-id-2\" class=\"sk-toggleable__label sk-toggleable__label-arrow\">LassoCV</label><div class=\"sk-toggleable__content\"><pre>LassoCV(cv=10, n_jobs=-1)</pre></div></div></div></div></div>"
            ]
          },
          "metadata": {},
          "execution_count": 97
        }
      ]
    },
    {
      "cell_type": "code",
      "source": [
        "lasso.score(X, y)"
      ],
      "metadata": {
        "colab": {
          "base_uri": "https://localhost:8080/"
        },
        "id": "ytiU1XZloA9v",
        "outputId": "777e6b07-e9bc-4a80-fe6f-baa89dbf9179"
      },
      "execution_count": 100,
      "outputs": [
        {
          "output_type": "execute_result",
          "data": {
            "text/plain": [
              "0.2525793867262558"
            ]
          },
          "metadata": {},
          "execution_count": 100
        }
      ]
    },
    {
      "cell_type": "code",
      "source": [
        "# prompt: evaluate lasso model\n",
        "\n",
        "lasso_pred = lasso.predict(X)\n",
        "\n",
        "r2_score(y_true=y, y_pred=lasso_pred)\n",
        "np.r_[ohe.get_feature_names_out(), cvect.get_feature_names_out()][lasso.coef_ >0 ]\n"
      ],
      "metadata": {
        "colab": {
          "base_uri": "https://localhost:8080/"
        },
        "id": "YWszEZ5YQEk6",
        "outputId": "ac3374da-7fb8-450b-c53d-3ee7f095d3d1"
      },
      "execution_count": 111,
      "outputs": [
        {
          "output_type": "execute_result",
          "data": {
            "text/plain": [
              "array(['employment_type_FT', 'experience_level_EX', 'experience_level_MI',\n",
              "       'experience_level_SE', 'company_size_M', 'ai', 'analytics',\n",
              "       'applied', 'architect', 'computer', 'deep', 'engineer', 'head',\n",
              "       'infrastructure', 'lead', 'learning', 'manager', 'ml', 'of',\n",
              "       'principal', 'product', 'prompt', 'research', 'science',\n",
              "       'scientist', 'software', 'vision'], dtype=object)"
            ]
          },
          "metadata": {},
          "execution_count": 111
        }
      ]
    },
    {
      "cell_type": "code",
      "source": [
        "import matplotlib.pyplot as plt\n",
        "plt.scatter(y, lasso_pred)"
      ],
      "metadata": {
        "colab": {
          "base_uri": "https://localhost:8080/",
          "height": 447
        },
        "id": "EDWYrj-qQfPu",
        "outputId": "46b55aea-18ad-4475-966d-a081514b6681"
      },
      "execution_count": 114,
      "outputs": [
        {
          "output_type": "execute_result",
          "data": {
            "text/plain": [
              "<matplotlib.collections.PathCollection at 0x7fb8b18dfd00>"
            ]
          },
          "metadata": {},
          "execution_count": 114
        },
        {
          "output_type": "display_data",
          "data": {
            "text/plain": [
              "<Figure size 640x480 with 1 Axes>"
            ],
            "image/png": "[encoded data removed]"
          },
          "metadata": {}
        }
      ]
    },
    {
      "cell_type": "code",
      "source": [],
      "metadata": {
        "id": "U8jsWez1phQv"
      },
      "execution_count": 114,
      "outputs": []
    }
  ]
}