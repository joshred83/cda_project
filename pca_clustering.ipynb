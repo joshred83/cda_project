{
 "cells": [
  {
   "cell_type": "code",
   "execution_count": 35,
   "metadata": {},
   "outputs": [],
   "source": [
    "\"\"\"\n",
    "Preprocesses the input data frame by imputing missing values with median, standardizing the features, and applying PCA for dimensionality reduction.\n",
    "\n",
    "Fits a KMeans clustering model on the PCA-transformed data and plots the clusters.\n",
    "\"\"\"\n",
    "\n",
    "from sklearn.preprocessing import StandardScaler\n",
    "from sklearn.impute import SimpleImputer\n",
    "from sklearn.decomposition import PCA\n",
    "from sklearn.cluster import KMeans, SpectralClustering\n",
    "from sklearn.mixture import GaussianMixture\n",
    "import pandas as pd\n",
    "import numpy as np\n",
    "from matplotlib import pyplot as plt\n",
    "from sklearn.metrics import silhouette_score\n",
    "\n",
    "\n",
    "def preprocess(df):\n",
    "    imputer = SimpleImputer(strategy=\"median\")\n",
    "    imputed_df = pd.DataFrame(imputer.fit_transform(df))\n",
    "    scaled_df = StandardScaler().fit_transform(imputed_df)\n",
    "    return scaled_df\n",
    "\n",
    "\n",
    "def display_loadings(fitted_pca, features, figsize=(3, 10), component=0):\n",
    "    loadings = fitted_pca.components_\n",
    "    order = np.argsort(abs(loadings[component, :]))[::]  # Reverse the order\n",
    "    loadings = loadings[:, order]\n",
    "    features = [features[i] for i in order]\n",
    "\n",
    "    loadings = pd.Series(loadings[component, :], index=features)\n",
    "    fig, ax = plt.subplots(figsize=figsize)\n",
    "    loadings.plot(kind=\"barh\", ax=ax)\n",
    "\n",
    "    return loadings\n",
    "\n",
    "\n",
    "df = pd.read_csv(\"data/DS_salary_factors.csv\", na_values=0)\n",
    "df[\"GeoFips\"] = df[\"GeoFips\"].astype(str)\n",
    "\n",
    "# Features selected by Nate\n",
    "feature_names = [\n",
    "    \"2022 GDP\",\n",
    "    \"Total Employment in State/Area\",\n",
    "    \"2022 Median\",\n",
    "    \"Poverty Percent\",\n",
    "    \"Per Bach or Higher\",\n",
    "    \"Uninsured\",\n",
    "    \"2020 Life Expect\",\n",
    "    \"Violent crime rate per 100,000 people\",\n",
    "    \"Property crime rate per 100,000 people\",\n",
    "    \"percent formal_vol\",\n",
    "    \"percent Good Air Quality Days\",\n",
    "    \"Gas Tax (cents)\",\n",
    "    \"Internet Access Percent 2021\",\n",
    "    \"Happiness\",\n",
    "    \"A_MEDIAN\",\n",
    "]\n"
   ]
  },
  {
   "cell_type": "code",
   "execution_count": 36,
   "metadata": {},
   "outputs": [],
   "source": [
    "# numeric_features = df.select_dtypes(include=\"number\").columns\n",
    "\n",
    "\n",
    "X = df[feature_names]\n"
   ]
  },
  {
   "cell_type": "code",
   "execution_count": 37,
   "metadata": {},
   "outputs": [],
   "source": [
    "X = preprocess(X)\n",
    "pca = PCA().fit(X)\n",
    "X_pca = pca.transform(X)\n",
    "captures_80 = (np.argwhere(pca.explained_variance_ratio_.cumsum() > 0.8) + 1).min()\n"
   ]
  },
  {
   "cell_type": "code",
   "execution_count": 38,
   "metadata": {},
   "outputs": [
    {
     "name": "stderr",
     "output_type": "stream",
     "text": [
      "/tmp/ipykernel_721104/1790482763.py:24: FutureWarning:\n",
      "\n",
      "The behavior of DataFrame concatenation with empty or all-NA entries is deprecated. In a future version, this will no longer exclude empty or all-NA columns when determining the result dtypes. To retain the old behavior, exclude the relevant entries before the concat operation.\n",
      "\n"
     ]
    },
    {
     "data": {
      "text/html": [
       "<div>\n",
       "<style scoped>\n",
       "    .dataframe tbody tr th:only-of-type {\n",
       "        vertical-align: middle;\n",
       "    }\n",
       "\n",
       "    .dataframe tbody tr th {\n",
       "        vertical-align: top;\n",
       "    }\n",
       "\n",
       "    .dataframe thead th {\n",
       "        text-align: right;\n",
       "    }\n",
       "</style>\n",
       "<table border=\"1\" class=\"dataframe\">\n",
       "  <thead>\n",
       "    <tr style=\"text-align: right;\">\n",
       "      <th></th>\n",
       "      <th>Clusterer</th>\n",
       "      <th>K</th>\n",
       "      <th>N_components</th>\n",
       "      <th>Silhouette</th>\n",
       "    </tr>\n",
       "  </thead>\n",
       "  <tbody>\n",
       "    <tr>\n",
       "      <th>0</th>\n",
       "      <td>kmeans</td>\n",
       "      <td>2</td>\n",
       "      <td>2</td>\n",
       "      <td>0.447602</td>\n",
       "    </tr>\n",
       "    <tr>\n",
       "      <th>1</th>\n",
       "      <td>Agglomerative</td>\n",
       "      <td>2</td>\n",
       "      <td>2</td>\n",
       "      <td>0.435037</td>\n",
       "    </tr>\n",
       "    <tr>\n",
       "      <th>2</th>\n",
       "      <td>GMM</td>\n",
       "      <td>2</td>\n",
       "      <td>2</td>\n",
       "      <td>0.428467</td>\n",
       "    </tr>\n",
       "    <tr>\n",
       "      <th>3</th>\n",
       "      <td>kmeans</td>\n",
       "      <td>3</td>\n",
       "      <td>2</td>\n",
       "      <td>0.424344</td>\n",
       "    </tr>\n",
       "    <tr>\n",
       "      <th>4</th>\n",
       "      <td>GMM</td>\n",
       "      <td>3</td>\n",
       "      <td>2</td>\n",
       "      <td>0.417034</td>\n",
       "    </tr>\n",
       "    <tr>\n",
       "      <th>5</th>\n",
       "      <td>Agglomerative</td>\n",
       "      <td>3</td>\n",
       "      <td>2</td>\n",
       "      <td>0.408917</td>\n",
       "    </tr>\n",
       "    <tr>\n",
       "      <th>6</th>\n",
       "      <td>kmeans</td>\n",
       "      <td>4</td>\n",
       "      <td>2</td>\n",
       "      <td>0.402274</td>\n",
       "    </tr>\n",
       "    <tr>\n",
       "      <th>7</th>\n",
       "      <td>kmeans</td>\n",
       "      <td>5</td>\n",
       "      <td>2</td>\n",
       "      <td>0.400898</td>\n",
       "    </tr>\n",
       "    <tr>\n",
       "      <th>8</th>\n",
       "      <td>kmeans</td>\n",
       "      <td>6</td>\n",
       "      <td>2</td>\n",
       "      <td>0.399334</td>\n",
       "    </tr>\n",
       "    <tr>\n",
       "      <th>9</th>\n",
       "      <td>kmeans</td>\n",
       "      <td>7</td>\n",
       "      <td>2</td>\n",
       "      <td>0.369838</td>\n",
       "    </tr>\n",
       "    <tr>\n",
       "      <th>10</th>\n",
       "      <td>Agglomerative</td>\n",
       "      <td>7</td>\n",
       "      <td>2</td>\n",
       "      <td>0.368541</td>\n",
       "    </tr>\n",
       "    <tr>\n",
       "      <th>11</th>\n",
       "      <td>kmeans</td>\n",
       "      <td>2</td>\n",
       "      <td>3</td>\n",
       "      <td>0.366420</td>\n",
       "    </tr>\n",
       "    <tr>\n",
       "      <th>12</th>\n",
       "      <td>Agglomerative</td>\n",
       "      <td>6</td>\n",
       "      <td>2</td>\n",
       "      <td>0.362126</td>\n",
       "    </tr>\n",
       "    <tr>\n",
       "      <th>13</th>\n",
       "      <td>GMM</td>\n",
       "      <td>2</td>\n",
       "      <td>3</td>\n",
       "      <td>0.359156</td>\n",
       "    </tr>\n",
       "    <tr>\n",
       "      <th>14</th>\n",
       "      <td>Agglomerative</td>\n",
       "      <td>5</td>\n",
       "      <td>2</td>\n",
       "      <td>0.353853</td>\n",
       "    </tr>\n",
       "    <tr>\n",
       "      <th>15</th>\n",
       "      <td>Agglomerative</td>\n",
       "      <td>4</td>\n",
       "      <td>2</td>\n",
       "      <td>0.352369</td>\n",
       "    </tr>\n",
       "    <tr>\n",
       "      <th>16</th>\n",
       "      <td>kmeans</td>\n",
       "      <td>3</td>\n",
       "      <td>3</td>\n",
       "      <td>0.345055</td>\n",
       "    </tr>\n",
       "    <tr>\n",
       "      <th>17</th>\n",
       "      <td>Agglomerative</td>\n",
       "      <td>2</td>\n",
       "      <td>3</td>\n",
       "      <td>0.344153</td>\n",
       "    </tr>\n",
       "    <tr>\n",
       "      <th>18</th>\n",
       "      <td>kmeans</td>\n",
       "      <td>4</td>\n",
       "      <td>3</td>\n",
       "      <td>0.342500</td>\n",
       "    </tr>\n",
       "    <tr>\n",
       "      <th>19</th>\n",
       "      <td>Agglomerative</td>\n",
       "      <td>3</td>\n",
       "      <td>3</td>\n",
       "      <td>0.334109</td>\n",
       "    </tr>\n",
       "    <tr>\n",
       "      <th>20</th>\n",
       "      <td>GMM</td>\n",
       "      <td>4</td>\n",
       "      <td>3</td>\n",
       "      <td>0.334064</td>\n",
       "    </tr>\n",
       "    <tr>\n",
       "      <th>21</th>\n",
       "      <td>GMM</td>\n",
       "      <td>2</td>\n",
       "      <td>4</td>\n",
       "      <td>0.318145</td>\n",
       "    </tr>\n",
       "    <tr>\n",
       "      <th>22</th>\n",
       "      <td>kmeans</td>\n",
       "      <td>2</td>\n",
       "      <td>4</td>\n",
       "      <td>0.318145</td>\n",
       "    </tr>\n",
       "    <tr>\n",
       "      <th>23</th>\n",
       "      <td>GMM</td>\n",
       "      <td>3</td>\n",
       "      <td>3</td>\n",
       "      <td>0.309548</td>\n",
       "    </tr>\n",
       "    <tr>\n",
       "      <th>24</th>\n",
       "      <td>GMM</td>\n",
       "      <td>6</td>\n",
       "      <td>2</td>\n",
       "      <td>0.306843</td>\n",
       "    </tr>\n",
       "    <tr>\n",
       "      <th>25</th>\n",
       "      <td>GMM</td>\n",
       "      <td>4</td>\n",
       "      <td>4</td>\n",
       "      <td>0.299040</td>\n",
       "    </tr>\n",
       "    <tr>\n",
       "      <th>26</th>\n",
       "      <td>kmeans</td>\n",
       "      <td>6</td>\n",
       "      <td>3</td>\n",
       "      <td>0.298254</td>\n",
       "    </tr>\n",
       "    <tr>\n",
       "      <th>27</th>\n",
       "      <td>Agglomerative</td>\n",
       "      <td>2</td>\n",
       "      <td>4</td>\n",
       "      <td>0.296482</td>\n",
       "    </tr>\n",
       "    <tr>\n",
       "      <th>28</th>\n",
       "      <td>Agglomerative</td>\n",
       "      <td>4</td>\n",
       "      <td>3</td>\n",
       "      <td>0.295112</td>\n",
       "    </tr>\n",
       "    <tr>\n",
       "      <th>29</th>\n",
       "      <td>Agglomerative</td>\n",
       "      <td>4</td>\n",
       "      <td>5</td>\n",
       "      <td>0.290263</td>\n",
       "    </tr>\n",
       "    <tr>\n",
       "      <th>30</th>\n",
       "      <td>GMM</td>\n",
       "      <td>4</td>\n",
       "      <td>5</td>\n",
       "      <td>0.289920</td>\n",
       "    </tr>\n",
       "    <tr>\n",
       "      <th>31</th>\n",
       "      <td>kmeans</td>\n",
       "      <td>5</td>\n",
       "      <td>3</td>\n",
       "      <td>0.288884</td>\n",
       "    </tr>\n",
       "    <tr>\n",
       "      <th>32</th>\n",
       "      <td>GMM</td>\n",
       "      <td>5</td>\n",
       "      <td>3</td>\n",
       "      <td>0.288549</td>\n",
       "    </tr>\n",
       "    <tr>\n",
       "      <th>33</th>\n",
       "      <td>kmeans</td>\n",
       "      <td>7</td>\n",
       "      <td>3</td>\n",
       "      <td>0.288160</td>\n",
       "    </tr>\n",
       "    <tr>\n",
       "      <th>34</th>\n",
       "      <td>kmeans</td>\n",
       "      <td>3</td>\n",
       "      <td>4</td>\n",
       "      <td>0.286390</td>\n",
       "    </tr>\n",
       "    <tr>\n",
       "      <th>35</th>\n",
       "      <td>kmeans</td>\n",
       "      <td>2</td>\n",
       "      <td>5</td>\n",
       "      <td>0.285665</td>\n",
       "    </tr>\n",
       "    <tr>\n",
       "      <th>36</th>\n",
       "      <td>Agglomerative</td>\n",
       "      <td>3</td>\n",
       "      <td>5</td>\n",
       "      <td>0.282461</td>\n",
       "    </tr>\n",
       "    <tr>\n",
       "      <th>37</th>\n",
       "      <td>Agglomerative</td>\n",
       "      <td>6</td>\n",
       "      <td>3</td>\n",
       "      <td>0.281814</td>\n",
       "    </tr>\n",
       "    <tr>\n",
       "      <th>38</th>\n",
       "      <td>Agglomerative</td>\n",
       "      <td>2</td>\n",
       "      <td>5</td>\n",
       "      <td>0.277993</td>\n",
       "    </tr>\n",
       "    <tr>\n",
       "      <th>39</th>\n",
       "      <td>Agglomerative</td>\n",
       "      <td>5</td>\n",
       "      <td>3</td>\n",
       "      <td>0.276285</td>\n",
       "    </tr>\n",
       "    <tr>\n",
       "      <th>40</th>\n",
       "      <td>kmeans</td>\n",
       "      <td>3</td>\n",
       "      <td>5</td>\n",
       "      <td>0.274609</td>\n",
       "    </tr>\n",
       "    <tr>\n",
       "      <th>41</th>\n",
       "      <td>GMM</td>\n",
       "      <td>7</td>\n",
       "      <td>2</td>\n",
       "      <td>0.274204</td>\n",
       "    </tr>\n",
       "    <tr>\n",
       "      <th>42</th>\n",
       "      <td>Agglomerative</td>\n",
       "      <td>3</td>\n",
       "      <td>4</td>\n",
       "      <td>0.273549</td>\n",
       "    </tr>\n",
       "    <tr>\n",
       "      <th>43</th>\n",
       "      <td>Agglomerative</td>\n",
       "      <td>7</td>\n",
       "      <td>3</td>\n",
       "      <td>0.272060</td>\n",
       "    </tr>\n",
       "    <tr>\n",
       "      <th>44</th>\n",
       "      <td>GMM</td>\n",
       "      <td>5</td>\n",
       "      <td>2</td>\n",
       "      <td>0.271823</td>\n",
       "    </tr>\n",
       "    <tr>\n",
       "      <th>45</th>\n",
       "      <td>kmeans</td>\n",
       "      <td>4</td>\n",
       "      <td>4</td>\n",
       "      <td>0.270125</td>\n",
       "    </tr>\n",
       "    <tr>\n",
       "      <th>46</th>\n",
       "      <td>kmeans</td>\n",
       "      <td>2</td>\n",
       "      <td>6</td>\n",
       "      <td>0.267127</td>\n",
       "    </tr>\n",
       "    <tr>\n",
       "      <th>47</th>\n",
       "      <td>GMM</td>\n",
       "      <td>2</td>\n",
       "      <td>6</td>\n",
       "      <td>0.262485</td>\n",
       "    </tr>\n",
       "    <tr>\n",
       "      <th>48</th>\n",
       "      <td>Agglomerative</td>\n",
       "      <td>4</td>\n",
       "      <td>6</td>\n",
       "      <td>0.261265</td>\n",
       "    </tr>\n",
       "    <tr>\n",
       "      <th>49</th>\n",
       "      <td>GMM</td>\n",
       "      <td>4</td>\n",
       "      <td>2</td>\n",
       "      <td>0.260663</td>\n",
       "    </tr>\n",
       "  </tbody>\n",
       "</table>\n",
       "</div>"
      ],
      "text/plain": [
       "        Clusterer  K N_components  Silhouette\n",
       "0          kmeans  2            2    0.447602\n",
       "1   Agglomerative  2            2    0.435037\n",
       "2             GMM  2            2    0.428467\n",
       "3          kmeans  3            2    0.424344\n",
       "4             GMM  3            2    0.417034\n",
       "5   Agglomerative  3            2    0.408917\n",
       "6          kmeans  4            2    0.402274\n",
       "7          kmeans  5            2    0.400898\n",
       "8          kmeans  6            2    0.399334\n",
       "9          kmeans  7            2    0.369838\n",
       "10  Agglomerative  7            2    0.368541\n",
       "11         kmeans  2            3    0.366420\n",
       "12  Agglomerative  6            2    0.362126\n",
       "13            GMM  2            3    0.359156\n",
       "14  Agglomerative  5            2    0.353853\n",
       "15  Agglomerative  4            2    0.352369\n",
       "16         kmeans  3            3    0.345055\n",
       "17  Agglomerative  2            3    0.344153\n",
       "18         kmeans  4            3    0.342500\n",
       "19  Agglomerative  3            3    0.334109\n",
       "20            GMM  4            3    0.334064\n",
       "21            GMM  2            4    0.318145\n",
       "22         kmeans  2            4    0.318145\n",
       "23            GMM  3            3    0.309548\n",
       "24            GMM  6            2    0.306843\n",
       "25            GMM  4            4    0.299040\n",
       "26         kmeans  6            3    0.298254\n",
       "27  Agglomerative  2            4    0.296482\n",
       "28  Agglomerative  4            3    0.295112\n",
       "29  Agglomerative  4            5    0.290263\n",
       "30            GMM  4            5    0.289920\n",
       "31         kmeans  5            3    0.288884\n",
       "32            GMM  5            3    0.288549\n",
       "33         kmeans  7            3    0.288160\n",
       "34         kmeans  3            4    0.286390\n",
       "35         kmeans  2            5    0.285665\n",
       "36  Agglomerative  3            5    0.282461\n",
       "37  Agglomerative  6            3    0.281814\n",
       "38  Agglomerative  2            5    0.277993\n",
       "39  Agglomerative  5            3    0.276285\n",
       "40         kmeans  3            5    0.274609\n",
       "41            GMM  7            2    0.274204\n",
       "42  Agglomerative  3            4    0.273549\n",
       "43  Agglomerative  7            3    0.272060\n",
       "44            GMM  5            2    0.271823\n",
       "45         kmeans  4            4    0.270125\n",
       "46         kmeans  2            6    0.267127\n",
       "47            GMM  2            6    0.262485\n",
       "48  Agglomerative  4            6    0.261265\n",
       "49            GMM  4            2    0.260663"
      ]
     },
     "execution_count": 38,
     "metadata": {},
     "output_type": "execute_result"
    }
   ],
   "source": [
    "from sklearn.metrics import silhouette_score\n",
    "from sklearn.cluster import spectral_clustering, AgglomerativeClustering, DBSCAN, OPTICS\n",
    "\n",
    "# calculate silhoutte scores for k 2 to k 7\n",
    "# repeat for kmeans and gmm\n",
    "\n",
    "k_values = range(2, 8)\n",
    "n_components = range(2, 8)\n",
    "silhouette_scores = pd.DataFrame(\n",
    "    columns=[\"Clusterer\", \"K\", \"N_components\", \"Silhouette\"]\n",
    ")\n",
    "for c in n_components:\n",
    "    for k in k_values:\n",
    "        # KMeans\n",
    "        X_pca = PCA(n_components=c).fit(X).transform(X)\n",
    "        kmeans_cluster = KMeans(n_clusters=k, random_state=0).fit(X_pca)\n",
    "        kmeans_labels = kmeans_cluster.labels_\n",
    "        kmeans_score = silhouette_score(X_pca, kmeans_labels)\n",
    "        new_row = pd.DataFrame(\n",
    "            data=[[\"kmeans\", k, c, kmeans_score]],\n",
    "            columns=[\"Clusterer\", \"K\", \"N_components\", \"Silhouette\"],\n",
    "        )\n",
    "\n",
    "        silhouette_scores = pd.concat([silhouette_scores, new_row])\n",
    "\n",
    "        # GaussianMixture\n",
    "        gmm_cluster = GaussianMixture(n_components=k).fit(X_pca)\n",
    "        gmm_labels = gmm_cluster.predict(X_pca)\n",
    "        gmm_score = silhouette_score(X_pca, gmm_labels)\n",
    "        new_row = pd.DataFrame(\n",
    "            data=[[\"GMM\", k, c, gmm_score]],\n",
    "            columns=[\"Clusterer\", \"K\", \"N_components\", \"Silhouette\"],\n",
    "        )\n",
    "\n",
    "        silhouette_scores = pd.concat([silhouette_scores, new_row])\n",
    "\n",
    "        # Spectral\n",
    "        spectral_cluster = SpectralClustering(\n",
    "            n_clusters=k,\n",
    "        ).fit(X_pca)\n",
    "        spectral_clustering_labels = spectral_cluster.labels_\n",
    "        spectral_clustering_score = silhouette_score(X_pca, spectral_clustering_labels)\n",
    "        new_row = pd.DataFrame(\n",
    "            data=[[\"Spectral\", k, c, spectral_clustering_score]],\n",
    "            columns=[\"Clusterer\", \"K\", \"N_components\", \"Silhouette\"],\n",
    "        )\n",
    "        # Agglomerative\n",
    "        agglom_cluster = AgglomerativeClustering(\n",
    "            n_clusters=k,\n",
    "        ).fit(X_pca)\n",
    "        agglom_labels = agglom_cluster.labels_\n",
    "        agglom_score = silhouette_score(X_pca, agglom_labels)\n",
    "        new_row = pd.DataFrame(\n",
    "            data=[[\"Agglomerative\", k, c, agglom_score]],\n",
    "            columns=[\"Clusterer\", \"K\", \"N_components\", \"Silhouette\"],\n",
    "        )\n",
    "\n",
    "        silhouette_scores = pd.concat([silhouette_scores, new_row])\n",
    "        # DBSCAN\n",
    "        dbscan_cluster = OPTICS(min_samples=30).fit(X_pca)\n",
    "        dbscan_labels = dbscan_cluster.labels_\n",
    "        if len(np.unique(dbscan_labels)) <= 1:\n",
    "            dbscan_score = -1\n",
    "        else:\n",
    "            dbscan_score = silhouette_score(X_pca, dbscan_labels)\n",
    "\n",
    "        new_row = pd.DataFrame(\n",
    "            data=[[\"DBSCAN\", k, c, dbscan_score]],\n",
    "            columns=[\"Clusterer\", \"K\", \"N_components\", \"Silhouette\"],\n",
    "        )\n",
    "    silhouette_scores = pd.concat([silhouette_scores, new_row])\n",
    "\n",
    "silhouette_scores.sort_values(\"Silhouette\", ascending=False, inplace=True)\n",
    "silhouette_scores.reset_index(drop=True, inplace=True)\n",
    "silhouette_scores.head(50)\n"
   ]
  },
  {
   "cell_type": "code",
   "execution_count": 39,
   "metadata": {},
   "outputs": [
    {
     "data": {
      "image/png": "[encoded data removed]",
      "text/plain": [
       "<Figure size 1000x800 with 1 Axes>"
      ]
     },
     "metadata": {},
     "output_type": "display_data"
    }
   ],
   "source": [
    "# cluster = KMeans(n_clusters=4, random_state=0).fit(X_pca)\n",
    "# cluster = SpectralClustering(n_clusters=4, random_state=0).fit(X_pca)\n",
    "cluster = KMeans(4).fit_predict(X_pca[:, :2])\n",
    "\n",
    "fig, ax = plt.subplots(figsize=(10, 8))\n",
    "ax.scatter(X_pca[:, 0], X_pca[:, 1], c=cluster, cmap=\"viridis\")\n",
    "for i, label in enumerate(df.GeoName):\n",
    "    ax.text(X_pca[i, 0], X_pca[i, 1], label, fontsize=8)\n"
   ]
  },
  {
   "cell_type": "code",
   "execution_count": 40,
   "metadata": {},
   "outputs": [
    {
     "data": {
      "text/plain": [
       "percent Good Air Quality Days            -0.000372\n",
       "Total Employment in State/Area           -0.019449\n",
       "Property crime rate per 100,000 people    0.081001\n",
       "2022 GDP                                 -0.100565\n",
       "Gas Tax (cents)                          -0.104456\n",
       "Violent crime rate per 100,000 people     0.199786\n",
       "percent formal_vol                       -0.202926\n",
       "Internet Access Percent 2021             -0.208514\n",
       "Uninsured                                 0.243715\n",
       "A_MEDIAN                                 -0.265959\n",
       "Per Bach or Higher                       -0.322166\n",
       "Happiness                                -0.380444\n",
       "2022 Median                              -0.381703\n",
       "2020 Life Expect                         -0.401457\n",
       "Poverty Percent                           0.402417\n",
       "dtype: float64"
      ]
     },
     "execution_count": 40,
     "metadata": {},
     "output_type": "execute_result"
    },
    {
     "data": {
      "image/png": "[encoded data removed]",
      "text/plain": [
       "<Figure size 300x500 with 1 Axes>"
      ]
     },
     "metadata": {},
     "output_type": "display_data"
    }
   ],
   "source": [
    "display_loadings(pca, feature_names, figsize=(3, 5), component=0)\n"
   ]
  },
  {
   "cell_type": "code",
   "execution_count": 41,
   "metadata": {},
   "outputs": [
    {
     "data": {
      "text/plain": [
       "2020 Life Expect                          0.062157\n",
       "Happiness                                 0.093815\n",
       "2022 Median                               0.097949\n",
       "Poverty Percent                           0.124303\n",
       "Per Bach or Higher                        0.147039\n",
       "Internet Access Percent 2021             -0.178594\n",
       "Uninsured                                 0.208764\n",
       "Gas Tax (cents)                           0.220756\n",
       "A_MEDIAN                                  0.263256\n",
       "Violent crime rate per 100,000 people     0.276724\n",
       "percent formal_vol                       -0.296955\n",
       "2022 GDP                                  0.313653\n",
       "Property crime rate per 100,000 people    0.323749\n",
       "percent Good Air Quality Days            -0.337715\n",
       "Total Employment in State/Area            0.514930\n",
       "dtype: float64"
      ]
     },
     "execution_count": 41,
     "metadata": {},
     "output_type": "execute_result"
    },
    {
     "data": {
      "image/png": "[encoded data removed]",
      "text/plain": [
       "<Figure size 300x600 with 1 Axes>"
      ]
     },
     "metadata": {},
     "output_type": "display_data"
    }
   ],
   "source": [
    "display_loadings(pca, feature_names, figsize=(3, 6), component=1)\n"
   ]
  },
  {
   "cell_type": "code",
   "execution_count": 42,
   "metadata": {},
   "outputs": [
    {
     "data": {
      "application/vnd.plotly.v1+json": {
       "config": {
        "plotlyServerURL": "https://plot.ly"
       },
       "data": [
        {
         "coloraxis": "coloraxis",
         "geo": "geo",
         "hovertemplate": "ST_ABR=%{location}<br>cluster=%{z}<extra></extra>",
         "locationmode": "USA-states",
         "locations": [
          "AL",
          "AK",
          "AZ",
          "AR",
          "CA",
          "CO",
          "CT",
          "DE",
          "DC",
          "FL",
          "GA",
          "HI",
          "ID",
          "IL",
          "IN",
          "IA",
          "KS",
          "KY",
          "LA",
          "ME",
          "MD",
          "MA",
          "MI",
          "MN",
          "MS",
          "MO",
          "MT",
          "NE",
          "NV",
          "NH",
          "NJ",
          "NM",
          "NY",
          "NC",
          "ND",
          "OH",
          "OK",
          "OR",
          "PA",
          "RI",
          "SC",
          "SD",
          "TN",
          "TX",
          "UT",
          "VT",
          "VA",
          "WA",
          "WV",
          "WI",
          "WY"
         ],
         "name": "",
         "type": "choropleth",
         "z": [
          1,
          3,
          3,
          1,
          2,
          0,
          0,
          0,
          0,
          3,
          3,
          0,
          0,
          0,
          3,
          0,
          0,
          1,
          1,
          0,
          0,
          0,
          3,
          0,
          1,
          3,
          3,
          0,
          3,
          0,
          0,
          1,
          3,
          3,
          0,
          3,
          1,
          0,
          3,
          0,
          3,
          0,
          3,
          3,
          0,
          0,
          0,
          0,
          1,
          0,
          0
         ]
        },
        {
         "locationmode": "USA-states",
         "locations": [
          "AL",
          "AK",
          "AZ",
          "AR",
          "CA",
          "CO",
          "CT",
          "DE",
          "DC",
          "FL",
          "GA",
          "HI",
          "ID",
          "IL",
          "IN",
          "IA",
          "KS",
          "KY",
          "LA",
          "ME",
          "MD",
          "MA",
          "MI",
          "MN",
          "MS",
          "MO",
          "MT",
          "NE",
          "NV",
          "NH",
          "NJ",
          "NM",
          "NY",
          "NC",
          "ND",
          "OH",
          "OK",
          "OR",
          "PA",
          "RI",
          "SC",
          "SD",
          "TN",
          "TX",
          "UT",
          "VT",
          "VA",
          "WA",
          "WV",
          "WI",
          "WY"
         ],
         "mode": "text",
         "text": [
          "AL",
          "AK",
          "AZ",
          "AR",
          "CA",
          "CO",
          "CT",
          "DE",
          "DC",
          "FL",
          "GA",
          "HI",
          "ID",
          "IL",
          "IN",
          "IA",
          "KS",
          "KY",
          "LA",
          "ME",
          "MD",
          "MA",
          "MI",
          "MN",
          "MS",
          "MO",
          "MT",
          "NE",
          "NV",
          "NH",
          "NJ",
          "NM",
          "NY",
          "NC",
          "ND",
          "OH",
          "OK",
          "OR",
          "PA",
          "RI",
          "SC",
          "SD",
          "TN",
          "TX",
          "UT",
          "VT",
          "VA",
          "WA",
          "WV",
          "WI",
          "WY"
         ],
         "type": "scattergeo"
        }
       ],
       "layout": {
        "coloraxis": {
         "colorbar": {
          "title": {
           "text": "cluster"
          }
         },
         "colorscale": [
          [
           0,
           "#0d0887"
          ],
          [
           0.1111111111111111,
           "#46039f"
          ],
          [
           0.2222222222222222,
           "#7201a8"
          ],
          [
           0.3333333333333333,
           "#9c179e"
          ],
          [
           0.4444444444444444,
           "#bd3786"
          ],
          [
           0.5555555555555556,
           "#d8576b"
          ],
          [
           0.6666666666666666,
           "#ed7953"
          ],
          [
           0.7777777777777778,
           "#fb9f3a"
          ],
          [
           0.8888888888888888,
           "#fdca26"
          ],
          [
           1,
           "#f0f921"
          ]
         ]
        },
        "geo": {
         "center": {},
         "domain": {
          "x": [
           0,
           1
          ],
          "y": [
           0,
           1
          ]
         },
         "scope": "usa"
        },
        "legend": {
         "tracegroupgap": 0
        },
        "template": {
         "data": {
          "bar": [
           {
            "error_x": {
             "color": "#2a3f5f"
            },
            "error_y": {
             "color": "#2a3f5f"
            },
            "marker": {
             "line": {
              "color": "#E5ECF6",
              "width": 0.5
             },
             "pattern": {
              "fillmode": "overlay",
              "size": 10,
              "solidity": 0.2
             }
            },
            "type": "bar"
           }
          ],
          "barpolar": [
           {
            "marker": {
             "line": {
              "color": "#E5ECF6",
              "width": 0.5
             },
             "pattern": {
              "fillmode": "overlay",
              "size": 10,
              "solidity": 0.2
             }
            },
            "type": "barpolar"
           }
          ],
          "carpet": [
           {
            "aaxis": {
             "endlinecolor": "#2a3f5f",
             "gridcolor": "white",
             "linecolor": "white",
             "minorgridcolor": "white",
             "startlinecolor": "#2a3f5f"
            },
            "baxis": {
             "endlinecolor": "#2a3f5f",
             "gridcolor": "white",
             "linecolor": "white",
             "minorgridcolor": "white",
             "startlinecolor": "#2a3f5f"
            },
            "type": "carpet"
           }
          ],
          "choropleth": [
           {
            "colorbar": {
             "outlinewidth": 0,
             "ticks": ""
            },
            "type": "choropleth"
           }
          ],
          "contour": [
           {
            "colorbar": {
             "outlinewidth": 0,
             "ticks": ""
            },
            "colorscale": [
             [
              0,
              "#0d0887"
             ],
             [
              0.1111111111111111,
              "#46039f"
             ],
             [
              0.2222222222222222,
              "#7201a8"
             ],
             [
              0.3333333333333333,
              "#9c179e"
             ],
             [
              0.4444444444444444,
              "#bd3786"
             ],
             [
              0.5555555555555556,
              "#d8576b"
             ],
             [
              0.6666666666666666,
              "#ed7953"
             ],
             [
              0.7777777777777778,
              "#fb9f3a"
             ],
             [
              0.8888888888888888,
              "#fdca26"
             ],
             [
              1,
              "#f0f921"
             ]
            ],
            "type": "contour"
           }
          ],
          "contourcarpet": [
           {
            "colorbar": {
             "outlinewidth": 0,
             "ticks": ""
            },
            "type": "contourcarpet"
           }
          ],
          "heatmap": [
           {
            "colorbar": {
             "outlinewidth": 0,
             "ticks": ""
            },
            "colorscale": [
             [
              0,
              "#0d0887"
             ],
             [
              0.1111111111111111,
              "#46039f"
             ],
             [
              0.2222222222222222,
              "#7201a8"
             ],
             [
              0.3333333333333333,
              "#9c179e"
             ],
             [
              0.4444444444444444,
              "#bd3786"
             ],
             [
              0.5555555555555556,
              "#d8576b"
             ],
             [
              0.6666666666666666,
              "#ed7953"
             ],
             [
              0.7777777777777778,
              "#fb9f3a"
             ],
             [
              0.8888888888888888,
              "#fdca26"
             ],
             [
              1,
              "#f0f921"
             ]
            ],
            "type": "heatmap"
           }
          ],
          "heatmapgl": [
           {
            "colorbar": {
             "outlinewidth": 0,
             "ticks": ""
            },
            "colorscale": [
             [
              0,
              "#0d0887"
             ],
             [
              0.1111111111111111,
              "#46039f"
             ],
             [
              0.2222222222222222,
              "#7201a8"
             ],
             [
              0.3333333333333333,
              "#9c179e"
             ],
             [
              0.4444444444444444,
              "#bd3786"
             ],
             [
              0.5555555555555556,
              "#d8576b"
             ],
             [
              0.6666666666666666,
              "#ed7953"
             ],
             [
              0.7777777777777778,
              "#fb9f3a"
             ],
             [
              0.8888888888888888,
              "#fdca26"
             ],
             [
              1,
              "#f0f921"
             ]
            ],
            "type": "heatmapgl"
           }
          ],
          "histogram": [
           {
            "marker": {
             "pattern": {
              "fillmode": "overlay",
              "size": 10,
              "solidity": 0.2
             }
            },
            "type": "histogram"
           }
          ],
          "histogram2d": [
           {
            "colorbar": {
             "outlinewidth": 0,
             "ticks": ""
            },
            "colorscale": [
             [
              0,
              "#0d0887"
             ],
             [
              0.1111111111111111,
              "#46039f"
             ],
             [
              0.2222222222222222,
              "#7201a8"
             ],
             [
              0.3333333333333333,
              "#9c179e"
             ],
             [
              0.4444444444444444,
              "#bd3786"
             ],
             [
              0.5555555555555556,
              "#d8576b"
             ],
             [
              0.6666666666666666,
              "#ed7953"
             ],
             [
              0.7777777777777778,
              "#fb9f3a"
             ],
             [
              0.8888888888888888,
              "#fdca26"
             ],
             [
              1,
              "#f0f921"
             ]
            ],
            "type": "histogram2d"
           }
          ],
          "histogram2dcontour": [
           {
            "colorbar": {
             "outlinewidth": 0,
             "ticks": ""
            },
            "colorscale": [
             [
              0,
              "#0d0887"
             ],
             [
              0.1111111111111111,
              "#46039f"
             ],
             [
              0.2222222222222222,
              "#7201a8"
             ],
             [
              0.3333333333333333,
              "#9c179e"
             ],
             [
              0.4444444444444444,
              "#bd3786"
             ],
             [
              0.5555555555555556,
              "#d8576b"
             ],
             [
              0.6666666666666666,
              "#ed7953"
             ],
             [
              0.7777777777777778,
              "#fb9f3a"
             ],
             [
              0.8888888888888888,
              "#fdca26"
             ],
             [
              1,
              "#f0f921"
             ]
            ],
            "type": "histogram2dcontour"
           }
          ],
          "mesh3d": [
           {
            "colorbar": {
             "outlinewidth": 0,
             "ticks": ""
            },
            "type": "mesh3d"
           }
          ],
          "parcoords": [
           {
            "line": {
             "colorbar": {
              "outlinewidth": 0,
              "ticks": ""
             }
            },
            "type": "parcoords"
           }
          ],
          "pie": [
           {
            "automargin": true,
            "type": "pie"
           }
          ],
          "scatter": [
           {
            "fillpattern": {
             "fillmode": "overlay",
             "size": 10,
             "solidity": 0.2
            },
            "type": "scatter"
           }
          ],
          "scatter3d": [
           {
            "line": {
             "colorbar": {
              "outlinewidth": 0,
              "ticks": ""
             }
            },
            "marker": {
             "colorbar": {
              "outlinewidth": 0,
              "ticks": ""
             }
            },
            "type": "scatter3d"
           }
          ],
          "scattercarpet": [
           {
            "marker": {
             "colorbar": {
              "outlinewidth": 0,
              "ticks": ""
             }
            },
            "type": "scattercarpet"
           }
          ],
          "scattergeo": [
           {
            "marker": {
             "colorbar": {
              "outlinewidth": 0,
              "ticks": ""
             }
            },
            "type": "scattergeo"
           }
          ],
          "scattergl": [
           {
            "marker": {
             "colorbar": {
              "outlinewidth": 0,
              "ticks": ""
             }
            },
            "type": "scattergl"
           }
          ],
          "scattermapbox": [
           {
            "marker": {
             "colorbar": {
              "outlinewidth": 0,
              "ticks": ""
             }
            },
            "type": "scattermapbox"
           }
          ],
          "scatterpolar": [
           {
            "marker": {
             "colorbar": {
              "outlinewidth": 0,
              "ticks": ""
             }
            },
            "type": "scatterpolar"
           }
          ],
          "scatterpolargl": [
           {
            "marker": {
             "colorbar": {
              "outlinewidth": 0,
              "ticks": ""
             }
            },
            "type": "scatterpolargl"
           }
          ],
          "scatterternary": [
           {
            "marker": {
             "colorbar": {
              "outlinewidth": 0,
              "ticks": ""
             }
            },
            "type": "scatterternary"
           }
          ],
          "surface": [
           {
            "colorbar": {
             "outlinewidth": 0,
             "ticks": ""
            },
            "colorscale": [
             [
              0,
              "#0d0887"
             ],
             [
              0.1111111111111111,
              "#46039f"
             ],
             [
              0.2222222222222222,
              "#7201a8"
             ],
             [
              0.3333333333333333,
              "#9c179e"
             ],
             [
              0.4444444444444444,
              "#bd3786"
             ],
             [
              0.5555555555555556,
              "#d8576b"
             ],
             [
              0.6666666666666666,
              "#ed7953"
             ],
             [
              0.7777777777777778,
              "#fb9f3a"
             ],
             [
              0.8888888888888888,
              "#fdca26"
             ],
             [
              1,
              "#f0f921"
             ]
            ],
            "type": "surface"
           }
          ],
          "table": [
           {
            "cells": {
             "fill": {
              "color": "#EBF0F8"
             },
             "line": {
              "color": "white"
             }
            },
            "header": {
             "fill": {
              "color": "#C8D4E3"
             },
             "line": {
              "color": "white"
             }
            },
            "type": "table"
           }
          ]
         },
         "layout": {
          "annotationdefaults": {
           "arrowcolor": "#2a3f5f",
           "arrowhead": 0,
           "arrowwidth": 1
          },
          "autotypenumbers": "strict",
          "coloraxis": {
           "colorbar": {
            "outlinewidth": 0,
            "ticks": ""
           }
          },
          "colorscale": {
           "diverging": [
            [
             0,
             "#8e0152"
            ],
            [
             0.1,
             "#c51b7d"
            ],
            [
             0.2,
             "#de77ae"
            ],
            [
             0.3,
             "#f1b6da"
            ],
            [
             0.4,
             "#fde0ef"
            ],
            [
             0.5,
             "#f7f7f7"
            ],
            [
             0.6,
             "#e6f5d0"
            ],
            [
             0.7,
             "#b8e186"
            ],
            [
             0.8,
             "#7fbc41"
            ],
            [
             0.9,
             "#4d9221"
            ],
            [
             1,
             "#276419"
            ]
           ],
           "sequential": [
            [
             0,
             "#0d0887"
            ],
            [
             0.1111111111111111,
             "#46039f"
            ],
            [
             0.2222222222222222,
             "#7201a8"
            ],
            [
             0.3333333333333333,
             "#9c179e"
            ],
            [
             0.4444444444444444,
             "#bd3786"
            ],
            [
             0.5555555555555556,
             "#d8576b"
            ],
            [
             0.6666666666666666,
             "#ed7953"
            ],
            [
             0.7777777777777778,
             "#fb9f3a"
            ],
            [
             0.8888888888888888,
             "#fdca26"
            ],
            [
             1,
             "#f0f921"
            ]
           ],
           "sequentialminus": [
            [
             0,
             "#0d0887"
            ],
            [
             0.1111111111111111,
             "#46039f"
            ],
            [
             0.2222222222222222,
             "#7201a8"
            ],
            [
             0.3333333333333333,
             "#9c179e"
            ],
            [
             0.4444444444444444,
             "#bd3786"
            ],
            [
             0.5555555555555556,
             "#d8576b"
            ],
            [
             0.6666666666666666,
             "#ed7953"
            ],
            [
             0.7777777777777778,
             "#fb9f3a"
            ],
            [
             0.8888888888888888,
             "#fdca26"
            ],
            [
             1,
             "#f0f921"
            ]
           ]
          },
          "colorway": [
           "#636efa",
           "#EF553B",
           "#00cc96",
           "#ab63fa",
           "#FFA15A",
           "#19d3f3",
           "#FF6692",
           "#B6E880",
           "#FF97FF",
           "#FECB52"
          ],
          "font": {
           "color": "#2a3f5f"
          },
          "geo": {
           "bgcolor": "white",
           "lakecolor": "white",
           "landcolor": "#E5ECF6",
           "showlakes": true,
           "showland": true,
           "subunitcolor": "white"
          },
          "hoverlabel": {
           "align": "left"
          },
          "hovermode": "closest",
          "mapbox": {
           "style": "light"
          },
          "paper_bgcolor": "white",
          "plot_bgcolor": "#E5ECF6",
          "polar": {
           "angularaxis": {
            "gridcolor": "white",
            "linecolor": "white",
            "ticks": ""
           },
           "bgcolor": "#E5ECF6",
           "radialaxis": {
            "gridcolor": "white",
            "linecolor": "white",
            "ticks": ""
           }
          },
          "scene": {
           "xaxis": {
            "backgroundcolor": "#E5ECF6",
            "gridcolor": "white",
            "gridwidth": 2,
            "linecolor": "white",
            "showbackground": true,
            "ticks": "",
            "zerolinecolor": "white"
           },
           "yaxis": {
            "backgroundcolor": "#E5ECF6",
            "gridcolor": "white",
            "gridwidth": 2,
            "linecolor": "white",
            "showbackground": true,
            "ticks": "",
            "zerolinecolor": "white"
           },
           "zaxis": {
            "backgroundcolor": "#E5ECF6",
            "gridcolor": "white",
            "gridwidth": 2,
            "linecolor": "white",
            "showbackground": true,
            "ticks": "",
            "zerolinecolor": "white"
           }
          },
          "shapedefaults": {
           "line": {
            "color": "#2a3f5f"
           }
          },
          "ternary": {
           "aaxis": {
            "gridcolor": "white",
            "linecolor": "white",
            "ticks": ""
           },
           "baxis": {
            "gridcolor": "white",
            "linecolor": "white",
            "ticks": ""
           },
           "bgcolor": "#E5ECF6",
           "caxis": {
            "gridcolor": "white",
            "linecolor": "white",
            "ticks": ""
           }
          },
          "title": {
           "x": 0.05
          },
          "xaxis": {
           "automargin": true,
           "gridcolor": "white",
           "linecolor": "white",
           "ticks": "",
           "title": {
            "standoff": 15
           },
           "zerolinecolor": "white",
           "zerolinewidth": 2
          },
          "yaxis": {
           "automargin": true,
           "gridcolor": "white",
           "linecolor": "white",
           "ticks": "",
           "title": {
            "standoff": 15
           },
           "zerolinecolor": "white",
           "zerolinewidth": 2
          }
         }
        },
        "title": {
         "text": "K-Means Clustering of US States"
        }
       }
      },
      "text/html": [
       "<div>                            <div id=\"3c20bacc-5082-4cec-b22d-2694d1a368cd\" class=\"plotly-graph-div\" style=\"height:525px; width:100%;\"></div>            <script type=\"text/javascript\">                require([\"plotly\"], function(Plotly) {                    window.PLOTLYENV=window.PLOTLYENV || {};                                    if (document.getElementById(\"3c20bacc-5082-4cec-b22d-2694d1a368cd\")) {                    Plotly.newPlot(                        \"3c20bacc-5082-4cec-b22d-2694d1a368cd\",                        [{\"coloraxis\":\"coloraxis\",\"geo\":\"geo\",\"hovertemplate\":\"ST_ABR=%{location}\\u003cbr\\u003ecluster=%{z}\\u003cextra\\u003e\\u003c\\u002fextra\\u003e\",\"locationmode\":\"USA-states\",\"locations\":[\"AL\",\"AK\",\"AZ\",\"AR\",\"CA\",\"CO\",\"CT\",\"DE\",\"DC\",\"FL\",\"GA\",\"HI\",\"ID\",\"IL\",\"IN\",\"IA\",\"KS\",\"KY\",\"LA\",\"ME\",\"MD\",\"MA\",\"MI\",\"MN\",\"MS\",\"MO\",\"MT\",\"NE\",\"NV\",\"NH\",\"NJ\",\"NM\",\"NY\",\"NC\",\"ND\",\"OH\",\"OK\",\"OR\",\"PA\",\"RI\",\"SC\",\"SD\",\"TN\",\"TX\",\"UT\",\"VT\",\"VA\",\"WA\",\"WV\",\"WI\",\"WY\"],\"name\":\"\",\"z\":[1,3,3,1,2,0,0,0,0,3,3,0,0,0,3,0,0,1,1,0,0,0,3,0,1,3,3,0,3,0,0,1,3,3,0,3,1,0,3,0,3,0,3,3,0,0,0,0,1,0,0],\"type\":\"choropleth\"},{\"locationmode\":\"USA-states\",\"locations\":[\"AL\",\"AK\",\"AZ\",\"AR\",\"CA\",\"CO\",\"CT\",\"DE\",\"DC\",\"FL\",\"GA\",\"HI\",\"ID\",\"IL\",\"IN\",\"IA\",\"KS\",\"KY\",\"LA\",\"ME\",\"MD\",\"MA\",\"MI\",\"MN\",\"MS\",\"MO\",\"MT\",\"NE\",\"NV\",\"NH\",\"NJ\",\"NM\",\"NY\",\"NC\",\"ND\",\"OH\",\"OK\",\"OR\",\"PA\",\"RI\",\"SC\",\"SD\",\"TN\",\"TX\",\"UT\",\"VT\",\"VA\",\"WA\",\"WV\",\"WI\",\"WY\"],\"mode\":\"text\",\"text\":[\"AL\",\"AK\",\"AZ\",\"AR\",\"CA\",\"CO\",\"CT\",\"DE\",\"DC\",\"FL\",\"GA\",\"HI\",\"ID\",\"IL\",\"IN\",\"IA\",\"KS\",\"KY\",\"LA\",\"ME\",\"MD\",\"MA\",\"MI\",\"MN\",\"MS\",\"MO\",\"MT\",\"NE\",\"NV\",\"NH\",\"NJ\",\"NM\",\"NY\",\"NC\",\"ND\",\"OH\",\"OK\",\"OR\",\"PA\",\"RI\",\"SC\",\"SD\",\"TN\",\"TX\",\"UT\",\"VT\",\"VA\",\"WA\",\"WV\",\"WI\",\"WY\"],\"type\":\"scattergeo\"}],                        {\"template\":{\"data\":{\"histogram2dcontour\":[{\"type\":\"histogram2dcontour\",\"colorbar\":{\"outlinewidth\":0,\"ticks\":\"\"},\"colorscale\":[[0.0,\"#0d0887\"],[0.1111111111111111,\"#46039f\"],[0.2222222222222222,\"#7201a8\"],[0.3333333333333333,\"#9c179e\"],[0.4444444444444444,\"#bd3786\"],[0.5555555555555556,\"#d8576b\"],[0.6666666666666666,\"#ed7953\"],[0.7777777777777778,\"#fb9f3a\"],[0.8888888888888888,\"#fdca26\"],[1.0,\"#f0f921\"]]}],\"choropleth\":[{\"type\":\"choropleth\",\"colorbar\":{\"outlinewidth\":0,\"ticks\":\"\"}}],\"histogram2d\":[{\"type\":\"histogram2d\",\"colorbar\":{\"outlinewidth\":0,\"ticks\":\"\"},\"colorscale\":[[0.0,\"#0d0887\"],[0.1111111111111111,\"#46039f\"],[0.2222222222222222,\"#7201a8\"],[0.3333333333333333,\"#9c179e\"],[0.4444444444444444,\"#bd3786\"],[0.5555555555555556,\"#d8576b\"],[0.6666666666666666,\"#ed7953\"],[0.7777777777777778,\"#fb9f3a\"],[0.8888888888888888,\"#fdca26\"],[1.0,\"#f0f921\"]]}],\"heatmap\":[{\"type\":\"heatmap\",\"colorbar\":{\"outlinewidth\":0,\"ticks\":\"\"},\"colorscale\":[[0.0,\"#0d0887\"],[0.1111111111111111,\"#46039f\"],[0.2222222222222222,\"#7201a8\"],[0.3333333333333333,\"#9c179e\"],[0.4444444444444444,\"#bd3786\"],[0.5555555555555556,\"#d8576b\"],[0.6666666666666666,\"#ed7953\"],[0.7777777777777778,\"#fb9f3a\"],[0.8888888888888888,\"#fdca26\"],[1.0,\"#f0f921\"]]}],\"heatmapgl\":[{\"type\":\"heatmapgl\",\"colorbar\":{\"outlinewidth\":0,\"ticks\":\"\"},\"colorscale\":[[0.0,\"#0d0887\"],[0.1111111111111111,\"#46039f\"],[0.2222222222222222,\"#7201a8\"],[0.3333333333333333,\"#9c179e\"],[0.4444444444444444,\"#bd3786\"],[0.5555555555555556,\"#d8576b\"],[0.6666666666666666,\"#ed7953\"],[0.7777777777777778,\"#fb9f3a\"],[0.8888888888888888,\"#fdca26\"],[1.0,\"#f0f921\"]]}],\"contourcarpet\":[{\"type\":\"contourcarpet\",\"colorbar\":{\"outlinewidth\":0,\"ticks\":\"\"}}],\"contour\":[{\"type\":\"contour\",\"colorbar\":{\"outlinewidth\":0,\"ticks\":\"\"},\"colorscale\":[[0.0,\"#0d0887\"],[0.1111111111111111,\"#46039f\"],[0.2222222222222222,\"#7201a8\"],[0.3333333333333333,\"#9c179e\"],[0.4444444444444444,\"#bd3786\"],[0.5555555555555556,\"#d8576b\"],[0.6666666666666666,\"#ed7953\"],[0.7777777777777778,\"#fb9f3a\"],[0.8888888888888888,\"#fdca26\"],[1.0,\"#f0f921\"]]}],\"surface\":[{\"type\":\"surface\",\"colorbar\":{\"outlinewidth\":0,\"ticks\":\"\"},\"colorscale\":[[0.0,\"#0d0887\"],[0.1111111111111111,\"#46039f\"],[0.2222222222222222,\"#7201a8\"],[0.3333333333333333,\"#9c179e\"],[0.4444444444444444,\"#bd3786\"],[0.5555555555555556,\"#d8576b\"],[0.6666666666666666,\"#ed7953\"],[0.7777777777777778,\"#fb9f3a\"],[0.8888888888888888,\"#fdca26\"],[1.0,\"#f0f921\"]]}],\"mesh3d\":[{\"type\":\"mesh3d\",\"colorbar\":{\"outlinewidth\":0,\"ticks\":\"\"}}],\"scatter\":[{\"fillpattern\":{\"fillmode\":\"overlay\",\"size\":10,\"solidity\":0.2},\"type\":\"scatter\"}],\"parcoords\":[{\"type\":\"parcoords\",\"line\":{\"colorbar\":{\"outlinewidth\":0,\"ticks\":\"\"}}}],\"scatterpolargl\":[{\"type\":\"scatterpolargl\",\"marker\":{\"colorbar\":{\"outlinewidth\":0,\"ticks\":\"\"}}}],\"bar\":[{\"error_x\":{\"color\":\"#2a3f5f\"},\"error_y\":{\"color\":\"#2a3f5f\"},\"marker\":{\"line\":{\"color\":\"#E5ECF6\",\"width\":0.5},\"pattern\":{\"fillmode\":\"overlay\",\"size\":10,\"solidity\":0.2}},\"type\":\"bar\"}],\"scattergeo\":[{\"type\":\"scattergeo\",\"marker\":{\"colorbar\":{\"outlinewidth\":0,\"ticks\":\"\"}}}],\"scatterpolar\":[{\"type\":\"scatterpolar\",\"marker\":{\"colorbar\":{\"outlinewidth\":0,\"ticks\":\"\"}}}],\"histogram\":[{\"marker\":{\"pattern\":{\"fillmode\":\"overlay\",\"size\":10,\"solidity\":0.2}},\"type\":\"histogram\"}],\"scattergl\":[{\"type\":\"scattergl\",\"marker\":{\"colorbar\":{\"outlinewidth\":0,\"ticks\":\"\"}}}],\"scatter3d\":[{\"type\":\"scatter3d\",\"line\":{\"colorbar\":{\"outlinewidth\":0,\"ticks\":\"\"}},\"marker\":{\"colorbar\":{\"outlinewidth\":0,\"ticks\":\"\"}}}],\"scattermapbox\":[{\"type\":\"scattermapbox\",\"marker\":{\"colorbar\":{\"outlinewidth\":0,\"ticks\":\"\"}}}],\"scatterternary\":[{\"type\":\"scatterternary\",\"marker\":{\"colorbar\":{\"outlinewidth\":0,\"ticks\":\"\"}}}],\"scattercarpet\":[{\"type\":\"scattercarpet\",\"marker\":{\"colorbar\":{\"outlinewidth\":0,\"ticks\":\"\"}}}],\"carpet\":[{\"aaxis\":{\"endlinecolor\":\"#2a3f5f\",\"gridcolor\":\"white\",\"linecolor\":\"white\",\"minorgridcolor\":\"white\",\"startlinecolor\":\"#2a3f5f\"},\"baxis\":{\"endlinecolor\":\"#2a3f5f\",\"gridcolor\":\"white\",\"linecolor\":\"white\",\"minorgridcolor\":\"white\",\"startlinecolor\":\"#2a3f5f\"},\"type\":\"carpet\"}],\"table\":[{\"cells\":{\"fill\":{\"color\":\"#EBF0F8\"},\"line\":{\"color\":\"white\"}},\"header\":{\"fill\":{\"color\":\"#C8D4E3\"},\"line\":{\"color\":\"white\"}},\"type\":\"table\"}],\"barpolar\":[{\"marker\":{\"line\":{\"color\":\"#E5ECF6\",\"width\":0.5},\"pattern\":{\"fillmode\":\"overlay\",\"size\":10,\"solidity\":0.2}},\"type\":\"barpolar\"}],\"pie\":[{\"automargin\":true,\"type\":\"pie\"}]},\"layout\":{\"autotypenumbers\":\"strict\",\"colorway\":[\"#636efa\",\"#EF553B\",\"#00cc96\",\"#ab63fa\",\"#FFA15A\",\"#19d3f3\",\"#FF6692\",\"#B6E880\",\"#FF97FF\",\"#FECB52\"],\"font\":{\"color\":\"#2a3f5f\"},\"hovermode\":\"closest\",\"hoverlabel\":{\"align\":\"left\"},\"paper_bgcolor\":\"white\",\"plot_bgcolor\":\"#E5ECF6\",\"polar\":{\"bgcolor\":\"#E5ECF6\",\"angularaxis\":{\"gridcolor\":\"white\",\"linecolor\":\"white\",\"ticks\":\"\"},\"radialaxis\":{\"gridcolor\":\"white\",\"linecolor\":\"white\",\"ticks\":\"\"}},\"ternary\":{\"bgcolor\":\"#E5ECF6\",\"aaxis\":{\"gridcolor\":\"white\",\"linecolor\":\"white\",\"ticks\":\"\"},\"baxis\":{\"gridcolor\":\"white\",\"linecolor\":\"white\",\"ticks\":\"\"},\"caxis\":{\"gridcolor\":\"white\",\"linecolor\":\"white\",\"ticks\":\"\"}},\"coloraxis\":{\"colorbar\":{\"outlinewidth\":0,\"ticks\":\"\"}},\"colorscale\":{\"sequential\":[[0.0,\"#0d0887\"],[0.1111111111111111,\"#46039f\"],[0.2222222222222222,\"#7201a8\"],[0.3333333333333333,\"#9c179e\"],[0.4444444444444444,\"#bd3786\"],[0.5555555555555556,\"#d8576b\"],[0.6666666666666666,\"#ed7953\"],[0.7777777777777778,\"#fb9f3a\"],[0.8888888888888888,\"#fdca26\"],[1.0,\"#f0f921\"]],\"sequentialminus\":[[0.0,\"#0d0887\"],[0.1111111111111111,\"#46039f\"],[0.2222222222222222,\"#7201a8\"],[0.3333333333333333,\"#9c179e\"],[0.4444444444444444,\"#bd3786\"],[0.5555555555555556,\"#d8576b\"],[0.6666666666666666,\"#ed7953\"],[0.7777777777777778,\"#fb9f3a\"],[0.8888888888888888,\"#fdca26\"],[1.0,\"#f0f921\"]],\"diverging\":[[0,\"#8e0152\"],[0.1,\"#c51b7d\"],[0.2,\"#de77ae\"],[0.3,\"#f1b6da\"],[0.4,\"#fde0ef\"],[0.5,\"#f7f7f7\"],[0.6,\"#e6f5d0\"],[0.7,\"#b8e186\"],[0.8,\"#7fbc41\"],[0.9,\"#4d9221\"],[1,\"#276419\"]]},\"xaxis\":{\"gridcolor\":\"white\",\"linecolor\":\"white\",\"ticks\":\"\",\"title\":{\"standoff\":15},\"zerolinecolor\":\"white\",\"automargin\":true,\"zerolinewidth\":2},\"yaxis\":{\"gridcolor\":\"white\",\"linecolor\":\"white\",\"ticks\":\"\",\"title\":{\"standoff\":15},\"zerolinecolor\":\"white\",\"automargin\":true,\"zerolinewidth\":2},\"scene\":{\"xaxis\":{\"backgroundcolor\":\"#E5ECF6\",\"gridcolor\":\"white\",\"linecolor\":\"white\",\"showbackground\":true,\"ticks\":\"\",\"zerolinecolor\":\"white\",\"gridwidth\":2},\"yaxis\":{\"backgroundcolor\":\"#E5ECF6\",\"gridcolor\":\"white\",\"linecolor\":\"white\",\"showbackground\":true,\"ticks\":\"\",\"zerolinecolor\":\"white\",\"gridwidth\":2},\"zaxis\":{\"backgroundcolor\":\"#E5ECF6\",\"gridcolor\":\"white\",\"linecolor\":\"white\",\"showbackground\":true,\"ticks\":\"\",\"zerolinecolor\":\"white\",\"gridwidth\":2}},\"shapedefaults\":{\"line\":{\"color\":\"#2a3f5f\"}},\"annotationdefaults\":{\"arrowcolor\":\"#2a3f5f\",\"arrowhead\":0,\"arrowwidth\":1},\"geo\":{\"bgcolor\":\"white\",\"landcolor\":\"#E5ECF6\",\"subunitcolor\":\"white\",\"showland\":true,\"showlakes\":true,\"lakecolor\":\"white\"},\"title\":{\"x\":0.05},\"mapbox\":{\"style\":\"light\"}}},\"geo\":{\"domain\":{\"x\":[0.0,1.0],\"y\":[0.0,1.0]},\"center\":{},\"scope\":\"usa\"},\"coloraxis\":{\"colorbar\":{\"title\":{\"text\":\"cluster\"}},\"colorscale\":[[0.0,\"#0d0887\"],[0.1111111111111111,\"#46039f\"],[0.2222222222222222,\"#7201a8\"],[0.3333333333333333,\"#9c179e\"],[0.4444444444444444,\"#bd3786\"],[0.5555555555555556,\"#d8576b\"],[0.6666666666666666,\"#ed7953\"],[0.7777777777777778,\"#fb9f3a\"],[0.8888888888888888,\"#fdca26\"],[1.0,\"#f0f921\"]]},\"legend\":{\"tracegroupgap\":0},\"title\":{\"text\":\"K-Means Clustering of US States\"}},                        {\"responsive\": true}                    ).then(function(){\n",
       "                            \n",
       "var gd = document.getElementById('3c20bacc-5082-4cec-b22d-2694d1a368cd');\n",
       "var x = new MutationObserver(function (mutations, observer) {{\n",
       "        var display = window.getComputedStyle(gd).display;\n",
       "        if (!display || display === 'none') {{\n",
       "            console.log([gd, 'removed!']);\n",
       "            Plotly.purge(gd);\n",
       "            observer.disconnect();\n",
       "        }}\n",
       "}});\n",
       "\n",
       "// Listen for the removal of the full notebook cells\n",
       "var notebookContainer = gd.closest('#notebook-container');\n",
       "if (notebookContainer) {{\n",
       "    x.observe(notebookContainer, {childList: true});\n",
       "}}\n",
       "\n",
       "// Listen for the clearing of the current output cell\n",
       "var outputEl = gd.closest('.output');\n",
       "if (outputEl) {{\n",
       "    x.observe(outputEl, {childList: true});\n",
       "}}\n",
       "\n",
       "                        })                };                });            </script>        </div>"
      ]
     },
     "metadata": {},
     "output_type": "display_data"
    }
   ],
   "source": [
    "fips_to_state = {\n",
    "    \"01\": \"AL\",\n",
    "    \"02\": \"AK\",\n",
    "    \"04\": \"AZ\",\n",
    "    \"05\": \"AR\",\n",
    "    \"06\": \"CA\",\n",
    "    \"08\": \"CO\",\n",
    "    \"09\": \"CT\",\n",
    "    \"10\": \"DE\",\n",
    "    \"11\": \"DC\",\n",
    "    \"12\": \"FL\",\n",
    "    \"13\": \"GA\",\n",
    "    \"15\": \"HI\",\n",
    "    \"16\": \"ID\",\n",
    "    \"17\": \"IL\",\n",
    "    \"18\": \"IN\",\n",
    "    \"19\": \"IA\",\n",
    "    \"20\": \"KS\",\n",
    "    \"21\": \"KY\",\n",
    "    \"22\": \"LA\",\n",
    "    \"23\": \"ME\",\n",
    "    \"24\": \"MD\",\n",
    "    \"25\": \"MA\",\n",
    "    \"26\": \"MI\",\n",
    "    \"27\": \"MN\",\n",
    "    \"28\": \"MS\",\n",
    "    \"29\": \"MO\",\n",
    "    \"30\": \"MT\",\n",
    "    \"31\": \"NE\",\n",
    "    \"32\": \"NV\",\n",
    "    \"33\": \"NH\",\n",
    "    \"34\": \"NJ\",\n",
    "    \"35\": \"NM\",\n",
    "    \"36\": \"NY\",\n",
    "    \"37\": \"NC\",\n",
    "    \"38\": \"ND\",\n",
    "    \"39\": \"OH\",\n",
    "    \"40\": \"OK\",\n",
    "    \"41\": \"OR\",\n",
    "    \"42\": \"PA\",\n",
    "    \"44\": \"RI\",\n",
    "    \"45\": \"SC\",\n",
    "    \"46\": \"SD\",\n",
    "    \"47\": \"TN\",\n",
    "    \"48\": \"TX\",\n",
    "    \"49\": \"UT\",\n",
    "    \"50\": \"VT\",\n",
    "    \"51\": \"VA\",\n",
    "    \"53\": \"WA\",\n",
    "    \"54\": \"WV\",\n",
    "    \"55\": \"WI\",\n",
    "    \"56\": \"WY\",\n",
    "}\n",
    "#pad with zeros and extract first two digits of GeoFips column to create ST_FIPS\n",
    "df[\"ST_FIPS\"] = df[\"GeoFips\"].str.pad(5, \"left\", \"0\").str.slice(0, 2)\n",
    "# convert two digit fips to state abbreviation using the above defined mapping\n",
    "df[\"ST_ABR\"] = df[\"ST_FIPS\"].map(fips_to_state)\n",
    "\n",
    "# put the cluster label in the dataframe\n",
    "df[\"cluster\"] = cluster\n",
    "\n",
    "import plotly.express as px\n",
    "\n",
    "# Define a discrete color map\n",
    "color_discrete_map = {0: \"red\", 1: \"blue\", 2: \"green\", 3: \"orange\"}\n",
    "\n",
    "# Create a choropleth map\n",
    "fig = px.choropleth(\n",
    "    df,  # Dataframe\n",
    "    locations=\"ST_ABR\",  # Column with location info\n",
    "    color=\"cluster\",  # Column with the color values\n",
    "    color_discrete_map=color_discrete_map,  # Mapping of cluster to color\n",
    "    locationmode=\"USA-states\",  # Specifies the set of locations used in 'locations'\n",
    "    scope=\"usa\",  # Scope of the map\n",
    "    title=\"K-Means Clustering of US States\",\n",
    ")\n",
    "fig.add_scattergeo(\n",
    "    locations=df['ST_ABR'],    ###codes for states,\n",
    "    locationmode='USA-states',\n",
    "    text=df['ST_ABR'],\n",
    "    mode='text')\n",
    "\n",
    "fig.show()\n"
   ]
  },
  {
   "cell_type": "code",
   "execution_count": null,
   "metadata": {},
   "outputs": [],
   "source": []
  }
 ],
 "metadata": {
  "kernelspec": {
   "display_name": "cda_project",
   "language": "python",
   "name": "python3"
  },
  "language_info": {
   "codemirror_mode": {
    "name": "ipython",
    "version": 3
   },
   "file_extension": ".py",
   "mimetype": "text/x-python",
   "name": "python",
   "nbconvert_exporter": "python",
   "pygments_lexer": "ipython3",
   "version": "3.12.1"
  }
 },
 "nbformat": 4,
 "nbformat_minor": 2
}
