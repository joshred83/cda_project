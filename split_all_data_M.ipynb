{
 "cells": [
  {
   "cell_type": "code",
   "execution_count": 2,
   "metadata": {},
   "outputs": [],
   "source": [
    "import pandas as pd\n",
    "\n",
    "df = pd.read_excel(\"data/all_data_M_2022.xlsx\")\n"
   ]
  },
  {
   "cell_type": "code",
   "execution_count": 14,
   "metadata": {},
   "outputs": [],
   "source": [
    "# Keep detailed records for the Data Scientists Occupational classification\n",
    "df = df[(df[\"O_GROUP\"] == \"detailed\") & df[\"OCC_TITLE\"].str.contains(\"Data Scientist\")]\n"
   ]
  },
  {
   "cell_type": "code",
   "execution_count": 17,
   "metadata": {},
   "outputs": [],
   "source": [
    "df[df[\"AREA\"] == 99].to_csv(\"data/bls_all_data_M_2022_industry.csv\", index=False)\n"
   ]
  },
  {
   "cell_type": "code",
   "execution_count": 24,
   "metadata": {},
   "outputs": [],
   "source": [
    "df[df[\"AREA\"].between(1, 98, inclusive=\"both\")].to_csv(\n",
    "    \"data/bls_all_data_M_2022_states.csv\", index=False\n",
    ")\n"
   ]
  },
  {
   "cell_type": "code",
   "execution_count": 29,
   "metadata": {},
   "outputs": [],
   "source": [
    "df[df[\"AREA\"].gt(99) & ~df[\"AREA_TITLE\"].str.contains(\"nonmetropolitan\")].to_csv(\n",
    "    \"data/bls_all_data_M_2022_metro.csv\", index=False\n",
    ")\n"
   ]
  },
  {
   "cell_type": "code",
   "execution_count": 30,
   "metadata": {},
   "outputs": [],
   "source": [
    "df[df[\"AREA\"].gt(99) & df[\"AREA_TITLE\"].str.contains(\"nonmetropolitan\")].to_csv(\n",
    "    \"data/bls_all_data_M_2022_non_metro.csv\", index=False\n",
    ")\n"
   ]
  },
  {
   "cell_type": "code",
   "execution_count": null,
   "metadata": {},
   "outputs": [],
   "source": []
  }
 ],
 "metadata": {
  "kernelspec": {
   "display_name": "cda_project",
   "language": "python",
   "name": "python3"
  },
  "language_info": {
   "codemirror_mode": {
    "name": "ipython",
    "version": 3
   },
   "file_extension": ".py",
   "mimetype": "text/x-python",
   "name": "python",
   "nbconvert_exporter": "python",
   "pygments_lexer": "ipython3",
   "version": "3.12.1"
  }
 },
 "nbformat": 4,
 "nbformat_minor": 2
}
