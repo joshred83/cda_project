{
 "cells": [
  {
   "cell_type": "code",
   "execution_count": 39,
   "metadata": {},
   "outputs": [],
   "source": [
    "import pandas as pd\n",
    "import numpy as np\n",
    "employed_population = pd.read_csv(\"data/DS_salary_factors.csv\",\n",
    "                    usecols=[\"GeoName\",\"Total Employment in State/Area\"]).set_index(\"GeoName\", drop=True)\n",
    "state_data_scientists = pd.read_csv(\"data/bls_all_data_M_2022_states.csv\",\n",
    "                    usecols=[\"AREA_TITLE\",\"TOT_EMP\"]).set_index(\"AREA_TITLE\", drop=True)\n",
    "df  = pd.merge(employed_population, state_data_scientists, left_index=True, right_index=True)"
   ]
  },
  {
   "cell_type": "code",
   "execution_count": 44,
   "metadata": {},
   "outputs": [],
   "source": [
    "missing_states = df[df.TOT_EMP == \"**\"].index"
   ]
  },
  {
   "cell_type": "code",
   "execution_count": 46,
   "metadata": {},
   "outputs": [
    {
     "name": "stdout",
     "output_type": "stream",
     "text": [
      "\n",
      "mean : 0.0009470007410433261,\n",
      "std  : 0.0012279641717743432\n"
     ]
    }
   ],
   "source": [
    "df = df.replace({\"**\":np.nan}).astype(float)\n",
    "print(f\"\"\"\n",
    "mean : {(df.iloc[:, 1]/df.iloc[:, 0]).mean(axis=0)},\n",
    "std  : {(df.iloc[:, 1]/df.iloc[:, 0]).std(axis=0)}\"\"\")"
   ]
  },
  {
   "cell_type": "code",
   "execution_count": 80,
   "metadata": {},
   "outputs": [],
   "source": [
    "indus = pd.read_csv(\"data/2022_oes_ds_st_indus.csv\", usecols=[\"AREA_TITLE\", \"NAICS_TITLE\", \"I_GROUP\", \"TOT_EMP\"], thousands=',')\n",
    "indus = indus[indus[\"I_GROUP\"]==\"sector\"]\n",
    "indus[\"TOT_EMP\"] = pd.to_numeric(indus[\"TOT_EMP\"],\n",
    "                                  \"coerce\")\n"
   ]
  },
  {
   "cell_type": "code",
   "execution_count": 82,
   "metadata": {},
   "outputs": [],
   "source": [
    "indus_piv = indus.pivot(index=\"AREA_TITLE\", columns=\"NAICS_TITLE\", values=\"TOT_EMP\")\n",
    "\n",
    "indus_state_sum =indus_piv.T.sum()\n",
    "indus_state_sum.name=\"IND_EMP\""
   ]
  },
  {
   "cell_type": "code",
   "execution_count": 84,
   "metadata": {},
   "outputs": [],
   "source": [
    "df = df.merge(indus_state_sum, left_index=True, right_index=True)"
   ]
  },
  {
   "cell_type": "code",
   "execution_count": 87,
   "metadata": {},
   "outputs": [
    {
     "name": "stderr",
     "output_type": "stream",
     "text": [
      "/tmp/ipykernel_477233/2273939807.py:1: FutureWarning: DataFrame.fillna with 'method' is deprecated and will raise in a future version. Use obj.ffill() or obj.bfill() instead.\n",
      "  df.fillna(method=\"bfill\", axis=1)\n"
     ]
    },
    {
     "data": {
      "text/plain": [
       "Alabama                   NaN\n",
       "Alaska                   80.0\n",
       "Arizona                 260.0\n",
       "California               20.0\n",
       "Colorado                140.0\n",
       "Connecticut              70.0\n",
       "Delaware                 60.0\n",
       "District of Columbia    170.0\n",
       "Florida                  50.0\n",
       "Georgia                 320.0\n",
       "Hawaii                   40.0\n",
       "Idaho                   120.0\n",
       "Illinois                450.0\n",
       "Indiana                  60.0\n",
       "Iowa                     90.0\n",
       "Kansas                  110.0\n",
       "Kentucky                  NaN\n",
       "Louisiana               580.0\n",
       "Maine                    70.0\n",
       "Maryland                 90.0\n",
       "Massachusetts             NaN\n",
       "Michigan                240.0\n",
       "Minnesota                80.0\n",
       "Mississippi               NaN\n",
       "Missouri                170.0\n",
       "Montana                  40.0\n",
       "Nebraska                110.0\n",
       "Nevada                  150.0\n",
       "New Hampshire            90.0\n",
       "New Jersey              920.0\n",
       "New Mexico               80.0\n",
       "New York                 70.0\n",
       "North Carolina           60.0\n",
       "Ohio                    490.0\n",
       "Oklahoma                 70.0\n",
       "Oregon                   50.0\n",
       "Pennsylvania             80.0\n",
       "Rhode Island             90.0\n",
       "South Carolina           80.0\n",
       "South Dakota             10.0\n",
       "Tennessee                80.0\n",
       "Texas                   110.0\n",
       "Utah                    130.0\n",
       "Vermont                 150.0\n",
       "Virginia                 60.0\n",
       "Washington               70.0\n",
       "West Virginia            30.0\n",
       "Wisconsin                80.0\n",
       "dtype: float64"
      ]
     },
     "execution_count": 87,
     "metadata": {},
     "output_type": "execute_result"
    }
   ],
   "source": [
    "df.fillna(method=\"bfill\", axis=1)\n",
    "df.iloc[:, 1] - df.iloc[:, 2]"
   ]
  },
  {
   "cell_type": "code",
   "execution_count": null,
   "metadata": {},
   "outputs": [],
   "source": []
  }
 ],
 "metadata": {
  "kernelspec": {
   "display_name": "cda_project",
   "language": "python",
   "name": "python3"
  },
  "language_info": {
   "codemirror_mode": {
    "name": "ipython",
    "version": 3
   },
   "file_extension": ".py",
   "mimetype": "text/x-python",
   "name": "python",
   "nbconvert_exporter": "python",
   "pygments_lexer": "ipython3",
   "version": "3.12.1"
  }
 },
 "nbformat": 4,
 "nbformat_minor": 2
}
